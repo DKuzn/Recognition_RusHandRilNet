{
 "nbformat": 4,
 "nbformat_minor": 0,
 "metadata": {
  "colab": {
   "name": "Recognition RusHandRilNet.ipynb",
   "provenance": [],
   "authorship_tag": "ABX9TyPyMDmWu8EQ02POveUZbNaj"
  },
  "kernelspec": {
   "name": "python3",
   "language": "python",
   "display_name": "Python 3"
  },
  "accelerator": "GPU"
 },
 "cells": [
  {
   "cell_type": "code",
   "metadata": {
    "id": "Bi0-p9rdTnFw",
    "colab_type": "code",
    "colab": {}
   },
   "source": [
    "import torch\n",
    "import random\n",
    "import numpy as np\n",
    "import matplotlib.pyplot as plt\n",
    "from src.dataset_torch import R2HandRilDataset as ds\n",
    "\n",
    "random.seed(0)\n",
    "np.random.seed(0)\n",
    "torch.manual_seed(0)\n",
    "torch.cuda.manual_seed(0)\n",
    "torch.backends.cudnn.deterministic = True"
   ],
   "execution_count": 65,
   "outputs": []
  },
  {
   "cell_type": "code",
   "metadata": {
    "id": "38xMuAIHUcWD",
    "colab_type": "code",
    "colab": {}
   },
   "source": [
    "class R2HandRilNet(torch.nn.Module):\n",
    "    def __init__(self):\n",
    "        super(R2HandRilNet, self).__init__()\n",
    "\n",
    "        self.conv1 = torch.nn.Conv2d(\n",
    "            in_channels=1, out_channels=62, kernel_size=3, padding=1)\n",
    "        self.act1 = torch.nn.ReLU()\n",
    "        self.conv2 = torch.nn.Conv2d(\n",
    "            in_channels=62, out_channels=62, kernel_size=3, padding=1)\n",
    "        self.act2 = torch.nn.ReLU()\n",
    "        self.pool1 = torch.nn.MaxPool2d(kernel_size=(2, 2), stride=(2, 2))\n",
    "\n",
    "        self.conv3 = torch.nn.Conv2d(\n",
    "            in_channels=62, out_channels=186, kernel_size=3, padding=1)\n",
    "        self.act3 = torch.nn.ReLU()\n",
    "        self.conv4 = torch.nn.Conv2d(\n",
    "            in_channels=186, out_channels=186, kernel_size=3, padding=1)\n",
    "        self.act4 = torch.nn.ReLU()\n",
    "        self.pool2 = torch.nn.MaxPool2d(kernel_size=(2, 2), stride=(2, 2))\n",
    "\n",
    "        self.conv5 = torch.nn.Conv2d(\n",
    "            in_channels=186, out_channels=1080, kernel_size=3, padding=1)\n",
    "        self.act5 = torch.nn.ReLU()\n",
    "        self.conv6 = torch.nn.Conv2d(\n",
    "            in_channels=1080, out_channels=1080, kernel_size=3, padding=1)\n",
    "        self.act6 = torch.nn.ReLU()\n",
    "        self.pool3 = torch.nn.MaxPool2d(kernel_size=(2, 2), stride=(2, 2))\n",
    "\n",
    "        self.conv7 = torch.nn.Conv2d(\n",
    "            in_channels=1080, out_channels=1080, kernel_size=3, padding=0)\n",
    "\n",
    "        self.fc1 = torch.nn.Linear(1080, 1200)\n",
    "        self.act7 = torch.nn.ReLU()\n",
    "\n",
    "        self.fc2 = torch.nn.Linear(1200, 1200)\n",
    "        self.act8 = torch.nn.ReLU()\n",
    "\n",
    "        self.fc3 = torch.nn.Linear(1200, 62)\n",
    "        self.act9 = torch.nn.Softmax(dim=1)\n",
    "\n",
    "    def forward(self, x):\n",
    "        x = self.conv1(x)\n",
    "        x = self.act1(x)\n",
    "        x = self.conv2(x)\n",
    "        x = self.act2(x)\n",
    "        x = self.pool1(x)\n",
    "\n",
    "        x = self.conv3(x)\n",
    "        x = self.act3(x)\n",
    "        x = self.conv4(x)\n",
    "        x = self.act4(x)\n",
    "        x = self.pool2(x)\n",
    "\n",
    "        x = self.conv5(x)\n",
    "        x = self.act5(x)\n",
    "        x = self.conv6(x)\n",
    "        x = self.act6(x)\n",
    "        x = self.pool3(x)\n",
    "\n",
    "        x = self.conv7(x)\n",
    "\n",
    "        x = x.view(x.size(0), x.size(1) * x.size(2) * x.size(3))\n",
    "\n",
    "        x = self.fc1(x)\n",
    "        x = self.act7(x)\n",
    "\n",
    "        x = self.fc2(x)\n",
    "        x = self.act8(x)\n",
    "\n",
    "        x = self.fc3(x)\n",
    "        x = self.act9(x)\n",
    "\n",
    "        return x\n",
    "\n",
    "\n",
    "\n",
    "handrilnet = R2HandRilNet() "
   ],
   "execution_count": 66,
   "outputs": []
  },
  {
   "cell_type": "code",
   "execution_count": null,
   "outputs": [],
   "source": [
    "device = torch.device('cuda:0' if torch.cuda.is_available() else 'cpu')\n",
    "handrilnet = handrilnet.to(device)"
   ],
   "metadata": {
    "collapsed": false,
    "pycharm": {
     "name": "#%%\n"
    }
   }
  },
  {
   "cell_type": "code",
   "metadata": {
    "id": "E3YJ6MGEAY4G",
    "colab_type": "code",
    "colab": {}
   },
   "source": [
    "loss = torch.nn.CrossEntropyLoss()   #variable parameter\n",
    "optimizer = torch.optim.Adam(handrilnet.parameters(), lr=1.0e-3)"
   ],
   "execution_count": 67,
   "outputs": []
  },
  {
   "cell_type": "code",
   "metadata": {
    "id": "6cqqZYb1A9zW",
    "colab_type": "code",
    "colab": {}
   },
   "source": [
    "train_ds = ds('../R2HandRilDataset/Train')\n",
    "test_ds = ds('../R2HandRilDataset/Test')\n"
   ],
   "execution_count": 68,
   "outputs": []
  },
  {
   "cell_type": "code",
   "metadata": {
    "id": "AFvpODCTBnwL",
    "colab_type": "code",
    "colab": {}
   },
   "source": [
    "x_train = train_ds.data()\n",
    "y_train = train_ds.targets()\n",
    "x_test = test_ds.data()\n",
    "y_test = test_ds.targets()"
   ],
   "execution_count": 70,
   "outputs": []
  },
  {
   "cell_type": "code",
   "execution_count": 71,
   "outputs": [
    {
     "data": {
      "text/plain": "(232500, 93000)"
     },
     "execution_count": 71,
     "metadata": {},
     "output_type": "execute_result"
    }
   ],
   "source": [
    "len(y_train), len(y_test)\n"
   ],
   "metadata": {
    "collapsed": false,
    "pycharm": {
     "name": "#%%\n"
    }
   }
  },
  {
   "cell_type": "code",
   "execution_count": 72,
   "outputs": [
    {
     "data": {
      "text/plain": "<Figure size 432x288 with 1 Axes>",
      "image/png": "[encoded data removed]"
     },
     "metadata": {
      "needs_background": "light"
     },
     "output_type": "display_data"
    },
    {
     "name": "stdout",
     "output_type": "stream",
     "text": [
      "tensor(38)\n"
     ]
    }
   ],
   "source": [
    "plt.imshow(x_train[0, :, :])\n",
    "plt.show()\n",
    "print(y_train[0])"
   ],
   "metadata": {
    "collapsed": false,
    "pycharm": {
     "name": "#%%\n"
    }
   }
  },
  {
   "cell_type": "code",
   "metadata": {
    "id": "bwh8pUnXMMFB",
    "colab_type": "code",
    "colab": {}
   },
   "source": [
    "x_train = x_train.unsqueeze(1).float()\n",
    "x_test = x_test.unsqueeze(1).float()"
   ],
   "execution_count": 73,
   "outputs": []
  },
  {
   "cell_type": "code",
   "metadata": {
    "id": "u260fxCFTsvs",
    "colab_type": "code",
    "colab": {}
   },
   "source": [
    "x_train.shape"
   ],
   "execution_count": 74,
   "outputs": [
    {
     "data": {
      "text/plain": "torch.Size([232500, 1, 28, 28])"
     },
     "execution_count": 74,
     "metadata": {},
     "output_type": "execute_result"
    }
   ]
  },
  {
   "cell_type": "code",
   "metadata": {
    "id": "hDF62bWfKqpy",
    "colab_type": "code",
    "colab": {}
   },
   "source": [
    "batch_size = 32\n",
    "\n",
    "test_accuracy_history = []\n",
    "test_loss_history = []\n",
    "\n",
    "x_test = x_test.to(device)\n",
    "y_test = y_test.to(device)\n",
    "\n",
    "for epoch in range(100):\n",
    "    order = np.random.permutation(len(x_train))\n",
    "    for start_index in range(0, len(x_train), batch_size):\n",
    "        optimizer.zero_grad()\n",
    "\n",
    "        batch_indexes = order[start_index:start_index+batch_size]\n",
    "\n",
    "        x_batch = x_train[batch_indexes].to(device)\n",
    "        y_batch = y_train[batch_indexes].to(device)\n",
    "\n",
    "        preds = handrilnet.forward(x_batch)\n",
    "\n",
    "        loss_value = loss(preds, y_batch)\n",
    "        loss_value.backward()\n",
    "\n",
    "        optimizer.step()\n",
    "\n",
    "    test_preds = handrilnet.forward(x_test)\n",
    "    test_loss_history.append(loss(test_preds, y_test).to(device))\n",
    "\n",
    "    accuracy = (test_preds.argmax(dim=1) == y_test).float().mean().to(device)\n",
    "    test_accuracy_history.append(accuracy)\n",
    "\n",
    "    print('Epoch:', epoch + 1, 'Loss:', round(float(test_loss_history[epoch]), 4),\n",
    "          'Accuracy:', round(float(accuracy), 4))"
   ],
   "execution_count": 75,
   "outputs": [
    {
     "ename": "KeyboardInterrupt",
     "evalue": "",
     "output_type": "error",
     "traceback": [
      "\u001B[0;31m---------------------------------------------------------------------------\u001B[0m",
      "\u001B[0;31mKeyboardInterrupt\u001B[0m                         Traceback (most recent call last)",
      "\u001B[0;32m<ipython-input-75-e026a8d0eb25>\u001B[0m in \u001B[0;36m<module>\u001B[0;34m\u001B[0m\n\u001B[1;32m     14\u001B[0m         \u001B[0mbatch_indexes\u001B[0m \u001B[0;34m=\u001B[0m \u001B[0morder\u001B[0m\u001B[0;34m[\u001B[0m\u001B[0mstart_index\u001B[0m\u001B[0;34m:\u001B[0m\u001B[0mstart_index\u001B[0m\u001B[0;34m+\u001B[0m\u001B[0mbatch_size\u001B[0m\u001B[0;34m]\u001B[0m\u001B[0;34m\u001B[0m\u001B[0;34m\u001B[0m\u001B[0m\n\u001B[1;32m     15\u001B[0m \u001B[0;34m\u001B[0m\u001B[0m\n\u001B[0;32m---> 16\u001B[0;31m         \u001B[0mx_batch\u001B[0m \u001B[0;34m=\u001B[0m \u001B[0mx_train\u001B[0m\u001B[0;34m[\u001B[0m\u001B[0mbatch_indexes\u001B[0m\u001B[0;34m]\u001B[0m\u001B[0;34m.\u001B[0m\u001B[0mto\u001B[0m\u001B[0;34m(\u001B[0m\u001B[0mdevice\u001B[0m\u001B[0;34m)\u001B[0m\u001B[0;34m\u001B[0m\u001B[0;34m\u001B[0m\u001B[0m\n\u001B[0m\u001B[1;32m     17\u001B[0m         \u001B[0my_batch\u001B[0m \u001B[0;34m=\u001B[0m \u001B[0my_train\u001B[0m\u001B[0;34m[\u001B[0m\u001B[0mbatch_indexes\u001B[0m\u001B[0;34m]\u001B[0m\u001B[0;34m.\u001B[0m\u001B[0mto\u001B[0m\u001B[0;34m(\u001B[0m\u001B[0mdevice\u001B[0m\u001B[0;34m)\u001B[0m\u001B[0;34m\u001B[0m\u001B[0;34m\u001B[0m\u001B[0m\n\u001B[1;32m     18\u001B[0m \u001B[0;34m\u001B[0m\u001B[0m\n",
      "\u001B[0;31mKeyboardInterrupt\u001B[0m: "
     ]
    }
   ]
  },
  {
   "cell_type": "code",
   "metadata": {
    "id": "zQwreWgbTAw7",
    "colab_type": "code",
    "colab": {}
   },
   "source": [
    "handrilnet.forward(x_test)"
   ],
   "execution_count": null,
   "outputs": []
  },
  {
   "cell_type": "code",
   "metadata": {
    "id": "tGE4m-wsTOdF",
    "colab_type": "code",
    "colab": {}
   },
   "source": [
    "plt.figure(figsize=(20, 8))\n",
    "plt.subplot(1, 2, 1)\n",
    "plt.plot(test_accuracy_history)\n",
    "plt.xlabel('Epoch')\n",
    "plt.ylabel('Accuracy')\n",
    "plt.subplot(1, 2, 2)\n",
    "plt.plot(test_loss_history)\n",
    "plt.xlabel('Epoch')\n",
    "plt.ylabel('Loss')\n",
    "plt.show()"
   ],
   "execution_count": null,
   "outputs": []
  }
 ]
}