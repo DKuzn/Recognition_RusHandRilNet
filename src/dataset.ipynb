{
  "nbformat": 4,
  "nbformat_minor": 0,
  "metadata": {
    "kernelspec": {
      "display_name": "Python 3",
      "language": "python",
      "name": "python3"
    },
    "language_info": {
      "codemirror_mode": {
        "name": "ipython",
        "version": 2
      },
      "file_extension": ".py",
      "mimetype": "text/x-python",
      "name": "python",
      "nbconvert_exporter": "python",
      "pygments_lexer": "ipython2",
      "version": "2.7.6"
    },
    "colab": {
      "name": "dataset.ipynb",
      "provenance": []
    },
    "accelerator": "GPU"
  },
  "cells": [
    {
      "cell_type": "code",
      "metadata": {
        "id": "LexRCkgEPJ1C",
        "colab_type": "code",
        "colab": {}
      },
      "source": [
        "from __future__ import absolute_import, division, print_function, unicode_literals\n",
        "\n",
        "import tensorflow as tf\n",
        "from tensorflow.keras import datasets, layers, models\n",
        "import pathlib\n",
        "import random\n",
        "import os\n",
        "import IPython.display as display\n",
        "import matplotlib.pyplot as plt\n",
        "from tensorflow.python.client import device_lib"
      ],
      "execution_count": 1,
      "outputs": []
    },
    {
      "cell_type": "code",
      "metadata": {
        "id": "VR85s8XpN7wn",
        "colab_type": "code",
        "colab": {
          "base_uri": "https://localhost:8080/",
          "height": 34
        },
        "outputId": "e8a0b608-3f16-4387-dfc3-de9f6ae22ed5"
      },
      "source": [
        "!git clone https://github.com/DKuzn/Recognition_RusHandRilNet.git"
      ],
      "execution_count": 2,
      "outputs": [
        {
          "output_type": "stream",
          "text": [
            "fatal: destination path 'Recognition_RusHandRilNet' already exists and is not an empty directory.\n"
          ],
          "name": "stdout"
        }
      ]
    },
    {
      "cell_type": "code",
      "metadata": {
        "pycharm": {
          "name": "#%%\n"
        },
        "id": "1jGewyPTPJ1G",
        "colab_type": "code",
        "colab": {
          "base_uri": "https://localhost:8080/",
          "height": 34
        },
        "outputId": "303694c8-8b57-4a5c-8fd8-e557182430c3"
      },
      "source": [
        "print(\"Num GPUs Available: \", len(tf.config.experimental.list_physical_devices('GPU')))"
      ],
      "execution_count": 3,
      "outputs": [
        {
          "output_type": "stream",
          "text": [
            "Num GPUs Available:  1\n"
          ],
          "name": "stdout"
        }
      ]
    },
    {
      "cell_type": "code",
      "metadata": {
        "pycharm": {
          "name": "#%%\n"
        },
        "id": "uhmnBuQkPJ1J",
        "colab_type": "code",
        "colab": {}
      },
      "source": [
        "AUTOTUNE = tf.data.experimental.AUTOTUNE\n",
        "ALPHABET = 'а б в г д е ё ж з и й к л м н о п р с т у ф х ц ч ш щ ъ ы ь э ю я'.split()\n",
        "BATCH_SIZE = 1000"
      ],
      "execution_count": 4,
      "outputs": []
    },
    {
      "cell_type": "code",
      "metadata": {
        "pycharm": {
          "name": "#%%\n"
        },
        "id": "zZ2ebexlPJ1M",
        "colab_type": "code",
        "colab": {
          "base_uri": "https://localhost:8080/",
          "height": 51
        },
        "outputId": "1e61a2d2-dde2-44de-dcde-b85b67d75ea3"
      },
      "source": [
        "data_root_orig_train = '/content/Recognition_RusHandRilNet/Train_dataset'\n",
        "data_root_train = pathlib.Path(data_root_orig_train)\n",
        "print(data_root_train)\n",
        "data_root_orig_test = '/content/Recognition_RusHandRilNet/Test_dataset'\n",
        "data_root_test = pathlib.Path(data_root_orig_test)\n",
        "print(data_root_test)"
      ],
      "execution_count": 5,
      "outputs": [
        {
          "output_type": "stream",
          "text": [
            "/content/Recognition_RusHandRilNet/Train_dataset\n",
            "/content/Recognition_RusHandRilNet/Test_dataset\n"
          ],
          "name": "stdout"
        }
      ]
    },
    {
      "cell_type": "code",
      "metadata": {
        "pycharm": {
          "name": "#%%\n"
        },
        "id": "Yn47ZqwyPJ1P",
        "colab_type": "code",
        "colab": {
          "base_uri": "https://localhost:8080/",
          "height": 1000
        },
        "outputId": "90d94464-a0ad-4f81-f15b-2a3b7cdc3bef"
      },
      "source": [
        "for item in data_root_train.iterdir():\n",
        "  print(item)"
      ],
      "execution_count": 6,
      "outputs": [
        {
          "output_type": "stream",
          "text": [
            "/content/Recognition_RusHandRilNet/Train_dataset/Ц\n",
            "/content/Recognition_RusHandRilNet/Train_dataset/Е\n",
            "/content/Recognition_RusHandRilNet/Train_dataset/У\n",
            "/content/Recognition_RusHandRilNet/Train_dataset/х\n",
            "/content/Recognition_RusHandRilNet/Train_dataset/Ъ\n",
            "/content/Recognition_RusHandRilNet/Train_dataset/ё\n",
            "/content/Recognition_RusHandRilNet/Train_dataset/ж\n",
            "/content/Recognition_RusHandRilNet/Train_dataset/о\n",
            "/content/Recognition_RusHandRilNet/Train_dataset/б\n",
            "/content/Recognition_RusHandRilNet/Train_dataset/а\n",
            "/content/Recognition_RusHandRilNet/Train_dataset/М\n",
            "/content/Recognition_RusHandRilNet/Train_dataset/щ\n",
            "/content/Recognition_RusHandRilNet/Train_dataset/Щ\n",
            "/content/Recognition_RusHandRilNet/Train_dataset/э\n",
            "/content/Recognition_RusHandRilNet/Train_dataset/в\n",
            "/content/Recognition_RusHandRilNet/Train_dataset/н\n",
            "/content/Recognition_RusHandRilNet/Train_dataset/ы\n",
            "/content/Recognition_RusHandRilNet/Train_dataset/Д\n",
            "/content/Recognition_RusHandRilNet/Train_dataset/Ь\n",
            "/content/Recognition_RusHandRilNet/Train_dataset/А\n",
            "/content/Recognition_RusHandRilNet/Train_dataset/В\n",
            "/content/Recognition_RusHandRilNet/Train_dataset/е\n",
            "/content/Recognition_RusHandRilNet/Train_dataset/р\n",
            "/content/Recognition_RusHandRilNet/Train_dataset/Л\n",
            "/content/Recognition_RusHandRilNet/Train_dataset/и\n",
            "/content/Recognition_RusHandRilNet/Train_dataset/ф\n",
            "/content/Recognition_RusHandRilNet/Train_dataset/Э\n",
            "/content/Recognition_RusHandRilNet/Train_dataset/Й\n",
            "/content/Recognition_RusHandRilNet/Train_dataset/д\n",
            "/content/Recognition_RusHandRilNet/Train_dataset/т\n",
            "/content/Recognition_RusHandRilNet/Train_dataset/Ё\n",
            "/content/Recognition_RusHandRilNet/Train_dataset/О\n",
            "/content/Recognition_RusHandRilNet/Train_dataset/ю\n",
            "/content/Recognition_RusHandRilNet/Train_dataset/м\n",
            "/content/Recognition_RusHandRilNet/Train_dataset/ч\n",
            "/content/Recognition_RusHandRilNet/Train_dataset/ъ\n",
            "/content/Recognition_RusHandRilNet/Train_dataset/я\n",
            "/content/Recognition_RusHandRilNet/Train_dataset/с\n",
            "/content/Recognition_RusHandRilNet/Train_dataset/п\n",
            "/content/Recognition_RusHandRilNet/Train_dataset/ш\n",
            "/content/Recognition_RusHandRilNet/Train_dataset/Ф\n",
            "/content/Recognition_RusHandRilNet/Train_dataset/Н\n",
            "/content/Recognition_RusHandRilNet/Train_dataset/Ш\n",
            "/content/Recognition_RusHandRilNet/Train_dataset/ь\n",
            "/content/Recognition_RusHandRilNet/Train_dataset/К\n",
            "/content/Recognition_RusHandRilNet/Train_dataset/Ж\n",
            "/content/Recognition_RusHandRilNet/Train_dataset/Б\n",
            "/content/Recognition_RusHandRilNet/Train_dataset/к\n",
            "/content/Recognition_RusHandRilNet/Train_dataset/Р\n",
            "/content/Recognition_RusHandRilNet/Train_dataset/Х\n",
            "/content/Recognition_RusHandRilNet/Train_dataset/г\n",
            "/content/Recognition_RusHandRilNet/Train_dataset/Ю\n",
            "/content/Recognition_RusHandRilNet/Train_dataset/й\n",
            "/content/Recognition_RusHandRilNet/Train_dataset/Т\n",
            "/content/Recognition_RusHandRilNet/Train_dataset/л\n",
            "/content/Recognition_RusHandRilNet/Train_dataset/Ч\n",
            "/content/Recognition_RusHandRilNet/Train_dataset/у\n",
            "/content/Recognition_RusHandRilNet/Train_dataset/ц\n",
            "/content/Recognition_RusHandRilNet/Train_dataset/П\n",
            "/content/Recognition_RusHandRilNet/Train_dataset/Г\n",
            "/content/Recognition_RusHandRilNet/Train_dataset/Я\n",
            "/content/Recognition_RusHandRilNet/Train_dataset/И\n",
            "/content/Recognition_RusHandRilNet/Train_dataset/Ы\n",
            "/content/Recognition_RusHandRilNet/Train_dataset/З\n",
            "/content/Recognition_RusHandRilNet/Train_dataset/С\n",
            "/content/Recognition_RusHandRilNet/Train_dataset/з\n"
          ],
          "name": "stdout"
        }
      ]
    },
    {
      "cell_type": "code",
      "metadata": {
        "id": "9TRT0RvPuo-r",
        "colab_type": "code",
        "colab": {
          "base_uri": "https://localhost:8080/",
          "height": 1000
        },
        "outputId": "282e792f-5fb9-46a8-f001-0fc4e17618ea"
      },
      "source": [
        "for item in data_root_test.iterdir():\n",
        "  print(item)"
      ],
      "execution_count": 7,
      "outputs": [
        {
          "output_type": "stream",
          "text": [
            "/content/Recognition_RusHandRilNet/Test_dataset/Ц\n",
            "/content/Recognition_RusHandRilNet/Test_dataset/Е\n",
            "/content/Recognition_RusHandRilNet/Test_dataset/У\n",
            "/content/Recognition_RusHandRilNet/Test_dataset/х\n",
            "/content/Recognition_RusHandRilNet/Test_dataset/Ъ\n",
            "/content/Recognition_RusHandRilNet/Test_dataset/ё\n",
            "/content/Recognition_RusHandRilNet/Test_dataset/ж\n",
            "/content/Recognition_RusHandRilNet/Test_dataset/о\n",
            "/content/Recognition_RusHandRilNet/Test_dataset/б\n",
            "/content/Recognition_RusHandRilNet/Test_dataset/а\n",
            "/content/Recognition_RusHandRilNet/Test_dataset/М\n",
            "/content/Recognition_RusHandRilNet/Test_dataset/щ\n",
            "/content/Recognition_RusHandRilNet/Test_dataset/Щ\n",
            "/content/Recognition_RusHandRilNet/Test_dataset/э\n",
            "/content/Recognition_RusHandRilNet/Test_dataset/в\n",
            "/content/Recognition_RusHandRilNet/Test_dataset/н\n",
            "/content/Recognition_RusHandRilNet/Test_dataset/ы\n",
            "/content/Recognition_RusHandRilNet/Test_dataset/Д\n",
            "/content/Recognition_RusHandRilNet/Test_dataset/Ь\n",
            "/content/Recognition_RusHandRilNet/Test_dataset/А\n",
            "/content/Recognition_RusHandRilNet/Test_dataset/В\n",
            "/content/Recognition_RusHandRilNet/Test_dataset/е\n",
            "/content/Recognition_RusHandRilNet/Test_dataset/р\n",
            "/content/Recognition_RusHandRilNet/Test_dataset/Л\n",
            "/content/Recognition_RusHandRilNet/Test_dataset/и\n",
            "/content/Recognition_RusHandRilNet/Test_dataset/ф\n",
            "/content/Recognition_RusHandRilNet/Test_dataset/Э\n",
            "/content/Recognition_RusHandRilNet/Test_dataset/Й\n",
            "/content/Recognition_RusHandRilNet/Test_dataset/д\n",
            "/content/Recognition_RusHandRilNet/Test_dataset/т\n",
            "/content/Recognition_RusHandRilNet/Test_dataset/Ё\n",
            "/content/Recognition_RusHandRilNet/Test_dataset/О\n",
            "/content/Recognition_RusHandRilNet/Test_dataset/ю\n",
            "/content/Recognition_RusHandRilNet/Test_dataset/м\n",
            "/content/Recognition_RusHandRilNet/Test_dataset/ч\n",
            "/content/Recognition_RusHandRilNet/Test_dataset/ъ\n",
            "/content/Recognition_RusHandRilNet/Test_dataset/я\n",
            "/content/Recognition_RusHandRilNet/Test_dataset/с\n",
            "/content/Recognition_RusHandRilNet/Test_dataset/п\n",
            "/content/Recognition_RusHandRilNet/Test_dataset/ш\n",
            "/content/Recognition_RusHandRilNet/Test_dataset/Ф\n",
            "/content/Recognition_RusHandRilNet/Test_dataset/Н\n",
            "/content/Recognition_RusHandRilNet/Test_dataset/Ш\n",
            "/content/Recognition_RusHandRilNet/Test_dataset/ь\n",
            "/content/Recognition_RusHandRilNet/Test_dataset/К\n",
            "/content/Recognition_RusHandRilNet/Test_dataset/Ж\n",
            "/content/Recognition_RusHandRilNet/Test_dataset/Б\n",
            "/content/Recognition_RusHandRilNet/Test_dataset/к\n",
            "/content/Recognition_RusHandRilNet/Test_dataset/Р\n",
            "/content/Recognition_RusHandRilNet/Test_dataset/Х\n",
            "/content/Recognition_RusHandRilNet/Test_dataset/г\n",
            "/content/Recognition_RusHandRilNet/Test_dataset/Ю\n",
            "/content/Recognition_RusHandRilNet/Test_dataset/й\n",
            "/content/Recognition_RusHandRilNet/Test_dataset/Т\n",
            "/content/Recognition_RusHandRilNet/Test_dataset/л\n",
            "/content/Recognition_RusHandRilNet/Test_dataset/Ч\n",
            "/content/Recognition_RusHandRilNet/Test_dataset/у\n",
            "/content/Recognition_RusHandRilNet/Test_dataset/ц\n",
            "/content/Recognition_RusHandRilNet/Test_dataset/П\n",
            "/content/Recognition_RusHandRilNet/Test_dataset/Г\n",
            "/content/Recognition_RusHandRilNet/Test_dataset/Я\n",
            "/content/Recognition_RusHandRilNet/Test_dataset/И\n",
            "/content/Recognition_RusHandRilNet/Test_dataset/Ы\n",
            "/content/Recognition_RusHandRilNet/Test_dataset/З\n",
            "/content/Recognition_RusHandRilNet/Test_dataset/С\n",
            "/content/Recognition_RusHandRilNet/Test_dataset/з\n"
          ],
          "name": "stdout"
        }
      ]
    },
    {
      "cell_type": "code",
      "metadata": {
        "pycharm": {
          "name": "#%%\n"
        },
        "id": "VETGsQfgPJ1R",
        "colab_type": "code",
        "colab": {
          "base_uri": "https://localhost:8080/",
          "height": 34
        },
        "outputId": "cce91750-13d0-46e1-cb57-f3b50c7f12d3"
      },
      "source": [
        "train_image_paths = list(data_root_train.glob('*/*'))\n",
        "train_image_paths = [str(path) for path in train_image_paths]\n",
        "random.shuffle(train_image_paths)\n",
        "\n",
        "image_count = len(train_image_paths)\n",
        "image_count"
      ],
      "execution_count": 8,
      "outputs": [
        {
          "output_type": "execute_result",
          "data": {
            "text/plain": [
              "66000"
            ]
          },
          "metadata": {
            "tags": []
          },
          "execution_count": 8
        }
      ]
    },
    {
      "cell_type": "code",
      "metadata": {
        "id": "weW4XW0KvDR1",
        "colab_type": "code",
        "colab": {
          "base_uri": "https://localhost:8080/",
          "height": 34
        },
        "outputId": "a66ffa53-451a-4c2f-f400-b7397066853d"
      },
      "source": [
        "test_image_paths = list(data_root_test.glob('*/*'))\n",
        "test_image_paths = [str(path) for path in test_image_paths]\n",
        "random.shuffle(test_image_paths)\n",
        "\n",
        "image_count = len(test_image_paths)\n",
        "image_count"
      ],
      "execution_count": 9,
      "outputs": [
        {
          "output_type": "execute_result",
          "data": {
            "text/plain": [
              "13200"
            ]
          },
          "metadata": {
            "tags": []
          },
          "execution_count": 9
        }
      ]
    },
    {
      "cell_type": "code",
      "metadata": {
        "pycharm": {
          "name": "#%%\n"
        },
        "id": "1IanN3U5PJ1U",
        "colab_type": "code",
        "colab": {
          "base_uri": "https://localhost:8080/",
          "height": 187
        },
        "outputId": "30eeff2e-7353-4db8-8ac2-6d9c7a901eb1"
      },
      "source": [
        "train_image_paths[:10]"
      ],
      "execution_count": 10,
      "outputs": [
        {
          "output_type": "execute_result",
          "data": {
            "text/plain": [
              "['/content/Recognition_RusHandRilNet/Train_dataset/Щ/54_761.jpg',\n",
              " '/content/Recognition_RusHandRilNet/Train_dataset/Ъ/56_396.jpg',\n",
              " '/content/Recognition_RusHandRilNet/Train_dataset/х/45_730.jpg',\n",
              " '/content/Recognition_RusHandRilNet/Train_dataset/Ч/50_323.jpg',\n",
              " '/content/Recognition_RusHandRilNet/Train_dataset/х/45_765.jpg',\n",
              " '/content/Recognition_RusHandRilNet/Train_dataset/Й/22_554.jpg',\n",
              " '/content/Recognition_RusHandRilNet/Train_dataset/ь/59_509.jpg',\n",
              " '/content/Recognition_RusHandRilNet/Train_dataset/Б/04_608.jpg',\n",
              " '/content/Recognition_RusHandRilNet/Train_dataset/с/37_478.jpg',\n",
              " '/content/Recognition_RusHandRilNet/Train_dataset/Ю/64_736.jpg']"
            ]
          },
          "metadata": {
            "tags": []
          },
          "execution_count": 10
        }
      ]
    },
    {
      "cell_type": "code",
      "metadata": {
        "id": "N9bdWGxovglB",
        "colab_type": "code",
        "colab": {
          "base_uri": "https://localhost:8080/",
          "height": 187
        },
        "outputId": "a9533463-e3ac-4b72-fdf6-abeead216a97"
      },
      "source": [
        "test_image_paths[:10]"
      ],
      "execution_count": 11,
      "outputs": [
        {
          "output_type": "execute_result",
          "data": {
            "text/plain": [
              "['/content/Recognition_RusHandRilNet/Test_dataset/ш/51_1137.jpg',\n",
              " '/content/Recognition_RusHandRilNet/Test_dataset/а/01_1194.jpg',\n",
              " '/content/Recognition_RusHandRilNet/Test_dataset/н/29_1193.jpg',\n",
              " '/content/Recognition_RusHandRilNet/Test_dataset/ю/63_1170.jpg',\n",
              " '/content/Recognition_RusHandRilNet/Test_dataset/в/05_1177.jpg',\n",
              " '/content/Recognition_RusHandRilNet/Test_dataset/ь/59_1150.jpg',\n",
              " '/content/Recognition_RusHandRilNet/Test_dataset/Н/30_1069.jpg',\n",
              " '/content/Recognition_RusHandRilNet/Test_dataset/д/09_1195.jpg',\n",
              " '/content/Recognition_RusHandRilNet/Test_dataset/Щ/54_1069.jpg',\n",
              " '/content/Recognition_RusHandRilNet/Test_dataset/ж/15_1002.jpg']"
            ]
          },
          "metadata": {
            "tags": []
          },
          "execution_count": 11
        }
      ]
    },
    {
      "cell_type": "code",
      "metadata": {
        "pycharm": {
          "name": "#%%\n"
        },
        "id": "YUjWASGtPJ1X",
        "colab_type": "code",
        "colab": {}
      },
      "source": [
        "def caption_image_train(image_path):\n",
        "    image_rel = pathlib.Path(image_path).relative_to(data_root_train)\n",
        "    return ' - '.join(str(image_rel).split(' - ')[:-1])\n"
      ],
      "execution_count": 12,
      "outputs": []
    },
    {
      "cell_type": "code",
      "metadata": {
        "id": "AbEPV6YRv27G",
        "colab_type": "code",
        "colab": {}
      },
      "source": [
        "def caption_image_test(image_path):\n",
        "    image_rel = pathlib.Path(image_path).relative_to(data_root_test)\n",
        "    return ' - '.join(str(image_rel).split(' - ')[:-1])"
      ],
      "execution_count": 13,
      "outputs": []
    },
    {
      "cell_type": "code",
      "metadata": {
        "pycharm": {
          "name": "#%%\n"
        },
        "id": "96lP2FX0PJ1Z",
        "colab_type": "code",
        "colab": {
          "base_uri": "https://localhost:8080/",
          "height": 215
        },
        "outputId": "1ca6f5a1-6240-412f-f783-241b936cda40"
      },
      "source": [
        "for n in range(3):\n",
        "    image_path = random.choice(train_image_paths)\n",
        "    display.display(display.Image(image_path))\n",
        "    print(caption_image_train(image_path))\n",
        "    print()"
      ],
      "execution_count": 14,
      "outputs": [
        {
          "output_type": "display_data",
          "data": {
            "image/jpeg": "[encoded data removed]",
            "text/plain": [
              "<IPython.core.display.Image object>"
            ]
          },
          "metadata": {
            "tags": []
          }
        },
        {
          "output_type": "stream",
          "text": [
            "\n",
            "\n"
          ],
          "name": "stdout"
        },
        {
          "output_type": "display_data",
          "data": {
            "image/jpeg": "[encoded data removed]",
            "text/plain": [
              "<IPython.core.display.Image object>"
            ]
          },
          "metadata": {
            "tags": []
          }
        },
        {
          "output_type": "stream",
          "text": [
            "\n",
            "\n"
          ],
          "name": "stdout"
        },
        {
          "output_type": "display_data",
          "data": {
            "image/jpeg": "[encoded data removed]",
            "text/plain": [
              "<IPython.core.display.Image object>"
            ]
          },
          "metadata": {
            "tags": []
          }
        },
        {
          "output_type": "stream",
          "text": [
            "\n",
            "\n"
          ],
          "name": "stdout"
        }
      ]
    },
    {
      "cell_type": "code",
      "metadata": {
        "id": "5jVSokvSvqMH",
        "colab_type": "code",
        "colab": {
          "base_uri": "https://localhost:8080/",
          "height": 215
        },
        "outputId": "5bd5d421-ecba-4043-dbd6-5ce8ad7e809d"
      },
      "source": [
        "for n in range(3):\n",
        "    image_path = random.choice(test_image_paths)\n",
        "    display.display(display.Image(image_path))\n",
        "    print(caption_image_test(image_path))\n",
        "    print()"
      ],
      "execution_count": 15,
      "outputs": [
        {
          "output_type": "display_data",
          "data": {
            "image/jpeg": "[encoded data removed]",
            "text/plain": [
              "<IPython.core.display.Image object>"
            ]
          },
          "metadata": {
            "tags": []
          }
        },
        {
          "output_type": "stream",
          "text": [
            "\n",
            "\n"
          ],
          "name": "stdout"
        },
        {
          "output_type": "display_data",
          "data": {
            "image/jpeg": "[encoded data removed]",
            "text/plain": [
              "<IPython.core.display.Image object>"
            ]
          },
          "metadata": {
            "tags": []
          }
        },
        {
          "output_type": "stream",
          "text": [
            "\n",
            "\n"
          ],
          "name": "stdout"
        },
        {
          "output_type": "display_data",
          "data": {
            "image/jpeg": "[encoded data removed]",
            "text/plain": [
              "<IPython.core.display.Image object>"
            ]
          },
          "metadata": {
            "tags": []
          }
        },
        {
          "output_type": "stream",
          "text": [
            "\n",
            "\n"
          ],
          "name": "stdout"
        }
      ]
    },
    {
      "cell_type": "code",
      "metadata": {
        "pycharm": {
          "name": "#%%\n"
        },
        "id": "1jwYGLUBPJ1b",
        "colab_type": "code",
        "colab": {
          "base_uri": "https://localhost:8080/",
          "height": 1000
        },
        "outputId": "b3d61c21-056a-402f-b609-0a1e0c4bfb4f"
      },
      "source": [
        "train_label_names = sorted(item.name for item in data_root_train.glob('*/') if item.is_dir())\n",
        "train_label_names\n"
      ],
      "execution_count": 16,
      "outputs": [
        {
          "output_type": "execute_result",
          "data": {
            "text/plain": [
              "['Ё',\n",
              " 'А',\n",
              " 'Б',\n",
              " 'В',\n",
              " 'Г',\n",
              " 'Д',\n",
              " 'Е',\n",
              " 'Ж',\n",
              " 'З',\n",
              " 'И',\n",
              " 'Й',\n",
              " 'К',\n",
              " 'Л',\n",
              " 'М',\n",
              " 'Н',\n",
              " 'О',\n",
              " 'П',\n",
              " 'Р',\n",
              " 'С',\n",
              " 'Т',\n",
              " 'У',\n",
              " 'Ф',\n",
              " 'Х',\n",
              " 'Ц',\n",
              " 'Ч',\n",
              " 'Ш',\n",
              " 'Щ',\n",
              " 'Ъ',\n",
              " 'Ы',\n",
              " 'Ь',\n",
              " 'Э',\n",
              " 'Ю',\n",
              " 'Я',\n",
              " 'а',\n",
              " 'б',\n",
              " 'в',\n",
              " 'г',\n",
              " 'д',\n",
              " 'е',\n",
              " 'ж',\n",
              " 'з',\n",
              " 'и',\n",
              " 'й',\n",
              " 'к',\n",
              " 'л',\n",
              " 'м',\n",
              " 'н',\n",
              " 'о',\n",
              " 'п',\n",
              " 'р',\n",
              " 'с',\n",
              " 'т',\n",
              " 'у',\n",
              " 'ф',\n",
              " 'х',\n",
              " 'ц',\n",
              " 'ч',\n",
              " 'ш',\n",
              " 'щ',\n",
              " 'ъ',\n",
              " 'ы',\n",
              " 'ь',\n",
              " 'э',\n",
              " 'ю',\n",
              " 'я',\n",
              " 'ё']"
            ]
          },
          "metadata": {
            "tags": []
          },
          "execution_count": 16
        }
      ]
    },
    {
      "cell_type": "code",
      "metadata": {
        "id": "DVxtCa8fwOJQ",
        "colab_type": "code",
        "colab": {
          "base_uri": "https://localhost:8080/",
          "height": 1000
        },
        "outputId": "77892beb-27e6-4693-89a5-cdb5014f6672"
      },
      "source": [
        "test_label_names = sorted(item.name for item in data_root_test.glob('*/') if item.is_dir())\n",
        "test_label_names"
      ],
      "execution_count": 17,
      "outputs": [
        {
          "output_type": "execute_result",
          "data": {
            "text/plain": [
              "['Ё',\n",
              " 'А',\n",
              " 'Б',\n",
              " 'В',\n",
              " 'Г',\n",
              " 'Д',\n",
              " 'Е',\n",
              " 'Ж',\n",
              " 'З',\n",
              " 'И',\n",
              " 'Й',\n",
              " 'К',\n",
              " 'Л',\n",
              " 'М',\n",
              " 'Н',\n",
              " 'О',\n",
              " 'П',\n",
              " 'Р',\n",
              " 'С',\n",
              " 'Т',\n",
              " 'У',\n",
              " 'Ф',\n",
              " 'Х',\n",
              " 'Ц',\n",
              " 'Ч',\n",
              " 'Ш',\n",
              " 'Щ',\n",
              " 'Ъ',\n",
              " 'Ы',\n",
              " 'Ь',\n",
              " 'Э',\n",
              " 'Ю',\n",
              " 'Я',\n",
              " 'а',\n",
              " 'б',\n",
              " 'в',\n",
              " 'г',\n",
              " 'д',\n",
              " 'е',\n",
              " 'ж',\n",
              " 'з',\n",
              " 'и',\n",
              " 'й',\n",
              " 'к',\n",
              " 'л',\n",
              " 'м',\n",
              " 'н',\n",
              " 'о',\n",
              " 'п',\n",
              " 'р',\n",
              " 'с',\n",
              " 'т',\n",
              " 'у',\n",
              " 'ф',\n",
              " 'х',\n",
              " 'ц',\n",
              " 'ч',\n",
              " 'ш',\n",
              " 'щ',\n",
              " 'ъ',\n",
              " 'ы',\n",
              " 'ь',\n",
              " 'э',\n",
              " 'ю',\n",
              " 'я',\n",
              " 'ё']"
            ]
          },
          "metadata": {
            "tags": []
          },
          "execution_count": 17
        }
      ]
    },
    {
      "cell_type": "code",
      "metadata": {
        "pycharm": {
          "name": "#%%\n"
        },
        "id": "as5eXHJLPJ1e",
        "colab_type": "code",
        "colab": {
          "base_uri": "https://localhost:8080/",
          "height": 1000
        },
        "outputId": "63fab7cd-86d2-44ae-f7a3-a5dc10f23bb2"
      },
      "source": [
        "train_label_to_index = dict((name, index) for index, name in enumerate(train_label_names))\n",
        "train_label_to_index"
      ],
      "execution_count": 18,
      "outputs": [
        {
          "output_type": "execute_result",
          "data": {
            "text/plain": [
              "{'Ё': 0,\n",
              " 'А': 1,\n",
              " 'Б': 2,\n",
              " 'В': 3,\n",
              " 'Г': 4,\n",
              " 'Д': 5,\n",
              " 'Е': 6,\n",
              " 'Ж': 7,\n",
              " 'З': 8,\n",
              " 'И': 9,\n",
              " 'Й': 10,\n",
              " 'К': 11,\n",
              " 'Л': 12,\n",
              " 'М': 13,\n",
              " 'Н': 14,\n",
              " 'О': 15,\n",
              " 'П': 16,\n",
              " 'Р': 17,\n",
              " 'С': 18,\n",
              " 'Т': 19,\n",
              " 'У': 20,\n",
              " 'Ф': 21,\n",
              " 'Х': 22,\n",
              " 'Ц': 23,\n",
              " 'Ч': 24,\n",
              " 'Ш': 25,\n",
              " 'Щ': 26,\n",
              " 'Ъ': 27,\n",
              " 'Ы': 28,\n",
              " 'Ь': 29,\n",
              " 'Э': 30,\n",
              " 'Ю': 31,\n",
              " 'Я': 32,\n",
              " 'а': 33,\n",
              " 'б': 34,\n",
              " 'в': 35,\n",
              " 'г': 36,\n",
              " 'д': 37,\n",
              " 'е': 38,\n",
              " 'ж': 39,\n",
              " 'з': 40,\n",
              " 'и': 41,\n",
              " 'й': 42,\n",
              " 'к': 43,\n",
              " 'л': 44,\n",
              " 'м': 45,\n",
              " 'н': 46,\n",
              " 'о': 47,\n",
              " 'п': 48,\n",
              " 'р': 49,\n",
              " 'с': 50,\n",
              " 'т': 51,\n",
              " 'у': 52,\n",
              " 'ф': 53,\n",
              " 'х': 54,\n",
              " 'ц': 55,\n",
              " 'ч': 56,\n",
              " 'ш': 57,\n",
              " 'щ': 58,\n",
              " 'ъ': 59,\n",
              " 'ы': 60,\n",
              " 'ь': 61,\n",
              " 'э': 62,\n",
              " 'ю': 63,\n",
              " 'я': 64,\n",
              " 'ё': 65}"
            ]
          },
          "metadata": {
            "tags": []
          },
          "execution_count": 18
        }
      ]
    },
    {
      "cell_type": "code",
      "metadata": {
        "id": "pyTjzrzVwdjN",
        "colab_type": "code",
        "colab": {
          "base_uri": "https://localhost:8080/",
          "height": 1000
        },
        "outputId": "2b139e38-222b-4cbe-9046-c5a6c42d7ec7"
      },
      "source": [
        "test_label_to_index = dict((name, index) for index, name in enumerate(test_label_names))\n",
        "test_label_to_index"
      ],
      "execution_count": 19,
      "outputs": [
        {
          "output_type": "execute_result",
          "data": {
            "text/plain": [
              "{'Ё': 0,\n",
              " 'А': 1,\n",
              " 'Б': 2,\n",
              " 'В': 3,\n",
              " 'Г': 4,\n",
              " 'Д': 5,\n",
              " 'Е': 6,\n",
              " 'Ж': 7,\n",
              " 'З': 8,\n",
              " 'И': 9,\n",
              " 'Й': 10,\n",
              " 'К': 11,\n",
              " 'Л': 12,\n",
              " 'М': 13,\n",
              " 'Н': 14,\n",
              " 'О': 15,\n",
              " 'П': 16,\n",
              " 'Р': 17,\n",
              " 'С': 18,\n",
              " 'Т': 19,\n",
              " 'У': 20,\n",
              " 'Ф': 21,\n",
              " 'Х': 22,\n",
              " 'Ц': 23,\n",
              " 'Ч': 24,\n",
              " 'Ш': 25,\n",
              " 'Щ': 26,\n",
              " 'Ъ': 27,\n",
              " 'Ы': 28,\n",
              " 'Ь': 29,\n",
              " 'Э': 30,\n",
              " 'Ю': 31,\n",
              " 'Я': 32,\n",
              " 'а': 33,\n",
              " 'б': 34,\n",
              " 'в': 35,\n",
              " 'г': 36,\n",
              " 'д': 37,\n",
              " 'е': 38,\n",
              " 'ж': 39,\n",
              " 'з': 40,\n",
              " 'и': 41,\n",
              " 'й': 42,\n",
              " 'к': 43,\n",
              " 'л': 44,\n",
              " 'м': 45,\n",
              " 'н': 46,\n",
              " 'о': 47,\n",
              " 'п': 48,\n",
              " 'р': 49,\n",
              " 'с': 50,\n",
              " 'т': 51,\n",
              " 'у': 52,\n",
              " 'ф': 53,\n",
              " 'х': 54,\n",
              " 'ц': 55,\n",
              " 'ч': 56,\n",
              " 'ш': 57,\n",
              " 'щ': 58,\n",
              " 'ъ': 59,\n",
              " 'ы': 60,\n",
              " 'ь': 61,\n",
              " 'э': 62,\n",
              " 'ю': 63,\n",
              " 'я': 64,\n",
              " 'ё': 65}"
            ]
          },
          "metadata": {
            "tags": []
          },
          "execution_count": 19
        }
      ]
    },
    {
      "cell_type": "code",
      "metadata": {
        "pycharm": {
          "name": "#%%\n"
        },
        "id": "T0Md5MqPPJ1g",
        "colab_type": "code",
        "colab": {
          "base_uri": "https://localhost:8080/",
          "height": 34
        },
        "outputId": "ff003614-0141-4fce-e078-e1e0073b0b0b"
      },
      "source": [
        "train_image_labels = [train_label_to_index[pathlib.Path(path).parent.name]\n",
        "                    for path in train_image_paths]\n",
        "\n",
        "print(\"First 10 labels indices: \", train_image_labels[:10])"
      ],
      "execution_count": 20,
      "outputs": [
        {
          "output_type": "stream",
          "text": [
            "First 10 labels indices:  [26, 27, 54, 24, 54, 10, 61, 2, 50, 31]\n"
          ],
          "name": "stdout"
        }
      ]
    },
    {
      "cell_type": "code",
      "metadata": {
        "id": "xgpNP87zw2N1",
        "colab_type": "code",
        "colab": {
          "base_uri": "https://localhost:8080/",
          "height": 34
        },
        "outputId": "bebf9843-9692-4b99-983f-d668ebadc204"
      },
      "source": [
        "test_image_labels = [test_label_to_index[pathlib.Path(path).parent.name]\n",
        "                    for path in test_image_paths]\n",
        "\n",
        "print(\"First 10 labels indices: \", test_image_labels[:10])"
      ],
      "execution_count": 21,
      "outputs": [
        {
          "output_type": "stream",
          "text": [
            "First 10 labels indices:  [57, 33, 46, 63, 35, 61, 14, 37, 26, 39]\n"
          ],
          "name": "stdout"
        }
      ]
    },
    {
      "cell_type": "code",
      "metadata": {
        "pycharm": {
          "name": "#%%\n"
        },
        "id": "6t7Z7Ca6PJ1i",
        "colab_type": "code",
        "colab": {
          "base_uri": "https://localhost:8080/",
          "height": 35
        },
        "outputId": "d7d16975-adeb-4196-fe77-33ca285cfbb0"
      },
      "source": [
        "train_img_path = train_image_paths[0]\n",
        "train_img_path"
      ],
      "execution_count": 22,
      "outputs": [
        {
          "output_type": "execute_result",
          "data": {
            "application/vnd.google.colaboratory.intrinsic": {
              "type": "string"
            },
            "text/plain": [
              "'/content/Recognition_RusHandRilNet/Train_dataset/Щ/54_761.jpg'"
            ]
          },
          "metadata": {
            "tags": []
          },
          "execution_count": 22
        }
      ]
    },
    {
      "cell_type": "code",
      "metadata": {
        "id": "U2_Q_aFFxTjE",
        "colab_type": "code",
        "colab": {
          "base_uri": "https://localhost:8080/",
          "height": 35
        },
        "outputId": "8a937144-f8e2-4d9e-ba7a-475374d620dd"
      },
      "source": [
        "test_img_path = test_image_paths[0]\n",
        "test_img_path"
      ],
      "execution_count": 23,
      "outputs": [
        {
          "output_type": "execute_result",
          "data": {
            "application/vnd.google.colaboratory.intrinsic": {
              "type": "string"
            },
            "text/plain": [
              "'/content/Recognition_RusHandRilNet/Test_dataset/ш/51_1137.jpg'"
            ]
          },
          "metadata": {
            "tags": []
          },
          "execution_count": 23
        }
      ]
    },
    {
      "cell_type": "code",
      "metadata": {
        "pycharm": {
          "name": "#%%\n"
        },
        "id": "9uImcqyVPJ1l",
        "colab_type": "code",
        "colab": {
          "base_uri": "https://localhost:8080/",
          "height": 34
        },
        "outputId": "c8a1a069-9598-4064-a2e7-58cb7bf643a8"
      },
      "source": [
        "train_img_raw = tf.io.read_file(train_img_path)\n",
        "print(repr(train_img_raw)[:100]+\"...\")"
      ],
      "execution_count": 24,
      "outputs": [
        {
          "output_type": "stream",
          "text": [
            "<tf.Tensor: shape=(), dtype=string, numpy=b'\\xff\\xd8\\xff\\xe0\\x00\\x10JFIF\\x00\\x01\\x01\\x00\\x00\\x01\\x00...\n"
          ],
          "name": "stdout"
        }
      ]
    },
    {
      "cell_type": "code",
      "metadata": {
        "id": "IO_9Uy6axbMG",
        "colab_type": "code",
        "colab": {
          "base_uri": "https://localhost:8080/",
          "height": 34
        },
        "outputId": "3fd4706d-c6b4-4c15-98a4-a49c89ab73d9"
      },
      "source": [
        "test_img_raw = tf.io.read_file(test_img_path)\n",
        "print(repr(test_img_raw)[:100]+\"...\")"
      ],
      "execution_count": 25,
      "outputs": [
        {
          "output_type": "stream",
          "text": [
            "<tf.Tensor: shape=(), dtype=string, numpy=b'\\xff\\xd8\\xff\\xe0\\x00\\x10JFIF\\x00\\x01\\x01\\x00\\x00\\x01\\x00...\n"
          ],
          "name": "stdout"
        }
      ]
    },
    {
      "cell_type": "code",
      "metadata": {
        "pycharm": {
          "name": "#%%\n"
        },
        "id": "6HGQOEtqPJ1n",
        "colab_type": "code",
        "colab": {
          "base_uri": "https://localhost:8080/",
          "height": 51
        },
        "outputId": "8c079b8c-2f4f-46d2-c5e7-6d63760c10a3"
      },
      "source": [
        "train_img_tensor = tf.image.decode_image(train_img_raw)\n",
        "\n",
        "print(train_img_tensor.shape)\n",
        "print(train_img_tensor.dtype)"
      ],
      "execution_count": 26,
      "outputs": [
        {
          "output_type": "stream",
          "text": [
            "(32, 32, 3)\n",
            "<dtype: 'uint8'>\n"
          ],
          "name": "stdout"
        }
      ]
    },
    {
      "cell_type": "code",
      "metadata": {
        "id": "71r18nnJx2vu",
        "colab_type": "code",
        "colab": {
          "base_uri": "https://localhost:8080/",
          "height": 51
        },
        "outputId": "926471ec-8590-454c-e436-1f653092b459"
      },
      "source": [
        "test_img_tensor = tf.image.decode_image(test_img_raw)\n",
        "\n",
        "print(test_img_tensor.shape)\n",
        "print(test_img_tensor.dtype)"
      ],
      "execution_count": 27,
      "outputs": [
        {
          "output_type": "stream",
          "text": [
            "(32, 32, 3)\n",
            "<dtype: 'uint8'>\n"
          ],
          "name": "stdout"
        }
      ]
    },
    {
      "cell_type": "code",
      "metadata": {
        "pycharm": {
          "name": "#%%\n"
        },
        "id": "GljDk7a_PJ1p",
        "colab_type": "code",
        "colab": {
          "base_uri": "https://localhost:8080/",
          "height": 68
        },
        "outputId": "db66581f-8dcb-4044-9c4e-55bce2a3cca8"
      },
      "source": [
        "train_img_final = tf.image.resize(train_img_tensor, [32, 32])\n",
        "train_img_final = train_img_final/255.0\n",
        "print(train_img_final.shape)\n",
        "print(train_img_final.numpy().min())\n",
        "print(train_img_final.numpy().max())"
      ],
      "execution_count": 28,
      "outputs": [
        {
          "output_type": "stream",
          "text": [
            "(32, 32, 3)\n",
            "0.0\n",
            "1.0\n"
          ],
          "name": "stdout"
        }
      ]
    },
    {
      "cell_type": "code",
      "metadata": {
        "id": "QQkJpo2zyPAA",
        "colab_type": "code",
        "colab": {
          "base_uri": "https://localhost:8080/",
          "height": 68
        },
        "outputId": "72c5a4bb-89a6-4fde-8e45-9eb79c64e995"
      },
      "source": [
        "test_img_final = tf.image.resize(test_img_tensor, [32, 32])\n",
        "test_img_final = test_img_final/255.0\n",
        "print(test_img_final.shape)\n",
        "print(test_img_final.numpy().min())\n",
        "print(test_img_final.numpy().max())"
      ],
      "execution_count": 29,
      "outputs": [
        {
          "output_type": "stream",
          "text": [
            "(32, 32, 3)\n",
            "0.31764707\n",
            "0.9098039\n"
          ],
          "name": "stdout"
        }
      ]
    },
    {
      "cell_type": "code",
      "metadata": {
        "pycharm": {
          "name": "#%%\n"
        },
        "id": "R99Hp0nePJ1s",
        "colab_type": "code",
        "colab": {}
      },
      "source": [
        "def preprocess_image(image):\n",
        "    image = tf.io.decode_jpeg(image, channels=3)\n",
        "    image = tf.image.resize(image, [32, 32])\n",
        "    image /= 255.0  # normalize to [0,1] range\n",
        "\n",
        "    return image"
      ],
      "execution_count": 30,
      "outputs": []
    },
    {
      "cell_type": "code",
      "metadata": {
        "pycharm": {
          "name": "#%%\n"
        },
        "id": "RxJcX0GPPJ1u",
        "colab_type": "code",
        "colab": {}
      },
      "source": [
        "def load_and_preprocess_image(path):\n",
        "    image = tf.io.read_file(path)\n",
        "    return preprocess_image(image)"
      ],
      "execution_count": 31,
      "outputs": []
    },
    {
      "cell_type": "code",
      "metadata": {
        "pycharm": {
          "name": "#%%\n"
        },
        "id": "JLZAx2xNPJ1x",
        "colab_type": "code",
        "colab": {
          "base_uri": "https://localhost:8080/",
          "height": 298
        },
        "outputId": "f56a4b3a-486c-46cb-bcde-fb3878af06db"
      },
      "source": [
        "train_image_path = train_image_paths[0]\n",
        "train_label = train_image_labels[0]\n",
        "\n",
        "plt.imshow(load_and_preprocess_image(train_image_path))\n",
        "plt.grid(False)\n",
        "plt.xlabel(caption_image_train(train_img_path))\n",
        "plt.title(train_label_names[train_label].title())\n",
        "print()"
      ],
      "execution_count": 32,
      "outputs": [
        {
          "output_type": "stream",
          "text": [
            "\n"
          ],
          "name": "stdout"
        },
        {
          "output_type": "display_data",
          "data": {
            "image/png": "[encoded data removed]",
            "text/plain": [
              "<Figure size 432x288 with 1 Axes>"
            ]
          },
          "metadata": {
            "tags": [],
            "needs_background": "light"
          }
        }
      ]
    },
    {
      "cell_type": "code",
      "metadata": {
        "id": "DK_0CLH9y7kh",
        "colab_type": "code",
        "colab": {
          "base_uri": "https://localhost:8080/",
          "height": 298
        },
        "outputId": "f1280efa-f664-4a3e-925b-ca4f064a45c4"
      },
      "source": [
        "test_image_path = test_image_paths[0]\n",
        "test_label = test_image_labels[0]\n",
        "\n",
        "plt.imshow(load_and_preprocess_image(test_image_path))\n",
        "plt.grid(False)\n",
        "plt.xlabel(caption_image_test(test_img_path))\n",
        "plt.title(test_label_names[test_label].title())\n",
        "print()"
      ],
      "execution_count": 33,
      "outputs": [
        {
          "output_type": "stream",
          "text": [
            "\n"
          ],
          "name": "stdout"
        },
        {
          "output_type": "display_data",
          "data": {
            "image/png": "[encoded data removed]",
            "text/plain": [
              "<Figure size 432x288 with 1 Axes>"
            ]
          },
          "metadata": {
            "tags": [],
            "needs_background": "light"
          }
        }
      ]
    },
    {
      "cell_type": "code",
      "metadata": {
        "pycharm": {
          "name": "#%%\n"
        },
        "id": "BF0fjZfTPJ1z",
        "colab_type": "code",
        "colab": {
          "base_uri": "https://localhost:8080/",
          "height": 34
        },
        "outputId": "c1f33ac8-9d14-4c37-8883-5875cff08200"
      },
      "source": [
        "train_path_ds = tf.data.Dataset.from_tensor_slices(train_image_paths)\n",
        "print(train_path_ds)"
      ],
      "execution_count": 34,
      "outputs": [
        {
          "output_type": "stream",
          "text": [
            "<TensorSliceDataset shapes: (), types: tf.string>\n"
          ],
          "name": "stdout"
        }
      ]
    },
    {
      "cell_type": "code",
      "metadata": {
        "id": "SNEjPX3izSPL",
        "colab_type": "code",
        "colab": {
          "base_uri": "https://localhost:8080/",
          "height": 34
        },
        "outputId": "b141d4ca-e407-455d-a5c1-64fdf635af5b"
      },
      "source": [
        "test_path_ds = tf.data.Dataset.from_tensor_slices(test_image_paths)\n",
        "print(test_path_ds)"
      ],
      "execution_count": 35,
      "outputs": [
        {
          "output_type": "stream",
          "text": [
            "<TensorSliceDataset shapes: (), types: tf.string>\n"
          ],
          "name": "stdout"
        }
      ]
    },
    {
      "cell_type": "code",
      "metadata": {
        "pycharm": {
          "name": "#%%\n"
        },
        "id": "95BbCT68PJ12",
        "colab_type": "code",
        "colab": {}
      },
      "source": [
        "train_image_ds = train_path_ds.map(load_and_preprocess_image, num_parallel_calls=AUTOTUNE)"
      ],
      "execution_count": 36,
      "outputs": []
    },
    {
      "cell_type": "code",
      "metadata": {
        "id": "5DY5LOIdzp0S",
        "colab_type": "code",
        "colab": {}
      },
      "source": [
        "test_image_ds = test_path_ds.map(load_and_preprocess_image, num_parallel_calls=AUTOTUNE)"
      ],
      "execution_count": 37,
      "outputs": []
    },
    {
      "cell_type": "code",
      "metadata": {
        "pycharm": {
          "name": "#%%\n"
        },
        "id": "OZ_f5S5wPJ14",
        "colab_type": "code",
        "colab": {
          "base_uri": "https://localhost:8080/",
          "height": 627
        },
        "outputId": "f68ad03d-c9a9-45bc-aa67-22d7f1945b03"
      },
      "source": [
        "plt.figure(figsize=(8,8))\n",
        "for n, image in enumerate(train_image_ds.take(4)):\n",
        "    plt.subplot(2,2,n+1)\n",
        "    plt.imshow(image)\n",
        "    plt.grid(False)\n",
        "    plt.xticks([])\n",
        "    plt.yticks([])\n",
        "    plt.xlabel(train_image_paths[n])\n",
        "    plt.show()"
      ],
      "execution_count": 38,
      "outputs": [
        {
          "output_type": "display_data",
          "data": {
            "image/png": "[encoded data removed]",
            "text/plain": [
              "<Figure size 576x576 with 1 Axes>"
            ]
          },
          "metadata": {
            "tags": []
          }
        },
        {
          "output_type": "display_data",
          "data": {
            "image/png": "[encoded data removed]",
            "text/plain": [
              "<Figure size 432x288 with 1 Axes>"
            ]
          },
          "metadata": {
            "tags": []
          }
        },
        {
          "output_type": "display_data",
          "data": {
            "image/png": "[encoded data removed]",
            "text/plain": [
              "<Figure size 432x288 with 1 Axes>"
            ]
          },
          "metadata": {
            "tags": []
          }
        },
        {
          "output_type": "display_data",
          "data": {
            "image/png": "[encoded data removed]",
            "text/plain": [
              "<Figure size 432x288 with 1 Axes>"
            ]
          },
          "metadata": {
            "tags": []
          }
        }
      ]
    },
    {
      "cell_type": "code",
      "metadata": {
        "id": "A73c5SK5zxhp",
        "colab_type": "code",
        "colab": {
          "base_uri": "https://localhost:8080/",
          "height": 627
        },
        "outputId": "3d9fb363-6990-406f-8225-a0ba0885b50b"
      },
      "source": [
        "plt.figure(figsize=(8,8))\n",
        "for n, image in enumerate(test_image_ds.take(4)):\n",
        "    plt.subplot(2,2,n+1)\n",
        "    plt.imshow(image)\n",
        "    plt.grid(False)\n",
        "    plt.xticks([])\n",
        "    plt.yticks([])\n",
        "    plt.xlabel(test_image_paths[n])\n",
        "    plt.show()"
      ],
      "execution_count": 39,
      "outputs": [
        {
          "output_type": "display_data",
          "data": {
            "image/png": "[encoded data removed]",
            "text/plain": [
              "<Figure size 576x576 with 1 Axes>"
            ]
          },
          "metadata": {
            "tags": []
          }
        },
        {
          "output_type": "display_data",
          "data": {
            "image/png": "[encoded data removed]",
            "text/plain": [
              "<Figure size 432x288 with 1 Axes>"
            ]
          },
          "metadata": {
            "tags": []
          }
        },
        {
          "output_type": "display_data",
          "data": {
            "image/png": "[encoded data removed]",
            "text/plain": [
              "<Figure size 432x288 with 1 Axes>"
            ]
          },
          "metadata": {
            "tags": []
          }
        },
        {
          "output_type": "display_data",
          "data": {
            "image/png": "[encoded data removed]",
            "text/plain": [
              "<Figure size 432x288 with 1 Axes>"
            ]
          },
          "metadata": {
            "tags": []
          }
        }
      ]
    },
    {
      "cell_type": "code",
      "metadata": {
        "pycharm": {
          "name": "#%%\n"
        },
        "id": "dCjhfWzmPJ16",
        "colab_type": "code",
        "colab": {
          "base_uri": "https://localhost:8080/",
          "height": 187
        },
        "outputId": "0f26b3c3-b27f-4888-e372-fbca58876cae"
      },
      "source": [
        "train_label_ds = tf.data.Dataset.from_tensor_slices(tf.cast(train_image_labels, tf.int64))\n",
        "for label in train_label_ds.take(10):\n",
        "    print(train_label_names[label.numpy()])"
      ],
      "execution_count": 40,
      "outputs": [
        {
          "output_type": "stream",
          "text": [
            "Щ\n",
            "Ъ\n",
            "х\n",
            "Ч\n",
            "х\n",
            "Й\n",
            "ь\n",
            "Б\n",
            "с\n",
            "Ю\n"
          ],
          "name": "stdout"
        }
      ]
    },
    {
      "cell_type": "code",
      "metadata": {
        "id": "Bn38eOMZ0NHy",
        "colab_type": "code",
        "colab": {
          "base_uri": "https://localhost:8080/",
          "height": 187
        },
        "outputId": "cab78457-ddcc-4ae2-b195-f67e289194fe"
      },
      "source": [
        "test_label_ds = tf.data.Dataset.from_tensor_slices(tf.cast(test_image_labels, tf.int64))\n",
        "for label in test_label_ds.take(10):\n",
        "    print(test_label_names[label.numpy()])"
      ],
      "execution_count": 41,
      "outputs": [
        {
          "output_type": "stream",
          "text": [
            "ш\n",
            "а\n",
            "н\n",
            "ю\n",
            "в\n",
            "ь\n",
            "Н\n",
            "д\n",
            "Щ\n",
            "ж\n"
          ],
          "name": "stdout"
        }
      ]
    },
    {
      "cell_type": "code",
      "metadata": {
        "pycharm": {
          "name": "#%%\n"
        },
        "id": "FD1FJLMqPJ18",
        "colab_type": "code",
        "colab": {}
      },
      "source": [
        "train_image_label_ds = tf.data.Dataset.zip((train_image_ds, train_label_ds))"
      ],
      "execution_count": 42,
      "outputs": []
    },
    {
      "cell_type": "code",
      "metadata": {
        "id": "ECTv_bRT0Y6g",
        "colab_type": "code",
        "colab": {}
      },
      "source": [
        "test_image_label_ds = tf.data.Dataset.zip((test_image_ds, test_label_ds))"
      ],
      "execution_count": 43,
      "outputs": []
    },
    {
      "cell_type": "code",
      "metadata": {
        "pycharm": {
          "name": "#%%\n"
        },
        "id": "JpFgfq-TPJ1_",
        "colab_type": "code",
        "colab": {
          "base_uri": "https://localhost:8080/",
          "height": 34
        },
        "outputId": "b731673b-487c-45d2-e4ec-52694a23f15b"
      },
      "source": [
        "print(train_image_label_ds)"
      ],
      "execution_count": 44,
      "outputs": [
        {
          "output_type": "stream",
          "text": [
            "<ZipDataset shapes: ((32, 32, 3), ()), types: (tf.float32, tf.int64)>\n"
          ],
          "name": "stdout"
        }
      ]
    },
    {
      "cell_type": "code",
      "metadata": {
        "id": "aPjYKkl80mPY",
        "colab_type": "code",
        "colab": {
          "base_uri": "https://localhost:8080/",
          "height": 34
        },
        "outputId": "a7e7e95e-4355-4c84-c90b-8df3575c057f"
      },
      "source": [
        "print(train_image_label_ds)"
      ],
      "execution_count": 45,
      "outputs": [
        {
          "output_type": "stream",
          "text": [
            "<ZipDataset shapes: ((32, 32, 3), ()), types: (tf.float32, tf.int64)>\n"
          ],
          "name": "stdout"
        }
      ]
    },
    {
      "cell_type": "code",
      "metadata": {
        "pycharm": {
          "name": "#%%\n"
        },
        "id": "fW1fDchVPJ2H",
        "colab_type": "code",
        "colab": {
          "base_uri": "https://localhost:8080/",
          "height": 85
        },
        "outputId": "ff7f509b-67ef-4dac-a19d-40f74e12cdf2"
      },
      "source": [
        "train_ds = train_image_label_ds.apply(\n",
        "  tf.data.experimental.shuffle_and_repeat(buffer_size=image_count))\n",
        "train_ds = train_ds.batch(BATCH_SIZE)\n",
        "train_ds = train_ds.prefetch(buffer_size=AUTOTUNE)\n",
        "train_ds"
      ],
      "execution_count": 46,
      "outputs": [
        {
          "output_type": "stream",
          "text": [
            "WARNING:tensorflow:From <ipython-input-46-ad9d9c7fa76c>:2: shuffle_and_repeat (from tensorflow.python.data.experimental.ops.shuffle_ops) is deprecated and will be removed in a future version.\n",
            "Instructions for updating:\n",
            "Use `tf.data.Dataset.shuffle(buffer_size, seed)` followed by `tf.data.Dataset.repeat(count)`. Static tf.data optimizations will take care of using the fused implementation.\n"
          ],
          "name": "stdout"
        },
        {
          "output_type": "execute_result",
          "data": {
            "text/plain": [
              "<PrefetchDataset shapes: ((None, 32, 32, 3), (None,)), types: (tf.float32, tf.int64)>"
            ]
          },
          "metadata": {
            "tags": []
          },
          "execution_count": 46
        }
      ]
    },
    {
      "cell_type": "code",
      "metadata": {
        "id": "0vf964Lt36Ho",
        "colab_type": "code",
        "colab": {
          "base_uri": "https://localhost:8080/",
          "height": 34
        },
        "outputId": "0ddd0bd5-ae6d-45b7-fdb6-dbb181ba6b82"
      },
      "source": [
        "test_ds = test_image_label_ds.apply(\n",
        "  tf.data.experimental.shuffle_and_repeat(buffer_size=image_count))\n",
        "test_ds = test_ds.batch(BATCH_SIZE)\n",
        "test_ds = test_ds.prefetch(buffer_size=AUTOTUNE)\n",
        "test_ds"
      ],
      "execution_count": 47,
      "outputs": [
        {
          "output_type": "execute_result",
          "data": {
            "text/plain": [
              "<PrefetchDataset shapes: ((None, 32, 32, 3), (None,)), types: (tf.float32, tf.int64)>"
            ]
          },
          "metadata": {
            "tags": []
          },
          "execution_count": 47
        }
      ]
    },
    {
      "cell_type": "code",
      "metadata": {
        "pycharm": {
          "name": "#%%\n"
        },
        "id": "LiaiQwvnPJ2L",
        "colab_type": "code",
        "colab": {}
      },
      "source": [
        "# Заполнение буфера перемешивания\n",
        "train_image_batch, train_label_batch = next(iter(train_ds))"
      ],
      "execution_count": 48,
      "outputs": []
    },
    {
      "cell_type": "code",
      "metadata": {
        "id": "tsP5th7a4R5y",
        "colab_type": "code",
        "colab": {}
      },
      "source": [
        "test_image_batch, test_label_batch = next(iter(test_ds))"
      ],
      "execution_count": 49,
      "outputs": []
    },
    {
      "cell_type": "code",
      "metadata": {
        "pycharm": {
          "name": "#%%\n"
        },
        "id": "OxjT5uaBPJ2N",
        "colab_type": "code",
        "colab": {}
      },
      "source": [
        "model = models.Sequential()\n",
        "model.add(layers.Conv2D(32, (3, 3), activation='relu', padding='same', input_shape=(32, 32, 3)))\n",
        "model.add(layers.Conv2D(32, (3, 3), activation='relu', padding='same'))\n",
        "model.add(layers.MaxPool2D((2, 2)))\n",
        "model.add(layers.Conv2D(32, (3, 3), activation='relu', padding='same'))\n",
        "model.add(layers.Conv2D(32, (3, 3), activation='relu', padding='same'))\n",
        "model.add(layers.MaxPool2D((2, 2)))\n",
        "model.add(layers.Conv2D(32, (3, 3), activation='relu', padding='same'))\n",
        "model.add(layers.Conv2D(32, (3, 3), activation='relu', padding='same'))\n",
        "model.add(layers.MaxPool2D((2, 2)))\n",
        "model.add(layers.Flatten())\n",
        "model.add(layers.Dense(128, activation='relu'))\n",
        "model.add(layers.Dense(66))"
      ],
      "execution_count": 50,
      "outputs": []
    },
    {
      "cell_type": "code",
      "metadata": {
        "pycharm": {
          "name": "#%%\n"
        },
        "id": "WR4_cdZCPJ2P",
        "colab_type": "code",
        "colab": {
          "base_uri": "https://localhost:8080/",
          "height": 85
        },
        "outputId": "c8d7a6da-e4a9-465e-cac6-8486f9529f9e"
      },
      "source": [
        "train_logit_batch = model(train_image_batch).numpy()\n",
        "\n",
        "print(\"min logit:\", train_logit_batch.min())\n",
        "print(\"max logit:\", train_logit_batch.max())\n",
        "print()\n",
        "\n",
        "print(\"Shape:\", train_logit_batch.shape)"
      ],
      "execution_count": 51,
      "outputs": [
        {
          "output_type": "stream",
          "text": [
            "min logit: -0.18599485\n",
            "max logit: 0.12768331\n",
            "\n",
            "Shape: (1000, 66)\n"
          ],
          "name": "stdout"
        }
      ]
    },
    {
      "cell_type": "code",
      "metadata": {
        "id": "I6ak1ffo4iI1",
        "colab_type": "code",
        "colab": {
          "base_uri": "https://localhost:8080/",
          "height": 85
        },
        "outputId": "25f41fcd-9a26-42c0-be69-e096432f60ba"
      },
      "source": [
        "test_logit_batch = model(test_image_batch).numpy()\n",
        "\n",
        "print(\"min logit:\", test_logit_batch.min())\n",
        "print(\"max logit:\", test_logit_batch.max())\n",
        "print()\n",
        "\n",
        "print(\"Shape:\", test_logit_batch.shape)"
      ],
      "execution_count": 52,
      "outputs": [
        {
          "output_type": "stream",
          "text": [
            "min logit: -0.16340712\n",
            "max logit: 0.122756146\n",
            "\n",
            "Shape: (1000, 66)\n"
          ],
          "name": "stdout"
        }
      ]
    },
    {
      "cell_type": "code",
      "metadata": {
        "pycharm": {
          "name": "#%%\n"
        },
        "id": "c5CmE4WEPJ2T",
        "colab_type": "code",
        "colab": {
          "base_uri": "https://localhost:8080/",
          "height": 34
        },
        "outputId": "b3774b2e-c550-4855-8767-9ce9778836b2"
      },
      "source": [
        "len(model.trainable_variables)"
      ],
      "execution_count": 53,
      "outputs": [
        {
          "output_type": "execute_result",
          "data": {
            "text/plain": [
              "16"
            ]
          },
          "metadata": {
            "tags": []
          },
          "execution_count": 53
        }
      ]
    },
    {
      "cell_type": "code",
      "metadata": {
        "pycharm": {
          "name": "#%%\n"
        },
        "id": "T-DPfQIaPJ2V",
        "colab_type": "code",
        "colab": {
          "base_uri": "https://localhost:8080/",
          "height": 561
        },
        "outputId": "6fb6c1d3-81a4-4046-865f-9e7f5aca2db8"
      },
      "source": [
        "model.summary()"
      ],
      "execution_count": 54,
      "outputs": [
        {
          "output_type": "stream",
          "text": [
            "Model: \"sequential\"\n",
            "_________________________________________________________________\n",
            "Layer (type)                 Output Shape              Param #   \n",
            "=================================================================\n",
            "conv2d (Conv2D)              (None, 32, 32, 32)        896       \n",
            "_________________________________________________________________\n",
            "conv2d_1 (Conv2D)            (None, 32, 32, 32)        9248      \n",
            "_________________________________________________________________\n",
            "max_pooling2d (MaxPooling2D) (None, 16, 16, 32)        0         \n",
            "_________________________________________________________________\n",
            "conv2d_2 (Conv2D)            (None, 16, 16, 32)        9248      \n",
            "_________________________________________________________________\n",
            "conv2d_3 (Conv2D)            (None, 16, 16, 32)        9248      \n",
            "_________________________________________________________________\n",
            "max_pooling2d_1 (MaxPooling2 (None, 8, 8, 32)          0         \n",
            "_________________________________________________________________\n",
            "conv2d_4 (Conv2D)            (None, 8, 8, 32)          9248      \n",
            "_________________________________________________________________\n",
            "conv2d_5 (Conv2D)            (None, 8, 8, 32)          9248      \n",
            "_________________________________________________________________\n",
            "max_pooling2d_2 (MaxPooling2 (None, 4, 4, 32)          0         \n",
            "_________________________________________________________________\n",
            "flatten (Flatten)            (None, 512)               0         \n",
            "_________________________________________________________________\n",
            "dense (Dense)                (None, 128)               65664     \n",
            "_________________________________________________________________\n",
            "dense_1 (Dense)              (None, 66)                8514      \n",
            "=================================================================\n",
            "Total params: 121,314\n",
            "Trainable params: 121,314\n",
            "Non-trainable params: 0\n",
            "_________________________________________________________________\n"
          ],
          "name": "stdout"
        }
      ]
    },
    {
      "cell_type": "code",
      "metadata": {
        "id": "pn1VgcR3gLnt",
        "colab_type": "code",
        "colab": {}
      },
      "source": [
        "model.compile(optimizer='adam',\n",
        "              loss=tf.keras.losses.SparseCategoricalCrossentropy(from_logits=True),\n",
        "              metrics=['accuracy'])"
      ],
      "execution_count": 55,
      "outputs": []
    },
    {
      "cell_type": "code",
      "metadata": {
        "pycharm": {
          "name": "#%%\n"
        },
        "id": "E36SHexYPJ2X",
        "colab_type": "code",
        "colab": {
          "base_uri": "https://localhost:8080/",
          "height": 34
        },
        "outputId": "5a9b521c-99e2-4091-d718-59214f4c6d15"
      },
      "source": [
        "steps_per_epoch=tf.math.ceil(len(train_image_paths)/BATCH_SIZE).numpy()\n",
        "steps_per_epoch"
      ],
      "execution_count": 56,
      "outputs": [
        {
          "output_type": "execute_result",
          "data": {
            "text/plain": [
              "66.0"
            ]
          },
          "metadata": {
            "tags": []
          },
          "execution_count": 56
        }
      ]
    },
    {
      "cell_type": "code",
      "metadata": {
        "pycharm": {
          "name": "#%%\n"
        },
        "id": "Uph-LZazPJ2Z",
        "colab_type": "code",
        "colab": {}
      },
      "source": [
        "with tf.device('/GPU:0'):\n",
        "    history = model.fit(train_ds, epochs=200, steps_per_epoch=66, validation_data=test_ds, validation_steps=10)"
      ],
      "execution_count": null,
      "outputs": []
    },
    {
      "cell_type": "code",
      "metadata": {
        "id": "lz5-brwCcE9M",
        "colab_type": "code",
        "colab": {}
      },
      "source": [
        "plt.figure(figsize=(20, 8))\n",
        "plt.subplot(1, 2, 1)\n",
        "plt.plot(history.history['accuracy'], label='accuracy')\n",
        "plt.plot(history.history['val_accuracy'], label = 'val_accuracy')\n",
        "plt.xlabel('Epoch')\n",
        "plt.ylabel('Accuracy')\n",
        "plt.legend(loc='lower right')\n",
        "plt.subplot(1, 2, 2)\n",
        "plt.plot(history.history['loss'], label='loss')\n",
        "plt.plot(history.history['val_loss'], label = 'val_loss')\n",
        "plt.xlabel('Epoch')\n",
        "plt.ylabel('Loss')\n",
        "plt.legend(loc='upper right')"
      ],
      "execution_count": null,
      "outputs": []
    },
    {
      "cell_type": "code",
      "metadata": {
        "id": "CbxYnnKZ5_dl",
        "colab_type": "code",
        "colab": {}
      },
      "source": [
        "model.save('Recognition_RusHandRilNet_new.h5')"
      ],
      "execution_count": 60,
      "outputs": []
    }
  ]
}