{
  "nbformat": 4,
  "nbformat_minor": 0,
  "metadata": {
    "kernelspec": {
      "display_name": "Python 3",
      "language": "python",
      "name": "python3"
    },
    "language_info": {
      "codemirror_mode": {
        "name": "ipython",
        "version": 2
      },
      "file_extension": ".py",
      "mimetype": "text/x-python",
      "name": "python",
      "nbconvert_exporter": "python",
      "pygments_lexer": "ipython2",
      "version": "2.7.6"
    },
    "colab": {
      "name": "dataset.ipynb",
      "provenance": []
    },
    "accelerator": "GPU"
  },
  "cells": [
    {
      "cell_type": "code",
      "metadata": {
        "id": "LexRCkgEPJ1C",
        "colab_type": "code",
        "colab": {}
      },
      "source": [
        "from __future__ import absolute_import, division, print_function, unicode_literals\n",
        "\n",
        "import tensorflow as tf\n",
        "from tensorflow.keras import datasets, layers, models\n",
        "import pathlib\n",
        "import random\n",
        "import os\n",
        "import IPython.display as display\n",
        "import matplotlib.pyplot as plt\n",
        "from tensorflow.python.client import device_lib"
      ],
      "execution_count": 1,
      "outputs": []
    },
    {
      "cell_type": "code",
      "metadata": {
        "id": "VR85s8XpN7wn",
        "colab_type": "code",
        "colab": {
          "base_uri": "https://localhost:8080/",
          "height": 153
        },
        "outputId": "8730e1ad-883c-4563-cbe0-c9940da9102d"
      },
      "source": [
        "!git clone https://github.com/DKuzn/Recognition_RusHandRilNet.git"
      ],
      "execution_count": 2,
      "outputs": [
        {
          "output_type": "stream",
          "text": [
            "Cloning into 'Recognition_RusHandRilNet'...\n",
            "remote: Enumerating objects: 49610, done.\u001b[K\n",
            "remote: Counting objects: 100% (49610/49610), done.\u001b[K\n",
            "remote: Compressing objects: 100% (155/155), done.\u001b[K\n",
            "remote: Total 114344 (delta 49455), reused 49609 (delta 49455), pack-reused 64734\u001b[K\n",
            "Receiving objects: 100% (114344/114344), 154.13 MiB | 10.93 MiB/s, done.\n",
            "Resolving deltas: 100% (67473/67473), done.\n",
            "Checking out files: 100% (153077/153077), done.\n"
          ],
          "name": "stdout"
        }
      ]
    },
    {
      "cell_type": "code",
      "metadata": {
        "pycharm": {
          "name": "#%%\n"
        },
        "id": "1jGewyPTPJ1G",
        "colab_type": "code",
        "colab": {
          "base_uri": "https://localhost:8080/",
          "height": 34
        },
        "outputId": "aef2ec83-bed7-4b38-b14d-56e140d34d48"
      },
      "source": [
        "print(\"Num GPUs Available: \", len(tf.config.experimental.list_physical_devices('GPU')))"
      ],
      "execution_count": 3,
      "outputs": [
        {
          "output_type": "stream",
          "text": [
            "Num GPUs Available:  1\n"
          ],
          "name": "stdout"
        }
      ]
    },
    {
      "cell_type": "code",
      "metadata": {
        "pycharm": {
          "name": "#%%\n"
        },
        "id": "uhmnBuQkPJ1J",
        "colab_type": "code",
        "colab": {}
      },
      "source": [
        "AUTOTUNE = tf.data.experimental.AUTOTUNE\n",
        "ALPHABET = 'а б в г д е ё ж з и й к л м н о п р с т у ф х ц ч ш щ ъ ы ь э ю я'.split()\n",
        "BATCH_SIZE = 1000"
      ],
      "execution_count": 4,
      "outputs": []
    },
    {
      "cell_type": "code",
      "metadata": {
        "pycharm": {
          "name": "#%%\n"
        },
        "id": "zZ2ebexlPJ1M",
        "colab_type": "code",
        "colab": {
          "base_uri": "https://localhost:8080/",
          "height": 51
        },
        "outputId": "79bf4f0b-aa1e-400e-c136-f82070794ce6"
      },
      "source": [
        "data_root_orig_train = '/content/Recognition_RusHandRilNet/Train_dataset'\n",
        "data_root_train = pathlib.Path(data_root_orig_train)\n",
        "print(data_root_train)\n",
        "data_root_orig_test = '/content/Recognition_RusHandRilNet/Test_dataset'\n",
        "data_root_test = pathlib.Path(data_root_orig_test)\n",
        "print(data_root_test)"
      ],
      "execution_count": 5,
      "outputs": [
        {
          "output_type": "stream",
          "text": [
            "/content/Recognition_RusHandRilNet/Train_dataset\n",
            "/content/Recognition_RusHandRilNet/Test_dataset\n"
          ],
          "name": "stdout"
        }
      ]
    },
    {
      "cell_type": "code",
      "metadata": {
        "pycharm": {
          "name": "#%%\n"
        },
        "id": "Yn47ZqwyPJ1P",
        "colab_type": "code",
        "colab": {
          "base_uri": "https://localhost:8080/",
          "height": 1000
        },
        "outputId": "f732570b-67bf-49d0-a612-250cad48493d"
      },
      "source": [
        "for item in data_root_train.iterdir():\n",
        "  print(item)"
      ],
      "execution_count": 6,
      "outputs": [
        {
          "output_type": "stream",
          "text": [
            "/content/Recognition_RusHandRilNet/Train_dataset/Л\n",
            "/content/Recognition_RusHandRilNet/Train_dataset/Я\n",
            "/content/Recognition_RusHandRilNet/Train_dataset/ь\n",
            "/content/Recognition_RusHandRilNet/Train_dataset/и\n",
            "/content/Recognition_RusHandRilNet/Train_dataset/У\n",
            "/content/Recognition_RusHandRilNet/Train_dataset/ч\n",
            "/content/Recognition_RusHandRilNet/Train_dataset/ф\n",
            "/content/Recognition_RusHandRilNet/Train_dataset/Б\n",
            "/content/Recognition_RusHandRilNet/Train_dataset/ы\n",
            "/content/Recognition_RusHandRilNet/Train_dataset/ж\n",
            "/content/Recognition_RusHandRilNet/Train_dataset/Ж\n",
            "/content/Recognition_RusHandRilNet/Train_dataset/Ь\n",
            "/content/Recognition_RusHandRilNet/Train_dataset/я\n",
            "/content/Recognition_RusHandRilNet/Train_dataset/ц\n",
            "/content/Recognition_RusHandRilNet/Train_dataset/ю\n",
            "/content/Recognition_RusHandRilNet/Train_dataset/Щ\n",
            "/content/Recognition_RusHandRilNet/Train_dataset/э\n",
            "/content/Recognition_RusHandRilNet/Train_dataset/с\n",
            "/content/Recognition_RusHandRilNet/Train_dataset/З\n",
            "/content/Recognition_RusHandRilNet/Train_dataset/о\n",
            "/content/Recognition_RusHandRilNet/Train_dataset/й\n",
            "/content/Recognition_RusHandRilNet/Train_dataset/б\n",
            "/content/Recognition_RusHandRilNet/Train_dataset/С\n",
            "/content/Recognition_RusHandRilNet/Train_dataset/щ\n",
            "/content/Recognition_RusHandRilNet/Train_dataset/Ц\n",
            "/content/Recognition_RusHandRilNet/Train_dataset/Й\n",
            "/content/Recognition_RusHandRilNet/Train_dataset/Ш\n",
            "/content/Recognition_RusHandRilNet/Train_dataset/Ы\n",
            "/content/Recognition_RusHandRilNet/Train_dataset/М\n",
            "/content/Recognition_RusHandRilNet/Train_dataset/ъ\n",
            "/content/Recognition_RusHandRilNet/Train_dataset/Н\n",
            "/content/Recognition_RusHandRilNet/Train_dataset/л\n",
            "/content/Recognition_RusHandRilNet/Train_dataset/Д\n",
            "/content/Recognition_RusHandRilNet/Train_dataset/д\n",
            "/content/Recognition_RusHandRilNet/Train_dataset/А\n",
            "/content/Recognition_RusHandRilNet/Train_dataset/т\n",
            "/content/Recognition_RusHandRilNet/Train_dataset/Р\n",
            "/content/Recognition_RusHandRilNet/Train_dataset/Ф\n",
            "/content/Recognition_RusHandRilNet/Train_dataset/е\n",
            "/content/Recognition_RusHandRilNet/Train_dataset/К\n",
            "/content/Recognition_RusHandRilNet/Train_dataset/Е\n",
            "/content/Recognition_RusHandRilNet/Train_dataset/Э\n",
            "/content/Recognition_RusHandRilNet/Train_dataset/н\n",
            "/content/Recognition_RusHandRilNet/Train_dataset/Ё\n",
            "/content/Recognition_RusHandRilNet/Train_dataset/Т\n",
            "/content/Recognition_RusHandRilNet/Train_dataset/г\n",
            "/content/Recognition_RusHandRilNet/Train_dataset/В\n",
            "/content/Recognition_RusHandRilNet/Train_dataset/И\n",
            "/content/Recognition_RusHandRilNet/Train_dataset/м\n",
            "/content/Recognition_RusHandRilNet/Train_dataset/п\n",
            "/content/Recognition_RusHandRilNet/Train_dataset/к\n",
            "/content/Recognition_RusHandRilNet/Train_dataset/Х\n",
            "/content/Recognition_RusHandRilNet/Train_dataset/р\n",
            "/content/Recognition_RusHandRilNet/Train_dataset/Г\n",
            "/content/Recognition_RusHandRilNet/Train_dataset/Ю\n",
            "/content/Recognition_RusHandRilNet/Train_dataset/х\n",
            "/content/Recognition_RusHandRilNet/Train_dataset/у\n",
            "/content/Recognition_RusHandRilNet/Train_dataset/Ч\n",
            "/content/Recognition_RusHandRilNet/Train_dataset/О\n",
            "/content/Recognition_RusHandRilNet/Train_dataset/ш\n",
            "/content/Recognition_RusHandRilNet/Train_dataset/з\n",
            "/content/Recognition_RusHandRilNet/Train_dataset/в\n",
            "/content/Recognition_RusHandRilNet/Train_dataset/Ъ\n",
            "/content/Recognition_RusHandRilNet/Train_dataset/а\n",
            "/content/Recognition_RusHandRilNet/Train_dataset/П\n",
            "/content/Recognition_RusHandRilNet/Train_dataset/ё\n"
          ],
          "name": "stdout"
        }
      ]
    },
    {
      "cell_type": "code",
      "metadata": {
        "id": "9TRT0RvPuo-r",
        "colab_type": "code",
        "colab": {
          "base_uri": "https://localhost:8080/",
          "height": 1000
        },
        "outputId": "9bc06618-f1e6-4cd8-e2a7-f5dca10cc165"
      },
      "source": [
        "for item in data_root_test.iterdir():\n",
        "  print(item)"
      ],
      "execution_count": 7,
      "outputs": [
        {
          "output_type": "stream",
          "text": [
            "/content/Recognition_RusHandRilNet/Test_dataset/Л\n",
            "/content/Recognition_RusHandRilNet/Test_dataset/Я\n",
            "/content/Recognition_RusHandRilNet/Test_dataset/ь\n",
            "/content/Recognition_RusHandRilNet/Test_dataset/и\n",
            "/content/Recognition_RusHandRilNet/Test_dataset/У\n",
            "/content/Recognition_RusHandRilNet/Test_dataset/ч\n",
            "/content/Recognition_RusHandRilNet/Test_dataset/ф\n",
            "/content/Recognition_RusHandRilNet/Test_dataset/Б\n",
            "/content/Recognition_RusHandRilNet/Test_dataset/ы\n",
            "/content/Recognition_RusHandRilNet/Test_dataset/ж\n",
            "/content/Recognition_RusHandRilNet/Test_dataset/Ж\n",
            "/content/Recognition_RusHandRilNet/Test_dataset/Ь\n",
            "/content/Recognition_RusHandRilNet/Test_dataset/я\n",
            "/content/Recognition_RusHandRilNet/Test_dataset/ц\n",
            "/content/Recognition_RusHandRilNet/Test_dataset/ю\n",
            "/content/Recognition_RusHandRilNet/Test_dataset/Щ\n",
            "/content/Recognition_RusHandRilNet/Test_dataset/э\n",
            "/content/Recognition_RusHandRilNet/Test_dataset/с\n",
            "/content/Recognition_RusHandRilNet/Test_dataset/З\n",
            "/content/Recognition_RusHandRilNet/Test_dataset/о\n",
            "/content/Recognition_RusHandRilNet/Test_dataset/й\n",
            "/content/Recognition_RusHandRilNet/Test_dataset/б\n",
            "/content/Recognition_RusHandRilNet/Test_dataset/С\n",
            "/content/Recognition_RusHandRilNet/Test_dataset/щ\n",
            "/content/Recognition_RusHandRilNet/Test_dataset/Ц\n",
            "/content/Recognition_RusHandRilNet/Test_dataset/Й\n",
            "/content/Recognition_RusHandRilNet/Test_dataset/Ш\n",
            "/content/Recognition_RusHandRilNet/Test_dataset/Ы\n",
            "/content/Recognition_RusHandRilNet/Test_dataset/М\n",
            "/content/Recognition_RusHandRilNet/Test_dataset/ъ\n",
            "/content/Recognition_RusHandRilNet/Test_dataset/Н\n",
            "/content/Recognition_RusHandRilNet/Test_dataset/л\n",
            "/content/Recognition_RusHandRilNet/Test_dataset/Д\n",
            "/content/Recognition_RusHandRilNet/Test_dataset/д\n",
            "/content/Recognition_RusHandRilNet/Test_dataset/А\n",
            "/content/Recognition_RusHandRilNet/Test_dataset/т\n",
            "/content/Recognition_RusHandRilNet/Test_dataset/Р\n",
            "/content/Recognition_RusHandRilNet/Test_dataset/Ф\n",
            "/content/Recognition_RusHandRilNet/Test_dataset/е\n",
            "/content/Recognition_RusHandRilNet/Test_dataset/К\n",
            "/content/Recognition_RusHandRilNet/Test_dataset/Е\n",
            "/content/Recognition_RusHandRilNet/Test_dataset/Э\n",
            "/content/Recognition_RusHandRilNet/Test_dataset/н\n",
            "/content/Recognition_RusHandRilNet/Test_dataset/Ё\n",
            "/content/Recognition_RusHandRilNet/Test_dataset/Т\n",
            "/content/Recognition_RusHandRilNet/Test_dataset/г\n",
            "/content/Recognition_RusHandRilNet/Test_dataset/В\n",
            "/content/Recognition_RusHandRilNet/Test_dataset/И\n",
            "/content/Recognition_RusHandRilNet/Test_dataset/м\n",
            "/content/Recognition_RusHandRilNet/Test_dataset/п\n",
            "/content/Recognition_RusHandRilNet/Test_dataset/к\n",
            "/content/Recognition_RusHandRilNet/Test_dataset/Х\n",
            "/content/Recognition_RusHandRilNet/Test_dataset/р\n",
            "/content/Recognition_RusHandRilNet/Test_dataset/Г\n",
            "/content/Recognition_RusHandRilNet/Test_dataset/Ю\n",
            "/content/Recognition_RusHandRilNet/Test_dataset/х\n",
            "/content/Recognition_RusHandRilNet/Test_dataset/у\n",
            "/content/Recognition_RusHandRilNet/Test_dataset/Ч\n",
            "/content/Recognition_RusHandRilNet/Test_dataset/О\n",
            "/content/Recognition_RusHandRilNet/Test_dataset/ш\n",
            "/content/Recognition_RusHandRilNet/Test_dataset/з\n",
            "/content/Recognition_RusHandRilNet/Test_dataset/в\n",
            "/content/Recognition_RusHandRilNet/Test_dataset/Ъ\n",
            "/content/Recognition_RusHandRilNet/Test_dataset/а\n",
            "/content/Recognition_RusHandRilNet/Test_dataset/П\n",
            "/content/Recognition_RusHandRilNet/Test_dataset/ё\n"
          ],
          "name": "stdout"
        }
      ]
    },
    {
      "cell_type": "code",
      "metadata": {
        "pycharm": {
          "name": "#%%\n"
        },
        "id": "VETGsQfgPJ1R",
        "colab_type": "code",
        "colab": {
          "base_uri": "https://localhost:8080/",
          "height": 34
        },
        "outputId": "0d4bebe3-679d-4e75-91dd-d5ae94175fc8"
      },
      "source": [
        "train_image_paths = list(data_root_train.glob('*/*'))\n",
        "train_image_paths = [str(path) for path in train_image_paths]\n",
        "random.shuffle(train_image_paths)\n",
        "\n",
        "image_count = len(train_image_paths)\n",
        "image_count"
      ],
      "execution_count": 8,
      "outputs": [
        {
          "output_type": "execute_result",
          "data": {
            "text/plain": [
              "66000"
            ]
          },
          "metadata": {
            "tags": []
          },
          "execution_count": 8
        }
      ]
    },
    {
      "cell_type": "code",
      "metadata": {
        "id": "weW4XW0KvDR1",
        "colab_type": "code",
        "colab": {
          "base_uri": "https://localhost:8080/",
          "height": 34
        },
        "outputId": "e9cf8f50-fc8d-440e-cb45-b6f77f2a68c0"
      },
      "source": [
        "test_image_paths = list(data_root_test.glob('*/*'))\n",
        "test_image_paths = [str(path) for path in test_image_paths]\n",
        "random.shuffle(test_image_paths)\n",
        "\n",
        "image_count = len(test_image_paths)\n",
        "image_count"
      ],
      "execution_count": 9,
      "outputs": [
        {
          "output_type": "execute_result",
          "data": {
            "text/plain": [
              "13200"
            ]
          },
          "metadata": {
            "tags": []
          },
          "execution_count": 9
        }
      ]
    },
    {
      "cell_type": "code",
      "metadata": {
        "pycharm": {
          "name": "#%%\n"
        },
        "id": "1IanN3U5PJ1U",
        "colab_type": "code",
        "colab": {
          "base_uri": "https://localhost:8080/",
          "height": 187
        },
        "outputId": "6f282bac-56b1-4548-f330-564de6ff29ff"
      },
      "source": [
        "train_image_paths[:10]"
      ],
      "execution_count": 10,
      "outputs": [
        {
          "output_type": "execute_result",
          "data": {
            "text/plain": [
              "['/content/Recognition_RusHandRilNet/Train_dataset/н/29_448.jpg',\n",
              " '/content/Recognition_RusHandRilNet/Train_dataset/о/31_618.jpg',\n",
              " '/content/Recognition_RusHandRilNet/Train_dataset/Ы/58_974.jpg',\n",
              " '/content/Recognition_RusHandRilNet/Train_dataset/Ш/52_366.jpg',\n",
              " '/content/Recognition_RusHandRilNet/Train_dataset/э/61_460.jpg',\n",
              " '/content/Recognition_RusHandRilNet/Train_dataset/Р/36_741.jpg',\n",
              " '/content/Recognition_RusHandRilNet/Train_dataset/е/11_744.jpg',\n",
              " '/content/Recognition_RusHandRilNet/Train_dataset/ц/47_173.jpg',\n",
              " '/content/Recognition_RusHandRilNet/Train_dataset/д/09_889.jpg',\n",
              " '/content/Recognition_RusHandRilNet/Train_dataset/т/39_051.jpg']"
            ]
          },
          "metadata": {
            "tags": []
          },
          "execution_count": 10
        }
      ]
    },
    {
      "cell_type": "code",
      "metadata": {
        "id": "N9bdWGxovglB",
        "colab_type": "code",
        "colab": {
          "base_uri": "https://localhost:8080/",
          "height": 187
        },
        "outputId": "cf0a5c09-0b27-4a64-90b5-ade261aeabb8"
      },
      "source": [
        "test_image_paths[:10]"
      ],
      "execution_count": 11,
      "outputs": [
        {
          "output_type": "execute_result",
          "data": {
            "text/plain": [
              "['/content/Recognition_RusHandRilNet/Test_dataset/К/24_1197.jpg',\n",
              " '/content/Recognition_RusHandRilNet/Test_dataset/о/31_1069.jpg',\n",
              " '/content/Recognition_RusHandRilNet/Test_dataset/с/37_1043.jpg',\n",
              " '/content/Recognition_RusHandRilNet/Test_dataset/ё/13_1185.jpg',\n",
              " '/content/Recognition_RusHandRilNet/Test_dataset/э/61_1089.jpg',\n",
              " '/content/Recognition_RusHandRilNet/Test_dataset/Б/04_1067.jpg',\n",
              " '/content/Recognition_RusHandRilNet/Test_dataset/х/45_1054.jpg',\n",
              " '/content/Recognition_RusHandRilNet/Test_dataset/Ё/14_1092.jpg',\n",
              " '/content/Recognition_RusHandRilNet/Test_dataset/Й/22_1085.jpg',\n",
              " '/content/Recognition_RusHandRilNet/Test_dataset/я/65_1030.jpg']"
            ]
          },
          "metadata": {
            "tags": []
          },
          "execution_count": 11
        }
      ]
    },
    {
      "cell_type": "code",
      "metadata": {
        "pycharm": {
          "name": "#%%\n"
        },
        "id": "YUjWASGtPJ1X",
        "colab_type": "code",
        "colab": {}
      },
      "source": [
        "def caption_image_train(image_path):\n",
        "    image_rel = pathlib.Path(image_path).relative_to(data_root_train)\n",
        "    return ' - '.join(str(image_rel).split(' - ')[:-1])\n"
      ],
      "execution_count": 12,
      "outputs": []
    },
    {
      "cell_type": "code",
      "metadata": {
        "id": "AbEPV6YRv27G",
        "colab_type": "code",
        "colab": {}
      },
      "source": [
        "def caption_image_test(image_path):\n",
        "    image_rel = pathlib.Path(image_path).relative_to(data_root_test)\n",
        "    return ' - '.join(str(image_rel).split(' - ')[:-1])"
      ],
      "execution_count": 13,
      "outputs": []
    },
    {
      "cell_type": "code",
      "metadata": {
        "pycharm": {
          "name": "#%%\n"
        },
        "id": "96lP2FX0PJ1Z",
        "colab_type": "code",
        "colab": {
          "base_uri": "https://localhost:8080/",
          "height": 215
        },
        "outputId": "928dcd8f-081a-4843-ddba-efc5ae415449"
      },
      "source": [
        "for n in range(3):\n",
        "    image_path = random.choice(train_image_paths)\n",
        "    display.display(display.Image(image_path))\n",
        "    print(caption_image_train(image_path))\n",
        "    print()"
      ],
      "execution_count": 14,
      "outputs": [
        {
          "output_type": "display_data",
          "data": {
            "image/jpeg": "[encoded data removed]",
            "text/plain": [
              "<IPython.core.display.Image object>"
            ]
          },
          "metadata": {
            "tags": []
          }
        },
        {
          "output_type": "stream",
          "text": [
            "\n",
            "\n"
          ],
          "name": "stdout"
        },
        {
          "output_type": "display_data",
          "data": {
            "image/jpeg": "[encoded data removed]",
            "text/plain": [
              "<IPython.core.display.Image object>"
            ]
          },
          "metadata": {
            "tags": []
          }
        },
        {
          "output_type": "stream",
          "text": [
            "\n",
            "\n"
          ],
          "name": "stdout"
        },
        {
          "output_type": "display_data",
          "data": {
            "image/jpeg": "[encoded data removed]",
            "text/plain": [
              "<IPython.core.display.Image object>"
            ]
          },
          "metadata": {
            "tags": []
          }
        },
        {
          "output_type": "stream",
          "text": [
            "\n",
            "\n"
          ],
          "name": "stdout"
        }
      ]
    },
    {
      "cell_type": "code",
      "metadata": {
        "id": "5jVSokvSvqMH",
        "colab_type": "code",
        "colab": {
          "base_uri": "https://localhost:8080/",
          "height": 215
        },
        "outputId": "b9a210f9-abc1-4e84-f9c0-595791dad53e"
      },
      "source": [
        "for n in range(3):\n",
        "    image_path = random.choice(test_image_paths)\n",
        "    display.display(display.Image(image_path))\n",
        "    print(caption_image_test(image_path))\n",
        "    print()"
      ],
      "execution_count": 15,
      "outputs": [
        {
          "output_type": "display_data",
          "data": {
            "image/jpeg": "[encoded data removed]",
            "text/plain": [
              "<IPython.core.display.Image object>"
            ]
          },
          "metadata": {
            "tags": []
          }
        },
        {
          "output_type": "stream",
          "text": [
            "\n",
            "\n"
          ],
          "name": "stdout"
        },
        {
          "output_type": "display_data",
          "data": {
            "image/jpeg": "[encoded data removed]",
            "text/plain": [
              "<IPython.core.display.Image object>"
            ]
          },
          "metadata": {
            "tags": []
          }
        },
        {
          "output_type": "stream",
          "text": [
            "\n",
            "\n"
          ],
          "name": "stdout"
        },
        {
          "output_type": "display_data",
          "data": {
            "image/jpeg": "[encoded data removed]",
            "text/plain": [
              "<IPython.core.display.Image object>"
            ]
          },
          "metadata": {
            "tags": []
          }
        },
        {
          "output_type": "stream",
          "text": [
            "\n",
            "\n"
          ],
          "name": "stdout"
        }
      ]
    },
    {
      "cell_type": "code",
      "metadata": {
        "pycharm": {
          "name": "#%%\n"
        },
        "id": "1jwYGLUBPJ1b",
        "colab_type": "code",
        "colab": {
          "base_uri": "https://localhost:8080/",
          "height": 1000
        },
        "outputId": "844e4111-f3ed-4d5e-e78f-8e754093ea32"
      },
      "source": [
        "train_label_names = sorted(item.name for item in data_root_train.glob('*/') if item.is_dir())\n",
        "train_label_names\n"
      ],
      "execution_count": 16,
      "outputs": [
        {
          "output_type": "execute_result",
          "data": {
            "text/plain": [
              "['Ё',\n",
              " 'А',\n",
              " 'Б',\n",
              " 'В',\n",
              " 'Г',\n",
              " 'Д',\n",
              " 'Е',\n",
              " 'Ж',\n",
              " 'З',\n",
              " 'И',\n",
              " 'Й',\n",
              " 'К',\n",
              " 'Л',\n",
              " 'М',\n",
              " 'Н',\n",
              " 'О',\n",
              " 'П',\n",
              " 'Р',\n",
              " 'С',\n",
              " 'Т',\n",
              " 'У',\n",
              " 'Ф',\n",
              " 'Х',\n",
              " 'Ц',\n",
              " 'Ч',\n",
              " 'Ш',\n",
              " 'Щ',\n",
              " 'Ъ',\n",
              " 'Ы',\n",
              " 'Ь',\n",
              " 'Э',\n",
              " 'Ю',\n",
              " 'Я',\n",
              " 'а',\n",
              " 'б',\n",
              " 'в',\n",
              " 'г',\n",
              " 'д',\n",
              " 'е',\n",
              " 'ж',\n",
              " 'з',\n",
              " 'и',\n",
              " 'й',\n",
              " 'к',\n",
              " 'л',\n",
              " 'м',\n",
              " 'н',\n",
              " 'о',\n",
              " 'п',\n",
              " 'р',\n",
              " 'с',\n",
              " 'т',\n",
              " 'у',\n",
              " 'ф',\n",
              " 'х',\n",
              " 'ц',\n",
              " 'ч',\n",
              " 'ш',\n",
              " 'щ',\n",
              " 'ъ',\n",
              " 'ы',\n",
              " 'ь',\n",
              " 'э',\n",
              " 'ю',\n",
              " 'я',\n",
              " 'ё']"
            ]
          },
          "metadata": {
            "tags": []
          },
          "execution_count": 16
        }
      ]
    },
    {
      "cell_type": "code",
      "metadata": {
        "id": "DVxtCa8fwOJQ",
        "colab_type": "code",
        "colab": {
          "base_uri": "https://localhost:8080/",
          "height": 1000
        },
        "outputId": "12a29f6b-d610-441f-b56f-6f816edd48a4"
      },
      "source": [
        "test_label_names = sorted(item.name for item in data_root_test.glob('*/') if item.is_dir())\n",
        "test_label_names"
      ],
      "execution_count": 17,
      "outputs": [
        {
          "output_type": "execute_result",
          "data": {
            "text/plain": [
              "['Ё',\n",
              " 'А',\n",
              " 'Б',\n",
              " 'В',\n",
              " 'Г',\n",
              " 'Д',\n",
              " 'Е',\n",
              " 'Ж',\n",
              " 'З',\n",
              " 'И',\n",
              " 'Й',\n",
              " 'К',\n",
              " 'Л',\n",
              " 'М',\n",
              " 'Н',\n",
              " 'О',\n",
              " 'П',\n",
              " 'Р',\n",
              " 'С',\n",
              " 'Т',\n",
              " 'У',\n",
              " 'Ф',\n",
              " 'Х',\n",
              " 'Ц',\n",
              " 'Ч',\n",
              " 'Ш',\n",
              " 'Щ',\n",
              " 'Ъ',\n",
              " 'Ы',\n",
              " 'Ь',\n",
              " 'Э',\n",
              " 'Ю',\n",
              " 'Я',\n",
              " 'а',\n",
              " 'б',\n",
              " 'в',\n",
              " 'г',\n",
              " 'д',\n",
              " 'е',\n",
              " 'ж',\n",
              " 'з',\n",
              " 'и',\n",
              " 'й',\n",
              " 'к',\n",
              " 'л',\n",
              " 'м',\n",
              " 'н',\n",
              " 'о',\n",
              " 'п',\n",
              " 'р',\n",
              " 'с',\n",
              " 'т',\n",
              " 'у',\n",
              " 'ф',\n",
              " 'х',\n",
              " 'ц',\n",
              " 'ч',\n",
              " 'ш',\n",
              " 'щ',\n",
              " 'ъ',\n",
              " 'ы',\n",
              " 'ь',\n",
              " 'э',\n",
              " 'ю',\n",
              " 'я',\n",
              " 'ё']"
            ]
          },
          "metadata": {
            "tags": []
          },
          "execution_count": 17
        }
      ]
    },
    {
      "cell_type": "code",
      "metadata": {
        "pycharm": {
          "name": "#%%\n"
        },
        "id": "as5eXHJLPJ1e",
        "colab_type": "code",
        "colab": {
          "base_uri": "https://localhost:8080/",
          "height": 1000
        },
        "outputId": "9125c9f7-fa12-465e-ef94-ed0231acea84"
      },
      "source": [
        "train_label_to_index = dict((name, index) for index, name in enumerate(train_label_names))\n",
        "train_label_to_index"
      ],
      "execution_count": 18,
      "outputs": [
        {
          "output_type": "execute_result",
          "data": {
            "text/plain": [
              "{'Ё': 0,\n",
              " 'А': 1,\n",
              " 'Б': 2,\n",
              " 'В': 3,\n",
              " 'Г': 4,\n",
              " 'Д': 5,\n",
              " 'Е': 6,\n",
              " 'Ж': 7,\n",
              " 'З': 8,\n",
              " 'И': 9,\n",
              " 'Й': 10,\n",
              " 'К': 11,\n",
              " 'Л': 12,\n",
              " 'М': 13,\n",
              " 'Н': 14,\n",
              " 'О': 15,\n",
              " 'П': 16,\n",
              " 'Р': 17,\n",
              " 'С': 18,\n",
              " 'Т': 19,\n",
              " 'У': 20,\n",
              " 'Ф': 21,\n",
              " 'Х': 22,\n",
              " 'Ц': 23,\n",
              " 'Ч': 24,\n",
              " 'Ш': 25,\n",
              " 'Щ': 26,\n",
              " 'Ъ': 27,\n",
              " 'Ы': 28,\n",
              " 'Ь': 29,\n",
              " 'Э': 30,\n",
              " 'Ю': 31,\n",
              " 'Я': 32,\n",
              " 'а': 33,\n",
              " 'б': 34,\n",
              " 'в': 35,\n",
              " 'г': 36,\n",
              " 'д': 37,\n",
              " 'е': 38,\n",
              " 'ж': 39,\n",
              " 'з': 40,\n",
              " 'и': 41,\n",
              " 'й': 42,\n",
              " 'к': 43,\n",
              " 'л': 44,\n",
              " 'м': 45,\n",
              " 'н': 46,\n",
              " 'о': 47,\n",
              " 'п': 48,\n",
              " 'р': 49,\n",
              " 'с': 50,\n",
              " 'т': 51,\n",
              " 'у': 52,\n",
              " 'ф': 53,\n",
              " 'х': 54,\n",
              " 'ц': 55,\n",
              " 'ч': 56,\n",
              " 'ш': 57,\n",
              " 'щ': 58,\n",
              " 'ъ': 59,\n",
              " 'ы': 60,\n",
              " 'ь': 61,\n",
              " 'э': 62,\n",
              " 'ю': 63,\n",
              " 'я': 64,\n",
              " 'ё': 65}"
            ]
          },
          "metadata": {
            "tags": []
          },
          "execution_count": 18
        }
      ]
    },
    {
      "cell_type": "code",
      "metadata": {
        "id": "pyTjzrzVwdjN",
        "colab_type": "code",
        "colab": {
          "base_uri": "https://localhost:8080/",
          "height": 1000
        },
        "outputId": "4484effd-f17c-4ca6-c970-90cf23093c58"
      },
      "source": [
        "test_label_to_index = dict((name, index) for index, name in enumerate(test_label_names))\n",
        "test_label_to_index"
      ],
      "execution_count": 19,
      "outputs": [
        {
          "output_type": "execute_result",
          "data": {
            "text/plain": [
              "{'Ё': 0,\n",
              " 'А': 1,\n",
              " 'Б': 2,\n",
              " 'В': 3,\n",
              " 'Г': 4,\n",
              " 'Д': 5,\n",
              " 'Е': 6,\n",
              " 'Ж': 7,\n",
              " 'З': 8,\n",
              " 'И': 9,\n",
              " 'Й': 10,\n",
              " 'К': 11,\n",
              " 'Л': 12,\n",
              " 'М': 13,\n",
              " 'Н': 14,\n",
              " 'О': 15,\n",
              " 'П': 16,\n",
              " 'Р': 17,\n",
              " 'С': 18,\n",
              " 'Т': 19,\n",
              " 'У': 20,\n",
              " 'Ф': 21,\n",
              " 'Х': 22,\n",
              " 'Ц': 23,\n",
              " 'Ч': 24,\n",
              " 'Ш': 25,\n",
              " 'Щ': 26,\n",
              " 'Ъ': 27,\n",
              " 'Ы': 28,\n",
              " 'Ь': 29,\n",
              " 'Э': 30,\n",
              " 'Ю': 31,\n",
              " 'Я': 32,\n",
              " 'а': 33,\n",
              " 'б': 34,\n",
              " 'в': 35,\n",
              " 'г': 36,\n",
              " 'д': 37,\n",
              " 'е': 38,\n",
              " 'ж': 39,\n",
              " 'з': 40,\n",
              " 'и': 41,\n",
              " 'й': 42,\n",
              " 'к': 43,\n",
              " 'л': 44,\n",
              " 'м': 45,\n",
              " 'н': 46,\n",
              " 'о': 47,\n",
              " 'п': 48,\n",
              " 'р': 49,\n",
              " 'с': 50,\n",
              " 'т': 51,\n",
              " 'у': 52,\n",
              " 'ф': 53,\n",
              " 'х': 54,\n",
              " 'ц': 55,\n",
              " 'ч': 56,\n",
              " 'ш': 57,\n",
              " 'щ': 58,\n",
              " 'ъ': 59,\n",
              " 'ы': 60,\n",
              " 'ь': 61,\n",
              " 'э': 62,\n",
              " 'ю': 63,\n",
              " 'я': 64,\n",
              " 'ё': 65}"
            ]
          },
          "metadata": {
            "tags": []
          },
          "execution_count": 19
        }
      ]
    },
    {
      "cell_type": "code",
      "metadata": {
        "pycharm": {
          "name": "#%%\n"
        },
        "id": "T0Md5MqPPJ1g",
        "colab_type": "code",
        "colab": {
          "base_uri": "https://localhost:8080/",
          "height": 34
        },
        "outputId": "dfec6048-356f-473b-ec7a-df3aa852743d"
      },
      "source": [
        "train_image_labels = [train_label_to_index[pathlib.Path(path).parent.name]\n",
        "                    for path in train_image_paths]\n",
        "\n",
        "print(\"First 10 labels indices: \", train_image_labels[:10])"
      ],
      "execution_count": 20,
      "outputs": [
        {
          "output_type": "stream",
          "text": [
            "First 10 labels indices:  [46, 47, 28, 25, 62, 17, 38, 55, 37, 51]\n"
          ],
          "name": "stdout"
        }
      ]
    },
    {
      "cell_type": "code",
      "metadata": {
        "id": "xgpNP87zw2N1",
        "colab_type": "code",
        "colab": {
          "base_uri": "https://localhost:8080/",
          "height": 34
        },
        "outputId": "ebea6c17-5881-47fc-eca6-f342a274f8e0"
      },
      "source": [
        "test_image_labels = [test_label_to_index[pathlib.Path(path).parent.name]\n",
        "                    for path in test_image_paths]\n",
        "\n",
        "print(\"First 10 labels indices: \", test_image_labels[:10])"
      ],
      "execution_count": 21,
      "outputs": [
        {
          "output_type": "stream",
          "text": [
            "First 10 labels indices:  [11, 47, 50, 65, 62, 2, 54, 0, 10, 64]\n"
          ],
          "name": "stdout"
        }
      ]
    },
    {
      "cell_type": "code",
      "metadata": {
        "pycharm": {
          "name": "#%%\n"
        },
        "id": "6t7Z7Ca6PJ1i",
        "colab_type": "code",
        "colab": {
          "base_uri": "https://localhost:8080/",
          "height": 35
        },
        "outputId": "b44f05d0-325c-4f96-e1c4-334cd78635dc"
      },
      "source": [
        "train_img_path = train_image_paths[0]\n",
        "train_img_path"
      ],
      "execution_count": 22,
      "outputs": [
        {
          "output_type": "execute_result",
          "data": {
            "application/vnd.google.colaboratory.intrinsic": {
              "type": "string"
            },
            "text/plain": [
              "'/content/Recognition_RusHandRilNet/Train_dataset/н/29_448.jpg'"
            ]
          },
          "metadata": {
            "tags": []
          },
          "execution_count": 22
        }
      ]
    },
    {
      "cell_type": "code",
      "metadata": {
        "id": "U2_Q_aFFxTjE",
        "colab_type": "code",
        "colab": {
          "base_uri": "https://localhost:8080/",
          "height": 35
        },
        "outputId": "6b6ec88b-d832-4bc2-975a-7fd702427241"
      },
      "source": [
        "test_img_path = test_image_paths[0]\n",
        "test_img_path"
      ],
      "execution_count": 23,
      "outputs": [
        {
          "output_type": "execute_result",
          "data": {
            "application/vnd.google.colaboratory.intrinsic": {
              "type": "string"
            },
            "text/plain": [
              "'/content/Recognition_RusHandRilNet/Test_dataset/К/24_1197.jpg'"
            ]
          },
          "metadata": {
            "tags": []
          },
          "execution_count": 23
        }
      ]
    },
    {
      "cell_type": "code",
      "metadata": {
        "pycharm": {
          "name": "#%%\n"
        },
        "id": "9uImcqyVPJ1l",
        "colab_type": "code",
        "colab": {
          "base_uri": "https://localhost:8080/",
          "height": 34
        },
        "outputId": "59603fb6-b2a5-4f28-f16a-3af2660b46d2"
      },
      "source": [
        "train_img_raw = tf.io.read_file(train_img_path)\n",
        "print(repr(train_img_raw)[:100]+\"...\")"
      ],
      "execution_count": 24,
      "outputs": [
        {
          "output_type": "stream",
          "text": [
            "<tf.Tensor: shape=(), dtype=string, numpy=b'\\xff\\xd8\\xff\\xe0\\x00\\x10JFIF\\x00\\x01\\x01\\x00\\x00\\x01\\x00...\n"
          ],
          "name": "stdout"
        }
      ]
    },
    {
      "cell_type": "code",
      "metadata": {
        "id": "IO_9Uy6axbMG",
        "colab_type": "code",
        "colab": {
          "base_uri": "https://localhost:8080/",
          "height": 34
        },
        "outputId": "758d9dd3-e2ba-4441-89c1-ecf17f3d6198"
      },
      "source": [
        "test_img_raw = tf.io.read_file(test_img_path)\n",
        "print(repr(test_img_raw)[:100]+\"...\")"
      ],
      "execution_count": 25,
      "outputs": [
        {
          "output_type": "stream",
          "text": [
            "<tf.Tensor: shape=(), dtype=string, numpy=b'\\xff\\xd8\\xff\\xe0\\x00\\x10JFIF\\x00\\x01\\x01\\x00\\x00\\x01\\x00...\n"
          ],
          "name": "stdout"
        }
      ]
    },
    {
      "cell_type": "code",
      "metadata": {
        "pycharm": {
          "name": "#%%\n"
        },
        "id": "6HGQOEtqPJ1n",
        "colab_type": "code",
        "colab": {
          "base_uri": "https://localhost:8080/",
          "height": 51
        },
        "outputId": "838879d6-0b76-42cb-c401-1c761384ba05"
      },
      "source": [
        "train_img_tensor = tf.image.decode_image(train_img_raw)\n",
        "\n",
        "print(train_img_tensor.shape)\n",
        "print(train_img_tensor.dtype)"
      ],
      "execution_count": 26,
      "outputs": [
        {
          "output_type": "stream",
          "text": [
            "(32, 32, 3)\n",
            "<dtype: 'uint8'>\n"
          ],
          "name": "stdout"
        }
      ]
    },
    {
      "cell_type": "code",
      "metadata": {
        "id": "71r18nnJx2vu",
        "colab_type": "code",
        "colab": {
          "base_uri": "https://localhost:8080/",
          "height": 51
        },
        "outputId": "d27aa92f-1b39-4f6c-bb69-d75ef6b9cbd0"
      },
      "source": [
        "test_img_tensor = tf.image.decode_image(test_img_raw)\n",
        "\n",
        "print(test_img_tensor.shape)\n",
        "print(test_img_tensor.dtype)"
      ],
      "execution_count": 27,
      "outputs": [
        {
          "output_type": "stream",
          "text": [
            "(32, 32, 3)\n",
            "<dtype: 'uint8'>\n"
          ],
          "name": "stdout"
        }
      ]
    },
    {
      "cell_type": "code",
      "metadata": {
        "pycharm": {
          "name": "#%%\n"
        },
        "id": "GljDk7a_PJ1p",
        "colab_type": "code",
        "colab": {
          "base_uri": "https://localhost:8080/",
          "height": 68
        },
        "outputId": "c4b1da8c-8074-4054-bb9d-bda73c6179ce"
      },
      "source": [
        "train_img_final = tf.image.resize(train_img_tensor, [32, 32])\n",
        "train_img_final = train_img_final/255.0\n",
        "print(train_img_final.shape)\n",
        "print(train_img_final.numpy().min())\n",
        "print(train_img_final.numpy().max())"
      ],
      "execution_count": 28,
      "outputs": [
        {
          "output_type": "stream",
          "text": [
            "(32, 32, 3)\n",
            "0.40784314\n",
            "0.84313726\n"
          ],
          "name": "stdout"
        }
      ]
    },
    {
      "cell_type": "code",
      "metadata": {
        "id": "QQkJpo2zyPAA",
        "colab_type": "code",
        "colab": {
          "base_uri": "https://localhost:8080/",
          "height": 68
        },
        "outputId": "5cff3c82-2b99-4f3f-d552-bc57106ed0a5"
      },
      "source": [
        "test_img_final = tf.image.resize(test_img_tensor, [32, 32])\n",
        "test_img_final = test_img_final/255.0\n",
        "print(test_img_final.shape)\n",
        "print(test_img_final.numpy().min())\n",
        "print(test_img_final.numpy().max())"
      ],
      "execution_count": 29,
      "outputs": [
        {
          "output_type": "stream",
          "text": [
            "(32, 32, 3)\n",
            "0.0\n",
            "1.0\n"
          ],
          "name": "stdout"
        }
      ]
    },
    {
      "cell_type": "code",
      "metadata": {
        "pycharm": {
          "name": "#%%\n"
        },
        "id": "R99Hp0nePJ1s",
        "colab_type": "code",
        "colab": {}
      },
      "source": [
        "def preprocess_image(image):\n",
        "    image = tf.io.decode_jpeg(image, channels=3)\n",
        "    image = tf.image.resize(image, [32, 32])\n",
        "    image /= 255.0  # normalize to [0,1] range\n",
        "\n",
        "    return image"
      ],
      "execution_count": 30,
      "outputs": []
    },
    {
      "cell_type": "code",
      "metadata": {
        "pycharm": {
          "name": "#%%\n"
        },
        "id": "RxJcX0GPPJ1u",
        "colab_type": "code",
        "colab": {}
      },
      "source": [
        "def load_and_preprocess_image(path):\n",
        "    image = tf.io.read_file(path)\n",
        "    return preprocess_image(image)"
      ],
      "execution_count": 31,
      "outputs": []
    },
    {
      "cell_type": "code",
      "metadata": {
        "pycharm": {
          "name": "#%%\n"
        },
        "id": "JLZAx2xNPJ1x",
        "colab_type": "code",
        "colab": {
          "base_uri": "https://localhost:8080/",
          "height": 298
        },
        "outputId": "a18ee667-c079-45c1-d267-833f3d39dce2"
      },
      "source": [
        "train_image_path = train_image_paths[0]\n",
        "train_label = train_image_labels[0]\n",
        "\n",
        "plt.imshow(load_and_preprocess_image(train_image_path))\n",
        "plt.grid(False)\n",
        "plt.xlabel(caption_image_train(train_img_path))\n",
        "plt.title(train_label_names[train_label].title())\n",
        "print()"
      ],
      "execution_count": 32,
      "outputs": [
        {
          "output_type": "stream",
          "text": [
            "\n"
          ],
          "name": "stdout"
        },
        {
          "output_type": "display_data",
          "data": {
            "image/png": "[encoded data removed]",
            "text/plain": [
              "<Figure size 432x288 with 1 Axes>"
            ]
          },
          "metadata": {
            "tags": [],
            "needs_background": "light"
          }
        }
      ]
    },
    {
      "cell_type": "code",
      "metadata": {
        "id": "DK_0CLH9y7kh",
        "colab_type": "code",
        "colab": {
          "base_uri": "https://localhost:8080/",
          "height": 298
        },
        "outputId": "78ff9a3c-f514-4cfa-e06b-1eb1caf92367"
      },
      "source": [
        "test_image_path = test_image_paths[0]\n",
        "test_label = test_image_labels[0]\n",
        "\n",
        "plt.imshow(load_and_preprocess_image(test_image_path))\n",
        "plt.grid(False)\n",
        "plt.xlabel(caption_image_test(test_img_path))\n",
        "plt.title(test_label_names[test_label].title())\n",
        "print()"
      ],
      "execution_count": 33,
      "outputs": [
        {
          "output_type": "stream",
          "text": [
            "\n"
          ],
          "name": "stdout"
        },
        {
          "output_type": "display_data",
          "data": {
            "image/png": "[encoded data removed]",
            "text/plain": [
              "<Figure size 432x288 with 1 Axes>"
            ]
          },
          "metadata": {
            "tags": [],
            "needs_background": "light"
          }
        }
      ]
    },
    {
      "cell_type": "code",
      "metadata": {
        "pycharm": {
          "name": "#%%\n"
        },
        "id": "BF0fjZfTPJ1z",
        "colab_type": "code",
        "colab": {
          "base_uri": "https://localhost:8080/",
          "height": 34
        },
        "outputId": "b78b7798-bd9f-43c8-cdd6-1cf95b8c2609"
      },
      "source": [
        "train_path_ds = tf.data.Dataset.from_tensor_slices(train_image_paths)\n",
        "print(train_path_ds)"
      ],
      "execution_count": 34,
      "outputs": [
        {
          "output_type": "stream",
          "text": [
            "<TensorSliceDataset shapes: (), types: tf.string>\n"
          ],
          "name": "stdout"
        }
      ]
    },
    {
      "cell_type": "code",
      "metadata": {
        "id": "SNEjPX3izSPL",
        "colab_type": "code",
        "colab": {
          "base_uri": "https://localhost:8080/",
          "height": 34
        },
        "outputId": "453adb92-aa0b-40e4-a7b9-ab5f75974453"
      },
      "source": [
        "test_path_ds = tf.data.Dataset.from_tensor_slices(test_image_paths)\n",
        "print(test_path_ds)"
      ],
      "execution_count": 35,
      "outputs": [
        {
          "output_type": "stream",
          "text": [
            "<TensorSliceDataset shapes: (), types: tf.string>\n"
          ],
          "name": "stdout"
        }
      ]
    },
    {
      "cell_type": "code",
      "metadata": {
        "pycharm": {
          "name": "#%%\n"
        },
        "id": "95BbCT68PJ12",
        "colab_type": "code",
        "colab": {}
      },
      "source": [
        "train_image_ds = train_path_ds.map(load_and_preprocess_image, num_parallel_calls=AUTOTUNE)"
      ],
      "execution_count": 36,
      "outputs": []
    },
    {
      "cell_type": "code",
      "metadata": {
        "id": "5DY5LOIdzp0S",
        "colab_type": "code",
        "colab": {}
      },
      "source": [
        "test_image_ds = test_path_ds.map(load_and_preprocess_image, num_parallel_calls=AUTOTUNE)"
      ],
      "execution_count": 37,
      "outputs": []
    },
    {
      "cell_type": "code",
      "metadata": {
        "pycharm": {
          "name": "#%%\n"
        },
        "id": "OZ_f5S5wPJ14",
        "colab_type": "code",
        "colab": {
          "base_uri": "https://localhost:8080/",
          "height": 627
        },
        "outputId": "5d791116-3784-43ef-fc01-c1d76346a360"
      },
      "source": [
        "plt.figure(figsize=(8,8))\n",
        "for n, image in enumerate(train_image_ds.take(4)):\n",
        "    plt.subplot(2,2,n+1)\n",
        "    plt.imshow(image)\n",
        "    plt.grid(False)\n",
        "    plt.xticks([])\n",
        "    plt.yticks([])\n",
        "    plt.xlabel(train_image_paths[n])\n",
        "    plt.show()"
      ],
      "execution_count": 38,
      "outputs": [
        {
          "output_type": "display_data",
          "data": {
            "image/png": "[encoded data removed]",
            "text/plain": [
              "<Figure size 576x576 with 1 Axes>"
            ]
          },
          "metadata": {
            "tags": []
          }
        },
        {
          "output_type": "display_data",
          "data": {
            "image/png": "[encoded data removed]",
            "text/plain": [
              "<Figure size 432x288 with 1 Axes>"
            ]
          },
          "metadata": {
            "tags": []
          }
        },
        {
          "output_type": "display_data",
          "data": {
            "image/png": "[encoded data removed]",
            "text/plain": [
              "<Figure size 432x288 with 1 Axes>"
            ]
          },
          "metadata": {
            "tags": []
          }
        },
        {
          "output_type": "display_data",
          "data": {
            "image/png": "[encoded data removed]",
            "text/plain": [
              "<Figure size 432x288 with 1 Axes>"
            ]
          },
          "metadata": {
            "tags": []
          }
        }
      ]
    },
    {
      "cell_type": "code",
      "metadata": {
        "id": "A73c5SK5zxhp",
        "colab_type": "code",
        "colab": {
          "base_uri": "https://localhost:8080/",
          "height": 627
        },
        "outputId": "81f2ac17-c1e9-410e-8a24-b090b3011069"
      },
      "source": [
        "plt.figure(figsize=(8,8))\n",
        "for n, image in enumerate(test_image_ds.take(4)):\n",
        "    plt.subplot(2,2,n+1)\n",
        "    plt.imshow(image)\n",
        "    plt.grid(False)\n",
        "    plt.xticks([])\n",
        "    plt.yticks([])\n",
        "    plt.xlabel(test_image_paths[n])\n",
        "    plt.show()"
      ],
      "execution_count": 39,
      "outputs": [
        {
          "output_type": "display_data",
          "data": {
            "image/png": "[encoded data removed]",
            "text/plain": [
              "<Figure size 576x576 with 1 Axes>"
            ]
          },
          "metadata": {
            "tags": []
          }
        },
        {
          "output_type": "display_data",
          "data": {
            "image/png": "[encoded data removed]",
            "text/plain": [
              "<Figure size 432x288 with 1 Axes>"
            ]
          },
          "metadata": {
            "tags": []
          }
        },
        {
          "output_type": "display_data",
          "data": {
            "image/png": "[encoded data removed]",
            "text/plain": [
              "<Figure size 432x288 with 1 Axes>"
            ]
          },
          "metadata": {
            "tags": []
          }
        },
        {
          "output_type": "display_data",
          "data": {
            "image/png": "[encoded data removed]",
            "text/plain": [
              "<Figure size 432x288 with 1 Axes>"
            ]
          },
          "metadata": {
            "tags": []
          }
        }
      ]
    },
    {
      "cell_type": "code",
      "metadata": {
        "pycharm": {
          "name": "#%%\n"
        },
        "id": "dCjhfWzmPJ16",
        "colab_type": "code",
        "colab": {
          "base_uri": "https://localhost:8080/",
          "height": 187
        },
        "outputId": "ff726320-2ce0-4ba0-9ae8-8fe5607d5d28"
      },
      "source": [
        "train_label_ds = tf.data.Dataset.from_tensor_slices(tf.cast(train_image_labels, tf.int64))\n",
        "for label in train_label_ds.take(10):\n",
        "    print(train_label_names[label.numpy()])"
      ],
      "execution_count": 40,
      "outputs": [
        {
          "output_type": "stream",
          "text": [
            "н\n",
            "о\n",
            "Ы\n",
            "Ш\n",
            "э\n",
            "Р\n",
            "е\n",
            "ц\n",
            "д\n",
            "т\n"
          ],
          "name": "stdout"
        }
      ]
    },
    {
      "cell_type": "code",
      "metadata": {
        "id": "Bn38eOMZ0NHy",
        "colab_type": "code",
        "colab": {
          "base_uri": "https://localhost:8080/",
          "height": 187
        },
        "outputId": "55cdacd4-d273-49cc-8012-14775d40278d"
      },
      "source": [
        "test_label_ds = tf.data.Dataset.from_tensor_slices(tf.cast(test_image_labels, tf.int64))\n",
        "for label in test_label_ds.take(10):\n",
        "    print(test_label_names[label.numpy()])"
      ],
      "execution_count": 41,
      "outputs": [
        {
          "output_type": "stream",
          "text": [
            "К\n",
            "о\n",
            "с\n",
            "ё\n",
            "э\n",
            "Б\n",
            "х\n",
            "Ё\n",
            "Й\n",
            "я\n"
          ],
          "name": "stdout"
        }
      ]
    },
    {
      "cell_type": "code",
      "metadata": {
        "pycharm": {
          "name": "#%%\n"
        },
        "id": "FD1FJLMqPJ18",
        "colab_type": "code",
        "colab": {}
      },
      "source": [
        "train_image_label_ds = tf.data.Dataset.zip((train_image_ds, train_label_ds))"
      ],
      "execution_count": 42,
      "outputs": []
    },
    {
      "cell_type": "code",
      "metadata": {
        "id": "ECTv_bRT0Y6g",
        "colab_type": "code",
        "colab": {}
      },
      "source": [
        "test_image_label_ds = tf.data.Dataset.zip((test_image_ds, test_label_ds))"
      ],
      "execution_count": 43,
      "outputs": []
    },
    {
      "cell_type": "code",
      "metadata": {
        "pycharm": {
          "name": "#%%\n"
        },
        "id": "JpFgfq-TPJ1_",
        "colab_type": "code",
        "colab": {
          "base_uri": "https://localhost:8080/",
          "height": 34
        },
        "outputId": "e4d3e1ec-a43a-475a-c11e-ef785a4f6219"
      },
      "source": [
        "print(train_image_label_ds)"
      ],
      "execution_count": 44,
      "outputs": [
        {
          "output_type": "stream",
          "text": [
            "<ZipDataset shapes: ((32, 32, 3), ()), types: (tf.float32, tf.int64)>\n"
          ],
          "name": "stdout"
        }
      ]
    },
    {
      "cell_type": "code",
      "metadata": {
        "id": "aPjYKkl80mPY",
        "colab_type": "code",
        "colab": {
          "base_uri": "https://localhost:8080/",
          "height": 34
        },
        "outputId": "5dec48ff-ec08-4338-abc5-7de7b7f8fce9"
      },
      "source": [
        "print(train_image_label_ds)"
      ],
      "execution_count": 45,
      "outputs": [
        {
          "output_type": "stream",
          "text": [
            "<ZipDataset shapes: ((32, 32, 3), ()), types: (tf.float32, tf.int64)>\n"
          ],
          "name": "stdout"
        }
      ]
    },
    {
      "cell_type": "code",
      "metadata": {
        "pycharm": {
          "name": "#%%\n"
        },
        "id": "fW1fDchVPJ2H",
        "colab_type": "code",
        "colab": {
          "base_uri": "https://localhost:8080/",
          "height": 85
        },
        "outputId": "5fd4bb7a-f568-46b4-fc57-4f81b256c27d"
      },
      "source": [
        "train_ds = train_image_label_ds.apply(\n",
        "  tf.data.experimental.shuffle_and_repeat(buffer_size=image_count))\n",
        "train_ds = train_ds.batch(BATCH_SIZE)\n",
        "train_ds = train_ds.prefetch(buffer_size=AUTOTUNE)\n",
        "train_ds"
      ],
      "execution_count": 46,
      "outputs": [
        {
          "output_type": "stream",
          "text": [
            "WARNING:tensorflow:From <ipython-input-46-ad9d9c7fa76c>:2: shuffle_and_repeat (from tensorflow.python.data.experimental.ops.shuffle_ops) is deprecated and will be removed in a future version.\n",
            "Instructions for updating:\n",
            "Use `tf.data.Dataset.shuffle(buffer_size, seed)` followed by `tf.data.Dataset.repeat(count)`. Static tf.data optimizations will take care of using the fused implementation.\n"
          ],
          "name": "stdout"
        },
        {
          "output_type": "execute_result",
          "data": {
            "text/plain": [
              "<PrefetchDataset shapes: ((None, 32, 32, 3), (None,)), types: (tf.float32, tf.int64)>"
            ]
          },
          "metadata": {
            "tags": []
          },
          "execution_count": 46
        }
      ]
    },
    {
      "cell_type": "code",
      "metadata": {
        "id": "0vf964Lt36Ho",
        "colab_type": "code",
        "colab": {
          "base_uri": "https://localhost:8080/",
          "height": 34
        },
        "outputId": "88907a32-560e-45f6-89b2-bebc6dd6e12e"
      },
      "source": [
        "test_ds = test_image_label_ds.apply(\n",
        "  tf.data.experimental.shuffle_and_repeat(buffer_size=image_count))\n",
        "test_ds = test_ds.batch(BATCH_SIZE)\n",
        "test_ds = test_ds.prefetch(buffer_size=AUTOTUNE)\n",
        "test_ds"
      ],
      "execution_count": 47,
      "outputs": [
        {
          "output_type": "execute_result",
          "data": {
            "text/plain": [
              "<PrefetchDataset shapes: ((None, 32, 32, 3), (None,)), types: (tf.float32, tf.int64)>"
            ]
          },
          "metadata": {
            "tags": []
          },
          "execution_count": 47
        }
      ]
    },
    {
      "cell_type": "code",
      "metadata": {
        "pycharm": {
          "name": "#%%\n"
        },
        "id": "LiaiQwvnPJ2L",
        "colab_type": "code",
        "colab": {}
      },
      "source": [
        "# Заполнение буфера перемешивания\n",
        "train_image_batch, train_label_batch = next(iter(train_ds))"
      ],
      "execution_count": 48,
      "outputs": []
    },
    {
      "cell_type": "code",
      "metadata": {
        "id": "tsP5th7a4R5y",
        "colab_type": "code",
        "colab": {}
      },
      "source": [
        "test_image_batch, test_label_batch = next(iter(test_ds))"
      ],
      "execution_count": 49,
      "outputs": []
    },
    {
      "cell_type": "code",
      "metadata": {
        "pycharm": {
          "name": "#%%\n"
        },
        "id": "OxjT5uaBPJ2N",
        "colab_type": "code",
        "colab": {}
      },
      "source": [
        "model = models.Sequential()\n",
        "model.add(layers.Conv2D(32, (3, 3), activation='relu', input_shape=(32, 32, 3)))\n",
        "model.add(layers.MaxPooling2D((2, 2)))\n",
        "model.add(layers.Conv2D(64, (3, 3), activation='relu'))\n",
        "model.add(layers.MaxPooling2D((2, 2)))\n",
        "model.add(layers.Conv2D(64, (3, 3), activation='relu'))\n",
        "model.add(layers.Flatten())\n",
        "model.add(layers.Dense(128, activation='relu'))\n",
        "model.add(layers.Dense(66))"
      ],
      "execution_count": 50,
      "outputs": []
    },
    {
      "cell_type": "code",
      "metadata": {
        "pycharm": {
          "name": "#%%\n"
        },
        "id": "WR4_cdZCPJ2P",
        "colab_type": "code",
        "colab": {
          "base_uri": "https://localhost:8080/",
          "height": 85
        },
        "outputId": "73cb1e1d-b034-4652-9748-4c946542d2d4"
      },
      "source": [
        "train_logit_batch = model(train_image_batch).numpy()\n",
        "\n",
        "print(\"min logit:\", train_logit_batch.min())\n",
        "print(\"max logit:\", train_logit_batch.max())\n",
        "print()\n",
        "\n",
        "print(\"Shape:\", train_logit_batch.shape)"
      ],
      "execution_count": 52,
      "outputs": [
        {
          "output_type": "stream",
          "text": [
            "min logit: -0.26644918\n",
            "max logit: 0.3624591\n",
            "\n",
            "Shape: (1000, 66)\n"
          ],
          "name": "stdout"
        }
      ]
    },
    {
      "cell_type": "code",
      "metadata": {
        "id": "I6ak1ffo4iI1",
        "colab_type": "code",
        "colab": {
          "base_uri": "https://localhost:8080/",
          "height": 85
        },
        "outputId": "a2d83cf4-a761-425d-b4b6-353800be4a81"
      },
      "source": [
        "test_logit_batch = model(test_image_batch).numpy()\n",
        "\n",
        "print(\"min logit:\", test_logit_batch.min())\n",
        "print(\"max logit:\", test_logit_batch.max())\n",
        "print()\n",
        "\n",
        "print(\"Shape:\", test_logit_batch.shape)"
      ],
      "execution_count": 53,
      "outputs": [
        {
          "output_type": "stream",
          "text": [
            "min logit: -0.2917386\n",
            "max logit: 0.38219786\n",
            "\n",
            "Shape: (1000, 66)\n"
          ],
          "name": "stdout"
        }
      ]
    },
    {
      "cell_type": "code",
      "metadata": {
        "pycharm": {
          "name": "#%%\n"
        },
        "id": "c5CmE4WEPJ2T",
        "colab_type": "code",
        "colab": {
          "base_uri": "https://localhost:8080/",
          "height": 34
        },
        "outputId": "31f6f9e6-04d0-42d2-cfa3-df2fb47fe1fa"
      },
      "source": [
        "len(model.trainable_variables)"
      ],
      "execution_count": 54,
      "outputs": [
        {
          "output_type": "execute_result",
          "data": {
            "text/plain": [
              "10"
            ]
          },
          "metadata": {
            "tags": []
          },
          "execution_count": 54
        }
      ]
    },
    {
      "cell_type": "code",
      "metadata": {
        "pycharm": {
          "name": "#%%\n"
        },
        "id": "T-DPfQIaPJ2V",
        "colab_type": "code",
        "colab": {
          "base_uri": "https://localhost:8080/",
          "height": 425
        },
        "outputId": "b70de36d-72ff-4067-d9f8-374995708e20"
      },
      "source": [
        "model.summary()"
      ],
      "execution_count": 55,
      "outputs": [
        {
          "output_type": "stream",
          "text": [
            "Model: \"sequential\"\n",
            "_________________________________________________________________\n",
            "Layer (type)                 Output Shape              Param #   \n",
            "=================================================================\n",
            "conv2d (Conv2D)              (None, 30, 30, 32)        896       \n",
            "_________________________________________________________________\n",
            "max_pooling2d (MaxPooling2D) (None, 15, 15, 32)        0         \n",
            "_________________________________________________________________\n",
            "conv2d_1 (Conv2D)            (None, 13, 13, 64)        18496     \n",
            "_________________________________________________________________\n",
            "max_pooling2d_1 (MaxPooling2 (None, 6, 6, 64)          0         \n",
            "_________________________________________________________________\n",
            "conv2d_2 (Conv2D)            (None, 4, 4, 64)          36928     \n",
            "_________________________________________________________________\n",
            "flatten (Flatten)            (None, 1024)              0         \n",
            "_________________________________________________________________\n",
            "dense (Dense)                (None, 128)               131200    \n",
            "_________________________________________________________________\n",
            "dense_1 (Dense)              (None, 66)                8514      \n",
            "=================================================================\n",
            "Total params: 196,034\n",
            "Trainable params: 196,034\n",
            "Non-trainable params: 0\n",
            "_________________________________________________________________\n"
          ],
          "name": "stdout"
        }
      ]
    },
    {
      "cell_type": "code",
      "metadata": {
        "id": "pn1VgcR3gLnt",
        "colab_type": "code",
        "colab": {}
      },
      "source": [
        "model.compile(optimizer='adam',\n",
        "              loss=tf.keras.losses.SparseCategoricalCrossentropy(from_logits=True),\n",
        "              metrics=['accuracy'])"
      ],
      "execution_count": 57,
      "outputs": []
    },
    {
      "cell_type": "code",
      "metadata": {
        "pycharm": {
          "name": "#%%\n"
        },
        "id": "E36SHexYPJ2X",
        "colab_type": "code",
        "colab": {
          "base_uri": "https://localhost:8080/",
          "height": 34
        },
        "outputId": "fec6e8c0-3efe-4d88-b2b6-f16fa9cd407a"
      },
      "source": [
        "steps_per_epoch=tf.math.ceil(len(train_image_paths)/BATCH_SIZE).numpy()\n",
        "steps_per_epoch"
      ],
      "execution_count": 58,
      "outputs": [
        {
          "output_type": "execute_result",
          "data": {
            "text/plain": [
              "66.0"
            ]
          },
          "metadata": {
            "tags": []
          },
          "execution_count": 58
        }
      ]
    },
    {
      "cell_type": "code",
      "metadata": {
        "pycharm": {
          "name": "#%%\n"
        },
        "id": "Uph-LZazPJ2Z",
        "colab_type": "code",
        "colab": {
          "base_uri": "https://localhost:8080/",
          "height": 1000
        },
        "outputId": "5c02e110-ee09-4ed9-adfa-1a30c2c10bea"
      },
      "source": [
        "with tf.device('/GPU:0'):\n",
        "    history = model.fit(train_ds, epochs=200, steps_per_epoch=66, validation_data=test_ds, validation_steps=10)"
      ],
      "execution_count": 59,
      "outputs": [
        {
          "output_type": "stream",
          "text": [
            "Epoch 1/200\n",
            "66/66 [==============================] - 26s 388ms/step - loss: 3.3265 - accuracy: 0.1342 - val_loss: 2.7746 - val_accuracy: 0.2279\n",
            "Epoch 2/200\n",
            "66/66 [==============================] - 23s 350ms/step - loss: 2.4853 - accuracy: 0.3137 - val_loss: 2.3327 - val_accuracy: 0.3576\n",
            "Epoch 3/200\n",
            "66/66 [==============================] - 24s 360ms/step - loss: 2.0250 - accuracy: 0.4386 - val_loss: 1.9181 - val_accuracy: 0.4620\n",
            "Epoch 4/200\n",
            "66/66 [==============================] - 25s 375ms/step - loss: 1.6582 - accuracy: 0.5319 - val_loss: 1.5839 - val_accuracy: 0.5505\n",
            "Epoch 5/200\n",
            "66/66 [==============================] - 26s 399ms/step - loss: 1.3937 - accuracy: 0.6047 - val_loss: 1.3945 - val_accuracy: 0.5973\n",
            "Epoch 6/200\n",
            "66/66 [==============================] - 27s 412ms/step - loss: 1.2160 - accuracy: 0.6537 - val_loss: 1.1981 - val_accuracy: 0.6573\n",
            "Epoch 7/200\n",
            "66/66 [==============================] - 23s 349ms/step - loss: 1.0559 - accuracy: 0.6983 - val_loss: 1.0675 - val_accuracy: 0.6891\n",
            "Epoch 8/200\n",
            "66/66 [==============================] - 25s 377ms/step - loss: 0.9325 - accuracy: 0.7336 - val_loss: 0.9731 - val_accuracy: 0.7132\n",
            "Epoch 9/200\n",
            "66/66 [==============================] - 24s 369ms/step - loss: 0.8333 - accuracy: 0.7591 - val_loss: 0.8735 - val_accuracy: 0.7471\n",
            "Epoch 10/200\n",
            "66/66 [==============================] - 24s 369ms/step - loss: 0.7608 - accuracy: 0.7808 - val_loss: 0.8159 - val_accuracy: 0.7606\n",
            "Epoch 11/200\n",
            "66/66 [==============================] - 24s 365ms/step - loss: 0.6992 - accuracy: 0.7985 - val_loss: 0.7785 - val_accuracy: 0.7666\n",
            "Epoch 12/200\n",
            "66/66 [==============================] - 24s 369ms/step - loss: 0.6401 - accuracy: 0.8154 - val_loss: 0.7254 - val_accuracy: 0.7873\n",
            "Epoch 13/200\n",
            "66/66 [==============================] - 25s 373ms/step - loss: 0.6033 - accuracy: 0.8252 - val_loss: 0.6914 - val_accuracy: 0.7974\n",
            "Epoch 14/200\n",
            "66/66 [==============================] - 25s 373ms/step - loss: 0.5480 - accuracy: 0.8412 - val_loss: 0.6349 - val_accuracy: 0.8113\n",
            "Epoch 15/200\n",
            "66/66 [==============================] - 26s 387ms/step - loss: 0.5230 - accuracy: 0.8468 - val_loss: 0.6002 - val_accuracy: 0.8252\n",
            "Epoch 16/200\n",
            "66/66 [==============================] - 24s 362ms/step - loss: 0.4850 - accuracy: 0.8583 - val_loss: 0.5831 - val_accuracy: 0.8281\n",
            "Epoch 17/200\n",
            "66/66 [==============================] - 23s 347ms/step - loss: 0.4484 - accuracy: 0.8696 - val_loss: 0.5358 - val_accuracy: 0.8439\n",
            "Epoch 18/200\n",
            "66/66 [==============================] - 21s 322ms/step - loss: 0.4194 - accuracy: 0.8773 - val_loss: 0.5436 - val_accuracy: 0.8351\n",
            "Epoch 19/200\n",
            "66/66 [==============================] - 21s 322ms/step - loss: 0.4030 - accuracy: 0.8807 - val_loss: 0.4948 - val_accuracy: 0.8507\n",
            "Epoch 20/200\n",
            "66/66 [==============================] - 21s 324ms/step - loss: 0.3718 - accuracy: 0.8905 - val_loss: 0.4858 - val_accuracy: 0.8542\n",
            "Epoch 21/200\n",
            "66/66 [==============================] - 21s 325ms/step - loss: 0.3459 - accuracy: 0.8984 - val_loss: 0.4758 - val_accuracy: 0.8525\n",
            "Epoch 22/200\n",
            "66/66 [==============================] - 21s 323ms/step - loss: 0.3270 - accuracy: 0.9037 - val_loss: 0.4313 - val_accuracy: 0.8755\n",
            "Epoch 23/200\n",
            "66/66 [==============================] - 21s 323ms/step - loss: 0.3022 - accuracy: 0.9111 - val_loss: 0.4165 - val_accuracy: 0.8784\n",
            "Epoch 24/200\n",
            "66/66 [==============================] - 21s 318ms/step - loss: 0.2870 - accuracy: 0.9153 - val_loss: 0.4170 - val_accuracy: 0.8752\n",
            "Epoch 25/200\n",
            "66/66 [==============================] - 21s 323ms/step - loss: 0.2827 - accuracy: 0.9151 - val_loss: 0.4486 - val_accuracy: 0.8628\n",
            "Epoch 26/200\n",
            "66/66 [==============================] - 21s 323ms/step - loss: 0.2748 - accuracy: 0.9164 - val_loss: 0.3950 - val_accuracy: 0.8832\n",
            "Epoch 27/200\n",
            "66/66 [==============================] - 21s 319ms/step - loss: 0.2484 - accuracy: 0.9257 - val_loss: 0.3639 - val_accuracy: 0.8952\n",
            "Epoch 28/200\n",
            "66/66 [==============================] - 21s 320ms/step - loss: 0.2322 - accuracy: 0.9307 - val_loss: 0.3634 - val_accuracy: 0.8918\n",
            "Epoch 29/200\n",
            "66/66 [==============================] - 21s 320ms/step - loss: 0.2195 - accuracy: 0.9343 - val_loss: 0.3403 - val_accuracy: 0.9024\n",
            "Epoch 30/200\n",
            "66/66 [==============================] - 21s 317ms/step - loss: 0.2088 - accuracy: 0.9371 - val_loss: 0.3365 - val_accuracy: 0.9032\n",
            "Epoch 31/200\n",
            "66/66 [==============================] - 21s 323ms/step - loss: 0.1970 - accuracy: 0.9412 - val_loss: 0.3244 - val_accuracy: 0.9073\n",
            "Epoch 32/200\n",
            "66/66 [==============================] - 21s 321ms/step - loss: 0.1862 - accuracy: 0.9434 - val_loss: 0.3165 - val_accuracy: 0.9095\n",
            "Epoch 33/200\n",
            "66/66 [==============================] - 21s 322ms/step - loss: 0.1778 - accuracy: 0.9471 - val_loss: 0.3022 - val_accuracy: 0.9151\n",
            "Epoch 34/200\n",
            "66/66 [==============================] - 21s 322ms/step - loss: 0.1707 - accuracy: 0.9498 - val_loss: 0.2990 - val_accuracy: 0.9197\n",
            "Epoch 35/200\n",
            "66/66 [==============================] - 21s 322ms/step - loss: 0.1589 - accuracy: 0.9516 - val_loss: 0.2987 - val_accuracy: 0.9194\n",
            "Epoch 36/200\n",
            "66/66 [==============================] - 21s 325ms/step - loss: 0.1481 - accuracy: 0.9563 - val_loss: 0.2905 - val_accuracy: 0.9187\n",
            "Epoch 37/200\n",
            "66/66 [==============================] - 22s 327ms/step - loss: 0.1474 - accuracy: 0.9544 - val_loss: 0.3223 - val_accuracy: 0.9096\n",
            "Epoch 38/200\n",
            "66/66 [==============================] - 22s 326ms/step - loss: 0.1364 - accuracy: 0.9593 - val_loss: 0.2729 - val_accuracy: 0.9253\n",
            "Epoch 39/200\n",
            "66/66 [==============================] - 21s 323ms/step - loss: 0.1289 - accuracy: 0.9618 - val_loss: 0.2861 - val_accuracy: 0.9242\n",
            "Epoch 40/200\n",
            "66/66 [==============================] - 22s 329ms/step - loss: 0.1251 - accuracy: 0.9621 - val_loss: 0.2727 - val_accuracy: 0.9261\n",
            "Epoch 41/200\n",
            "66/66 [==============================] - 22s 328ms/step - loss: 0.1178 - accuracy: 0.9649 - val_loss: 0.2712 - val_accuracy: 0.9301\n",
            "Epoch 42/200\n",
            "66/66 [==============================] - 22s 334ms/step - loss: 0.1041 - accuracy: 0.9703 - val_loss: 0.2555 - val_accuracy: 0.9350\n",
            "Epoch 43/200\n",
            "66/66 [==============================] - 21s 324ms/step - loss: 0.0972 - accuracy: 0.9725 - val_loss: 0.2568 - val_accuracy: 0.9348\n",
            "Epoch 44/200\n",
            "66/66 [==============================] - 21s 324ms/step - loss: 0.1027 - accuracy: 0.9692 - val_loss: 0.2919 - val_accuracy: 0.9238\n",
            "Epoch 45/200\n",
            "66/66 [==============================] - 22s 331ms/step - loss: 0.0979 - accuracy: 0.9707 - val_loss: 0.2488 - val_accuracy: 0.9356\n",
            "Epoch 46/200\n",
            "66/66 [==============================] - 22s 329ms/step - loss: 0.0890 - accuracy: 0.9743 - val_loss: 0.2541 - val_accuracy: 0.9383\n",
            "Epoch 47/200\n",
            "66/66 [==============================] - 21s 326ms/step - loss: 0.0878 - accuracy: 0.9735 - val_loss: 0.2494 - val_accuracy: 0.9396\n",
            "Epoch 48/200\n",
            "66/66 [==============================] - 21s 324ms/step - loss: 0.0858 - accuracy: 0.9743 - val_loss: 0.2421 - val_accuracy: 0.9400\n",
            "Epoch 49/200\n",
            "66/66 [==============================] - 21s 322ms/step - loss: 0.0800 - accuracy: 0.9765 - val_loss: 0.2586 - val_accuracy: 0.9363\n",
            "Epoch 50/200\n",
            "66/66 [==============================] - 22s 337ms/step - loss: 0.0759 - accuracy: 0.9782 - val_loss: 0.2386 - val_accuracy: 0.9428\n",
            "Epoch 51/200\n",
            "66/66 [==============================] - 22s 336ms/step - loss: 0.0721 - accuracy: 0.9792 - val_loss: 0.2363 - val_accuracy: 0.9434\n",
            "Epoch 52/200\n",
            "66/66 [==============================] - 22s 332ms/step - loss: 0.0662 - accuracy: 0.9812 - val_loss: 0.2555 - val_accuracy: 0.9366\n",
            "Epoch 53/200\n",
            "66/66 [==============================] - 22s 329ms/step - loss: 0.0768 - accuracy: 0.9766 - val_loss: 0.2838 - val_accuracy: 0.9255\n",
            "Epoch 54/200\n",
            "66/66 [==============================] - 22s 338ms/step - loss: 0.0785 - accuracy: 0.9764 - val_loss: 0.2691 - val_accuracy: 0.9377\n",
            "Epoch 55/200\n",
            "66/66 [==============================] - 22s 331ms/step - loss: 0.0657 - accuracy: 0.9805 - val_loss: 0.2287 - val_accuracy: 0.9473\n",
            "Epoch 56/200\n",
            "66/66 [==============================] - 21s 326ms/step - loss: 0.0504 - accuracy: 0.9866 - val_loss: 0.2470 - val_accuracy: 0.9426\n",
            "Epoch 57/200\n",
            "66/66 [==============================] - 21s 323ms/step - loss: 0.0508 - accuracy: 0.9860 - val_loss: 0.2337 - val_accuracy: 0.9473\n",
            "Epoch 58/200\n",
            "66/66 [==============================] - 21s 323ms/step - loss: 0.0470 - accuracy: 0.9869 - val_loss: 0.2511 - val_accuracy: 0.9418\n",
            "Epoch 59/200\n",
            "66/66 [==============================] - 21s 323ms/step - loss: 0.0482 - accuracy: 0.9864 - val_loss: 0.2411 - val_accuracy: 0.9450\n",
            "Epoch 60/200\n",
            "66/66 [==============================] - 21s 322ms/step - loss: 0.0511 - accuracy: 0.9853 - val_loss: 0.2740 - val_accuracy: 0.9358\n",
            "Epoch 61/200\n",
            "66/66 [==============================] - 21s 319ms/step - loss: 0.0511 - accuracy: 0.9855 - val_loss: 0.2283 - val_accuracy: 0.9507\n",
            "Epoch 62/200\n",
            "66/66 [==============================] - 21s 318ms/step - loss: 0.0469 - accuracy: 0.9864 - val_loss: 0.2569 - val_accuracy: 0.9471\n",
            "Epoch 63/200\n",
            "66/66 [==============================] - 22s 326ms/step - loss: 0.0529 - accuracy: 0.9837 - val_loss: 0.2381 - val_accuracy: 0.9466\n",
            "Epoch 64/200\n",
            "66/66 [==============================] - 21s 324ms/step - loss: 0.0583 - accuracy: 0.9822 - val_loss: 0.2805 - val_accuracy: 0.9389\n",
            "Epoch 65/200\n",
            "66/66 [==============================] - 21s 323ms/step - loss: 0.0506 - accuracy: 0.9850 - val_loss: 0.2299 - val_accuracy: 0.9527\n",
            "Epoch 66/200\n",
            "66/66 [==============================] - 21s 322ms/step - loss: 0.0371 - accuracy: 0.9902 - val_loss: 0.2294 - val_accuracy: 0.9506\n",
            "Epoch 67/200\n",
            "66/66 [==============================] - 22s 332ms/step - loss: 0.0365 - accuracy: 0.9900 - val_loss: 0.2690 - val_accuracy: 0.9447\n",
            "Epoch 68/200\n",
            "66/66 [==============================] - 22s 326ms/step - loss: 0.0385 - accuracy: 0.9891 - val_loss: 0.2472 - val_accuracy: 0.9492\n",
            "Epoch 69/200\n",
            "66/66 [==============================] - 21s 322ms/step - loss: 0.0356 - accuracy: 0.9901 - val_loss: 0.2314 - val_accuracy: 0.9511\n",
            "Epoch 70/200\n",
            "66/66 [==============================] - 21s 324ms/step - loss: 0.0386 - accuracy: 0.9893 - val_loss: 0.2606 - val_accuracy: 0.9472\n",
            "Epoch 71/200\n",
            "66/66 [==============================] - 22s 331ms/step - loss: 0.0371 - accuracy: 0.9895 - val_loss: 0.2312 - val_accuracy: 0.9537\n",
            "Epoch 72/200\n",
            "66/66 [==============================] - 22s 329ms/step - loss: 0.0314 - accuracy: 0.9916 - val_loss: 0.2725 - val_accuracy: 0.9457\n",
            "Epoch 73/200\n",
            "66/66 [==============================] - 22s 332ms/step - loss: 0.0423 - accuracy: 0.9870 - val_loss: 0.2510 - val_accuracy: 0.9492\n",
            "Epoch 74/200\n",
            "66/66 [==============================] - 22s 329ms/step - loss: 0.0521 - accuracy: 0.9845 - val_loss: 0.2384 - val_accuracy: 0.9518\n",
            "Epoch 75/200\n",
            "66/66 [==============================] - 21s 325ms/step - loss: 0.0390 - accuracy: 0.9883 - val_loss: 0.2268 - val_accuracy: 0.9560\n",
            "Epoch 76/200\n",
            "66/66 [==============================] - 21s 324ms/step - loss: 0.0240 - accuracy: 0.9939 - val_loss: 0.2306 - val_accuracy: 0.9565\n",
            "Epoch 77/200\n",
            "66/66 [==============================] - 21s 323ms/step - loss: 0.0212 - accuracy: 0.9949 - val_loss: 0.2251 - val_accuracy: 0.9580\n",
            "Epoch 78/200\n",
            "66/66 [==============================] - 21s 323ms/step - loss: 0.0162 - accuracy: 0.9967 - val_loss: 0.2404 - val_accuracy: 0.9566\n",
            "Epoch 79/200\n",
            "66/66 [==============================] - 21s 322ms/step - loss: 0.0189 - accuracy: 0.9958 - val_loss: 0.2183 - val_accuracy: 0.9592\n",
            "Epoch 80/200\n",
            "66/66 [==============================] - 21s 325ms/step - loss: 0.0187 - accuracy: 0.9954 - val_loss: 0.2426 - val_accuracy: 0.9570\n",
            "Epoch 81/200\n",
            "66/66 [==============================] - 21s 323ms/step - loss: 0.0170 - accuracy: 0.9959 - val_loss: 0.2219 - val_accuracy: 0.9578\n",
            "Epoch 82/200\n",
            "66/66 [==============================] - 22s 326ms/step - loss: 0.0206 - accuracy: 0.9951 - val_loss: 0.2261 - val_accuracy: 0.9604\n",
            "Epoch 83/200\n",
            "66/66 [==============================] - 21s 325ms/step - loss: 0.0229 - accuracy: 0.9937 - val_loss: 0.2634 - val_accuracy: 0.9503\n",
            "Epoch 84/200\n",
            "66/66 [==============================] - 21s 325ms/step - loss: 0.0398 - accuracy: 0.9873 - val_loss: 0.2895 - val_accuracy: 0.9423\n",
            "Epoch 85/200\n",
            "66/66 [==============================] - 21s 325ms/step - loss: 0.0891 - accuracy: 0.9718 - val_loss: 0.2946 - val_accuracy: 0.9378\n",
            "Epoch 86/200\n",
            "66/66 [==============================] - 21s 325ms/step - loss: 0.0482 - accuracy: 0.9851 - val_loss: 0.2458 - val_accuracy: 0.9557\n",
            "Epoch 87/200\n",
            "66/66 [==============================] - 21s 324ms/step - loss: 0.0261 - accuracy: 0.9925 - val_loss: 0.2696 - val_accuracy: 0.9532\n",
            "Epoch 88/200\n",
            "66/66 [==============================] - 22s 326ms/step - loss: 0.0235 - accuracy: 0.9937 - val_loss: 0.2408 - val_accuracy: 0.9578\n",
            "Epoch 89/200\n",
            "66/66 [==============================] - 22s 330ms/step - loss: 0.0199 - accuracy: 0.9950 - val_loss: 0.2446 - val_accuracy: 0.9600\n",
            "Epoch 90/200\n",
            "66/66 [==============================] - 22s 329ms/step - loss: 0.0123 - accuracy: 0.9974 - val_loss: 0.2174 - val_accuracy: 0.9651\n",
            "Epoch 91/200\n",
            "66/66 [==============================] - 22s 333ms/step - loss: 0.0154 - accuracy: 0.9967 - val_loss: 0.2842 - val_accuracy: 0.9483\n",
            "Epoch 92/200\n",
            "66/66 [==============================] - 22s 329ms/step - loss: 0.0288 - accuracy: 0.9915 - val_loss: 0.2723 - val_accuracy: 0.9506\n",
            "Epoch 93/200\n",
            "66/66 [==============================] - 22s 330ms/step - loss: 0.0255 - accuracy: 0.9923 - val_loss: 0.2482 - val_accuracy: 0.9571\n",
            "Epoch 94/200\n",
            "66/66 [==============================] - 22s 327ms/step - loss: 0.0207 - accuracy: 0.9941 - val_loss: 0.2458 - val_accuracy: 0.9567\n",
            "Epoch 95/200\n",
            "66/66 [==============================] - 22s 332ms/step - loss: 0.0163 - accuracy: 0.9959 - val_loss: 0.2514 - val_accuracy: 0.9602\n",
            "Epoch 96/200\n",
            "66/66 [==============================] - 22s 327ms/step - loss: 0.0190 - accuracy: 0.9946 - val_loss: 0.2568 - val_accuracy: 0.9597\n",
            "Epoch 97/200\n",
            "66/66 [==============================] - 21s 325ms/step - loss: 0.0182 - accuracy: 0.9950 - val_loss: 0.2815 - val_accuracy: 0.9516\n",
            "Epoch 98/200\n",
            "66/66 [==============================] - 21s 324ms/step - loss: 0.0252 - accuracy: 0.9933 - val_loss: 0.2659 - val_accuracy: 0.9556\n",
            "Epoch 99/200\n",
            "66/66 [==============================] - 21s 325ms/step - loss: 0.0212 - accuracy: 0.9939 - val_loss: 0.2451 - val_accuracy: 0.9624\n",
            "Epoch 100/200\n",
            "66/66 [==============================] - 21s 324ms/step - loss: 0.0201 - accuracy: 0.9942 - val_loss: 0.2364 - val_accuracy: 0.9583\n",
            "Epoch 101/200\n",
            "66/66 [==============================] - 21s 324ms/step - loss: 0.0141 - accuracy: 0.9965 - val_loss: 0.2442 - val_accuracy: 0.9619\n",
            "Epoch 102/200\n",
            "66/66 [==============================] - 22s 327ms/step - loss: 0.0150 - accuracy: 0.9959 - val_loss: 0.2460 - val_accuracy: 0.9598\n",
            "Epoch 103/200\n",
            "66/66 [==============================] - 22s 328ms/step - loss: 0.0115 - accuracy: 0.9971 - val_loss: 0.2684 - val_accuracy: 0.9555\n",
            "Epoch 104/200\n",
            "66/66 [==============================] - 22s 327ms/step - loss: 0.0112 - accuracy: 0.9973 - val_loss: 0.2512 - val_accuracy: 0.9585\n",
            "Epoch 105/200\n",
            "66/66 [==============================] - 22s 328ms/step - loss: 0.0136 - accuracy: 0.9968 - val_loss: 0.2768 - val_accuracy: 0.9570\n",
            "Epoch 106/200\n",
            "66/66 [==============================] - 21s 324ms/step - loss: 0.0511 - accuracy: 0.9837 - val_loss: 0.3114 - val_accuracy: 0.9469\n",
            "Epoch 107/200\n",
            "66/66 [==============================] - 21s 324ms/step - loss: 0.0400 - accuracy: 0.9877 - val_loss: 0.2814 - val_accuracy: 0.9501\n",
            "Epoch 108/200\n",
            "66/66 [==============================] - 22s 327ms/step - loss: 0.0282 - accuracy: 0.9912 - val_loss: 0.2405 - val_accuracy: 0.9604\n",
            "Epoch 109/200\n",
            "66/66 [==============================] - 21s 318ms/step - loss: 0.0263 - accuracy: 0.9921 - val_loss: 0.2507 - val_accuracy: 0.9616\n",
            "Epoch 110/200\n",
            "66/66 [==============================] - 22s 328ms/step - loss: 0.0133 - accuracy: 0.9963 - val_loss: 0.2399 - val_accuracy: 0.9645\n",
            "Epoch 111/200\n",
            "66/66 [==============================] - 22s 326ms/step - loss: 0.0078 - accuracy: 0.9983 - val_loss: 0.2270 - val_accuracy: 0.9674\n",
            "Epoch 112/200\n",
            "66/66 [==============================] - 21s 324ms/step - loss: 0.0066 - accuracy: 0.9986 - val_loss: 0.2514 - val_accuracy: 0.9626\n",
            "Epoch 113/200\n",
            "66/66 [==============================] - 21s 324ms/step - loss: 0.0073 - accuracy: 0.9983 - val_loss: 0.2392 - val_accuracy: 0.9665\n",
            "Epoch 114/200\n",
            "66/66 [==============================] - 21s 321ms/step - loss: 0.0043 - accuracy: 0.9994 - val_loss: 0.2407 - val_accuracy: 0.9647\n",
            "Epoch 115/200\n",
            "66/66 [==============================] - 21s 321ms/step - loss: 0.0025 - accuracy: 0.9998 - val_loss: 0.2259 - val_accuracy: 0.9707\n",
            "Epoch 116/200\n",
            "66/66 [==============================] - 21s 321ms/step - loss: 0.0016 - accuracy: 1.0000 - val_loss: 0.2247 - val_accuracy: 0.9698\n",
            "Epoch 117/200\n",
            "66/66 [==============================] - 21s 322ms/step - loss: 0.0012 - accuracy: 1.0000 - val_loss: 0.2256 - val_accuracy: 0.9702\n",
            "Epoch 118/200\n",
            "66/66 [==============================] - 21s 323ms/step - loss: 0.0011 - accuracy: 1.0000 - val_loss: 0.2285 - val_accuracy: 0.9689\n",
            "Epoch 119/200\n",
            "66/66 [==============================] - 21s 323ms/step - loss: 0.0010 - accuracy: 1.0000 - val_loss: 0.2287 - val_accuracy: 0.9697\n",
            "Epoch 120/200\n",
            "66/66 [==============================] - 21s 322ms/step - loss: 9.4751e-04 - accuracy: 1.0000 - val_loss: 0.2284 - val_accuracy: 0.9697\n",
            "Epoch 121/200\n",
            "66/66 [==============================] - 21s 323ms/step - loss: 9.0472e-04 - accuracy: 1.0000 - val_loss: 0.2291 - val_accuracy: 0.9704\n",
            "Epoch 122/200\n",
            "66/66 [==============================] - 21s 321ms/step - loss: 8.5280e-04 - accuracy: 1.0000 - val_loss: 0.2300 - val_accuracy: 0.9708\n",
            "Epoch 123/200\n",
            "66/66 [==============================] - 22s 326ms/step - loss: 8.6698e-04 - accuracy: 1.0000 - val_loss: 0.2315 - val_accuracy: 0.9700\n",
            "Epoch 124/200\n",
            "66/66 [==============================] - 21s 321ms/step - loss: 7.8690e-04 - accuracy: 1.0000 - val_loss: 0.2327 - val_accuracy: 0.9708\n",
            "Epoch 125/200\n",
            "66/66 [==============================] - 21s 325ms/step - loss: 7.4421e-04 - accuracy: 1.0000 - val_loss: 0.2344 - val_accuracy: 0.9700\n",
            "Epoch 126/200\n",
            "66/66 [==============================] - 21s 321ms/step - loss: 7.0809e-04 - accuracy: 1.0000 - val_loss: 0.2343 - val_accuracy: 0.9703\n",
            "Epoch 127/200\n",
            "66/66 [==============================] - 21s 324ms/step - loss: 6.6985e-04 - accuracy: 1.0000 - val_loss: 0.2366 - val_accuracy: 0.9702\n",
            "Epoch 128/200\n",
            "66/66 [==============================] - 21s 323ms/step - loss: 6.3481e-04 - accuracy: 1.0000 - val_loss: 0.2373 - val_accuracy: 0.9701\n",
            "Epoch 129/200\n",
            "66/66 [==============================] - 21s 322ms/step - loss: 6.2931e-04 - accuracy: 1.0000 - val_loss: 0.2369 - val_accuracy: 0.9700\n",
            "Epoch 130/200\n",
            "66/66 [==============================] - 21s 325ms/step - loss: 5.9288e-04 - accuracy: 1.0000 - val_loss: 0.2385 - val_accuracy: 0.9701\n",
            "Epoch 131/200\n",
            "66/66 [==============================] - 21s 325ms/step - loss: 5.7365e-04 - accuracy: 1.0000 - val_loss: 0.2385 - val_accuracy: 0.9702\n",
            "Epoch 132/200\n",
            "66/66 [==============================] - 21s 325ms/step - loss: 5.3736e-04 - accuracy: 1.0000 - val_loss: 0.2404 - val_accuracy: 0.9706\n",
            "Epoch 133/200\n",
            "66/66 [==============================] - 21s 324ms/step - loss: 5.2159e-04 - accuracy: 1.0000 - val_loss: 0.2406 - val_accuracy: 0.9706\n",
            "Epoch 134/200\n",
            "66/66 [==============================] - 22s 327ms/step - loss: 5.0163e-04 - accuracy: 1.0000 - val_loss: 0.2412 - val_accuracy: 0.9710\n",
            "Epoch 135/200\n",
            "66/66 [==============================] - 22s 329ms/step - loss: 4.9205e-04 - accuracy: 1.0000 - val_loss: 0.2420 - val_accuracy: 0.9698\n",
            "Epoch 136/200\n",
            "66/66 [==============================] - 22s 330ms/step - loss: 4.7188e-04 - accuracy: 1.0000 - val_loss: 0.2441 - val_accuracy: 0.9705\n",
            "Epoch 137/200\n",
            "66/66 [==============================] - 22s 328ms/step - loss: 4.4912e-04 - accuracy: 1.0000 - val_loss: 0.2457 - val_accuracy: 0.9702\n",
            "Epoch 138/200\n",
            "66/66 [==============================] - 22s 327ms/step - loss: 4.2824e-04 - accuracy: 1.0000 - val_loss: 0.2454 - val_accuracy: 0.9704\n",
            "Epoch 139/200\n",
            "66/66 [==============================] - 21s 324ms/step - loss: 4.1006e-04 - accuracy: 1.0000 - val_loss: 0.2473 - val_accuracy: 0.9703\n",
            "Epoch 140/200\n",
            "66/66 [==============================] - 21s 325ms/step - loss: 4.0802e-04 - accuracy: 1.0000 - val_loss: 0.2479 - val_accuracy: 0.9694\n",
            "Epoch 141/200\n",
            "66/66 [==============================] - 21s 325ms/step - loss: 3.9236e-04 - accuracy: 1.0000 - val_loss: 0.2485 - val_accuracy: 0.9702\n",
            "Epoch 142/200\n",
            "66/66 [==============================] - 22s 327ms/step - loss: 3.6834e-04 - accuracy: 1.0000 - val_loss: 0.2494 - val_accuracy: 0.9708\n",
            "Epoch 143/200\n",
            "66/66 [==============================] - 21s 324ms/step - loss: 3.7909e-04 - accuracy: 1.0000 - val_loss: 0.2490 - val_accuracy: 0.9710\n",
            "Epoch 144/200\n",
            "66/66 [==============================] - 22s 330ms/step - loss: 3.4800e-04 - accuracy: 1.0000 - val_loss: 0.2501 - val_accuracy: 0.9704\n",
            "Epoch 145/200\n",
            "66/66 [==============================] - 22s 330ms/step - loss: 3.3351e-04 - accuracy: 1.0000 - val_loss: 0.2521 - val_accuracy: 0.9705\n",
            "Epoch 146/200\n",
            "66/66 [==============================] - 22s 332ms/step - loss: 3.2533e-04 - accuracy: 1.0000 - val_loss: 0.2520 - val_accuracy: 0.9708\n",
            "Epoch 147/200\n",
            "66/66 [==============================] - 22s 331ms/step - loss: 3.1032e-04 - accuracy: 1.0000 - val_loss: 0.2540 - val_accuracy: 0.9705\n",
            "Epoch 148/200\n",
            "66/66 [==============================] - 22s 329ms/step - loss: 2.9385e-04 - accuracy: 1.0000 - val_loss: 0.2550 - val_accuracy: 0.9707\n",
            "Epoch 149/200\n",
            "66/66 [==============================] - 22s 329ms/step - loss: 2.8701e-04 - accuracy: 1.0000 - val_loss: 0.2540 - val_accuracy: 0.9706\n",
            "Epoch 150/200\n",
            "66/66 [==============================] - 22s 327ms/step - loss: 2.7946e-04 - accuracy: 1.0000 - val_loss: 0.2554 - val_accuracy: 0.9704\n",
            "Epoch 151/200\n",
            "66/66 [==============================] - 22s 336ms/step - loss: 2.6711e-04 - accuracy: 1.0000 - val_loss: 0.2567 - val_accuracy: 0.9704\n",
            "Epoch 152/200\n",
            "66/66 [==============================] - 22s 329ms/step - loss: 2.5779e-04 - accuracy: 1.0000 - val_loss: 0.2574 - val_accuracy: 0.9700\n",
            "Epoch 153/200\n",
            "66/66 [==============================] - 22s 329ms/step - loss: 2.4581e-04 - accuracy: 1.0000 - val_loss: 0.2579 - val_accuracy: 0.9700\n",
            "Epoch 154/200\n",
            "66/66 [==============================] - 22s 330ms/step - loss: 2.3959e-04 - accuracy: 1.0000 - val_loss: 0.2599 - val_accuracy: 0.9703\n",
            "Epoch 155/200\n",
            "66/66 [==============================] - 22s 329ms/step - loss: 2.3197e-04 - accuracy: 1.0000 - val_loss: 0.2600 - val_accuracy: 0.9702\n",
            "Epoch 156/200\n",
            "66/66 [==============================] - 22s 327ms/step - loss: 2.2439e-04 - accuracy: 1.0000 - val_loss: 0.2602 - val_accuracy: 0.9709\n",
            "Epoch 157/200\n",
            "66/66 [==============================] - 22s 327ms/step - loss: 2.1541e-04 - accuracy: 1.0000 - val_loss: 0.2606 - val_accuracy: 0.9710\n",
            "Epoch 158/200\n",
            "66/66 [==============================] - 22s 333ms/step - loss: 2.0618e-04 - accuracy: 1.0000 - val_loss: 0.2614 - val_accuracy: 0.9711\n",
            "Epoch 159/200\n",
            "66/66 [==============================] - 22s 327ms/step - loss: 2.0805e-04 - accuracy: 1.0000 - val_loss: 0.2634 - val_accuracy: 0.9699\n",
            "Epoch 160/200\n",
            "66/66 [==============================] - 21s 324ms/step - loss: 1.8680e-04 - accuracy: 1.0000 - val_loss: 0.2654 - val_accuracy: 0.9702\n",
            "Epoch 161/200\n",
            "66/66 [==============================] - 21s 325ms/step - loss: 1.8632e-04 - accuracy: 1.0000 - val_loss: 0.2651 - val_accuracy: 0.9700\n",
            "Epoch 162/200\n",
            "66/66 [==============================] - 22s 326ms/step - loss: 1.7660e-04 - accuracy: 1.0000 - val_loss: 0.2640 - val_accuracy: 0.9701\n",
            "Epoch 163/200\n",
            "66/66 [==============================] - 22s 328ms/step - loss: 1.6917e-04 - accuracy: 1.0000 - val_loss: 0.2647 - val_accuracy: 0.9696\n",
            "Epoch 164/200\n",
            "66/66 [==============================] - 21s 324ms/step - loss: 1.6425e-04 - accuracy: 1.0000 - val_loss: 0.2660 - val_accuracy: 0.9700\n",
            "Epoch 165/200\n",
            "66/66 [==============================] - 22s 329ms/step - loss: 1.6036e-04 - accuracy: 1.0000 - val_loss: 0.2665 - val_accuracy: 0.9710\n",
            "Epoch 166/200\n",
            "66/66 [==============================] - 22s 330ms/step - loss: 1.5550e-04 - accuracy: 1.0000 - val_loss: 0.2693 - val_accuracy: 0.9697\n",
            "Epoch 167/200\n",
            "66/66 [==============================] - 22s 326ms/step - loss: 1.4404e-04 - accuracy: 1.0000 - val_loss: 0.2701 - val_accuracy: 0.9698\n",
            "Epoch 168/200\n",
            "66/66 [==============================] - 22s 329ms/step - loss: 1.4294e-04 - accuracy: 1.0000 - val_loss: 0.2700 - val_accuracy: 0.9705\n",
            "Epoch 169/200\n",
            "66/66 [==============================] - 21s 325ms/step - loss: 1.3500e-04 - accuracy: 1.0000 - val_loss: 0.2694 - val_accuracy: 0.9697\n",
            "Epoch 170/200\n",
            "66/66 [==============================] - 22s 326ms/step - loss: 1.3261e-04 - accuracy: 1.0000 - val_loss: 0.2716 - val_accuracy: 0.9696\n",
            "Epoch 171/200\n",
            "66/66 [==============================] - 21s 324ms/step - loss: 1.3022e-04 - accuracy: 1.0000 - val_loss: 0.2708 - val_accuracy: 0.9702\n",
            "Epoch 172/200\n",
            "66/66 [==============================] - 21s 324ms/step - loss: 1.2358e-04 - accuracy: 1.0000 - val_loss: 0.2730 - val_accuracy: 0.9694\n",
            "Epoch 173/200\n",
            "66/66 [==============================] - 21s 319ms/step - loss: 1.1797e-04 - accuracy: 1.0000 - val_loss: 0.2739 - val_accuracy: 0.9702\n",
            "Epoch 174/200\n",
            "66/66 [==============================] - 21s 312ms/step - loss: 1.2265e-04 - accuracy: 1.0000 - val_loss: 0.2739 - val_accuracy: 0.9701\n",
            "Epoch 175/200\n",
            "66/66 [==============================] - 21s 314ms/step - loss: 1.1379e-04 - accuracy: 1.0000 - val_loss: 0.2754 - val_accuracy: 0.9706\n",
            "Epoch 176/200\n",
            "66/66 [==============================] - 21s 312ms/step - loss: 1.0909e-04 - accuracy: 1.0000 - val_loss: 0.2758 - val_accuracy: 0.9699\n",
            "Epoch 177/200\n",
            "66/66 [==============================] - 21s 311ms/step - loss: 1.0324e-04 - accuracy: 1.0000 - val_loss: 0.2779 - val_accuracy: 0.9698\n",
            "Epoch 178/200\n",
            "66/66 [==============================] - 21s 311ms/step - loss: 9.8371e-05 - accuracy: 1.0000 - val_loss: 0.2773 - val_accuracy: 0.9696\n",
            "Epoch 179/200\n",
            "66/66 [==============================] - 21s 312ms/step - loss: 9.5990e-05 - accuracy: 1.0000 - val_loss: 0.2778 - val_accuracy: 0.9698\n",
            "Epoch 180/200\n",
            "66/66 [==============================] - 21s 320ms/step - loss: 8.8551e-05 - accuracy: 1.0000 - val_loss: 0.2801 - val_accuracy: 0.9703\n",
            "Epoch 181/200\n",
            "66/66 [==============================] - 21s 319ms/step - loss: 8.5245e-05 - accuracy: 1.0000 - val_loss: 0.2805 - val_accuracy: 0.9699\n",
            "Epoch 182/200\n",
            "66/66 [==============================] - 21s 315ms/step - loss: 8.0907e-05 - accuracy: 1.0000 - val_loss: 0.2801 - val_accuracy: 0.9698\n",
            "Epoch 183/200\n",
            "66/66 [==============================] - 21s 316ms/step - loss: 7.7439e-05 - accuracy: 1.0000 - val_loss: 0.2814 - val_accuracy: 0.9696\n",
            "Epoch 184/200\n",
            "66/66 [==============================] - 21s 315ms/step - loss: 7.5889e-05 - accuracy: 1.0000 - val_loss: 0.2832 - val_accuracy: 0.9700\n",
            "Epoch 185/200\n",
            "66/66 [==============================] - 21s 318ms/step - loss: 7.4326e-05 - accuracy: 1.0000 - val_loss: 0.2830 - val_accuracy: 0.9697\n",
            "Epoch 186/200\n",
            "66/66 [==============================] - 21s 318ms/step - loss: 7.2139e-05 - accuracy: 1.0000 - val_loss: 0.2860 - val_accuracy: 0.9696\n",
            "Epoch 187/200\n",
            "66/66 [==============================] - 21s 317ms/step - loss: 9.7679e-05 - accuracy: 1.0000 - val_loss: 0.2847 - val_accuracy: 0.9700\n",
            "Epoch 188/200\n",
            "66/66 [==============================] - 21s 317ms/step - loss: 1.0491e-04 - accuracy: 1.0000 - val_loss: 0.2854 - val_accuracy: 0.9701\n",
            "Epoch 189/200\n",
            "66/66 [==============================] - 21s 313ms/step - loss: 8.5413e-05 - accuracy: 1.0000 - val_loss: 0.2893 - val_accuracy: 0.9702\n",
            "Epoch 190/200\n",
            "66/66 [==============================] - 21s 319ms/step - loss: 6.1833e-05 - accuracy: 1.0000 - val_loss: 0.2893 - val_accuracy: 0.9701\n",
            "Epoch 191/200\n",
            "66/66 [==============================] - 21s 312ms/step - loss: 5.5721e-05 - accuracy: 1.0000 - val_loss: 0.2892 - val_accuracy: 0.9702\n",
            "Epoch 192/200\n",
            "66/66 [==============================] - 21s 313ms/step - loss: 5.5544e-05 - accuracy: 1.0000 - val_loss: 0.2875 - val_accuracy: 0.9704\n",
            "Epoch 193/200\n",
            "66/66 [==============================] - 20s 310ms/step - loss: 5.7736e-05 - accuracy: 1.0000 - val_loss: 0.2890 - val_accuracy: 0.9704\n",
            "Epoch 194/200\n",
            "66/66 [==============================] - 21s 313ms/step - loss: 5.1844e-05 - accuracy: 1.0000 - val_loss: 0.2911 - val_accuracy: 0.9705\n",
            "Epoch 195/200\n",
            "66/66 [==============================] - 21s 312ms/step - loss: 5.5240e-05 - accuracy: 1.0000 - val_loss: 0.2914 - val_accuracy: 0.9705\n",
            "Epoch 196/200\n",
            "66/66 [==============================] - 21s 312ms/step - loss: 4.7902e-05 - accuracy: 1.0000 - val_loss: 0.2933 - val_accuracy: 0.9704\n",
            "Epoch 197/200\n",
            "66/66 [==============================] - 21s 315ms/step - loss: 4.5783e-05 - accuracy: 1.0000 - val_loss: 0.2930 - val_accuracy: 0.9701\n",
            "Epoch 198/200\n",
            "66/66 [==============================] - 21s 314ms/step - loss: 4.5289e-05 - accuracy: 1.0000 - val_loss: 0.2963 - val_accuracy: 0.9697\n",
            "Epoch 199/200\n",
            "66/66 [==============================] - 21s 316ms/step - loss: 4.3520e-05 - accuracy: 1.0000 - val_loss: 0.2958 - val_accuracy: 0.9700\n",
            "Epoch 200/200\n",
            "66/66 [==============================] - 21s 311ms/step - loss: 4.1091e-05 - accuracy: 1.0000 - val_loss: 0.2964 - val_accuracy: 0.9698\n"
          ],
          "name": "stdout"
        }
      ]
    },
    {
      "cell_type": "code",
      "metadata": {
        "id": "lz5-brwCcE9M",
        "colab_type": "code",
        "colab": {
          "base_uri": "https://localhost:8080/",
          "height": 514
        },
        "outputId": "0e7f8b24-a7dd-4730-cebe-7d9aaa1c8587"
      },
      "source": [
        "plt.figure(figsize=(20, 8))\n",
        "plt.subplot(1, 2, 1)\n",
        "plt.plot(history.history['accuracy'], label='accuracy')\n",
        "plt.plot(history.history['val_accuracy'], label = 'val_accuracy')\n",
        "plt.xlabel('Epoch')\n",
        "plt.ylabel('Accuracy')\n",
        "plt.legend(loc='lower right')\n",
        "plt.subplot(1, 2, 2)\n",
        "plt.plot(history.history['loss'], label='loss')\n",
        "plt.plot(history.history['val_loss'], label = 'val_loss')\n",
        "plt.xlabel('Epoch')\n",
        "plt.ylabel('Loss')\n",
        "plt.legend(loc='upper right')"
      ],
      "execution_count": 61,
      "outputs": [
        {
          "output_type": "execute_result",
          "data": {
            "text/plain": [
              "<matplotlib.legend.Legend at 0x7f8f71192fd0>"
            ]
          },
          "metadata": {
            "tags": []
          },
          "execution_count": 61
        },
        {
          "output_type": "display_data",
          "data": {
            "image/png": "[encoded data removed]",
            "text/plain": [
              "<Figure size 1440x576 with 2 Axes>"
            ]
          },
          "metadata": {
            "tags": [],
            "needs_background": "light"
          }
        }
      ]
    }
  ]
}