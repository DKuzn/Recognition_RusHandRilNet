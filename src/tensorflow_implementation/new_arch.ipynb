{
 "cells": [
  {
   "cell_type": "code",
   "execution_count": 1,
   "metadata": {
    "colab": {},
    "colab_type": "code",
    "id": "LexRCkgEPJ1C"
   },
   "outputs": [],
   "source": [
    "from __future__ import absolute_import, division, print_function, unicode_literals\n",
    " \n",
    "import tensorflow as tf\n",
    "import pathlib\n",
    "import random\n",
    "import matplotlib.pyplot as plt"
   ]
  },
  {
   "cell_type": "code",
   "execution_count": 2,
   "metadata": {
    "colab": {
     "base_uri": "https://localhost:8080/",
     "height": 34
    },
    "colab_type": "code",
    "id": "VR85s8XpN7wn",
    "outputId": "d9b51065-cad0-4f1a-95d8-ff5ed87c0055"
   },
   "outputs": [
    {
     "data": {
      "text/plain": [
       "[PhysicalDevice(name='/physical_device:CPU:0', device_type='CPU'),\n",
       " PhysicalDevice(name='/physical_device:XLA_CPU:0', device_type='XLA_CPU'),\n",
       " PhysicalDevice(name='/physical_device:GPU:0', device_type='GPU'),\n",
       " PhysicalDevice(name='/physical_device:XLA_GPU:0', device_type='XLA_GPU')]"
      ]
     },
     "execution_count": 2,
     "metadata": {},
     "output_type": "execute_result"
    }
   ],
   "source": [
    "tf.config.experimental.list_physical_devices()"
   ]
  },
  {
   "cell_type": "code",
   "execution_count": 3,
   "metadata": {},
   "outputs": [],
   "source": [
    "physical_devices = tf.config.experimental.list_physical_devices('GPU')\n",
    "tf.config.experimental.set_memory_growth(physical_devices[0], True)"
   ]
  },
  {
   "cell_type": "code",
   "execution_count": 4,
   "metadata": {
    "colab": {},
    "colab_type": "code",
    "id": "uhmnBuQkPJ1J",
    "pycharm": {
     "name": "#%%\n"
    }
   },
   "outputs": [],
   "source": [
    "AUTOTUNE = tf.data.experimental.AUTOTUNE\n",
    "BATCH_SIZE = 100"
   ]
  },
  {
   "cell_type": "code",
   "execution_count": 5,
   "metadata": {
    "colab": {},
    "colab_type": "code",
    "id": "zZ2ebexlPJ1M",
    "pycharm": {
     "name": "#%%\n"
    }
   },
   "outputs": [],
   "source": [
    "data_root_orig_train = '../R2HandRilDataset/Train'\n",
    "data_root_train = pathlib.Path(data_root_orig_train)\n",
    "data_root_orig_test = '../R2HandRilDataset/Test'\n",
    "data_root_test = pathlib.Path(data_root_orig_test)"
   ]
  },
  {
   "cell_type": "code",
   "execution_count": 6,
   "metadata": {
    "colab": {},
    "colab_type": "code",
    "id": "4_qP3V8LkEuB",
    "pycharm": {
     "name": "#%%\n"
    }
   },
   "outputs": [],
   "source": [
    "train_image_paths = list(data_root_train.glob('*/*'))\n",
    "train_image_paths = [str(path) for path in train_image_paths]\n",
    "random.shuffle(train_image_paths)\n",
    "\n",
    "image_count = len(train_image_paths)"
   ]
  },
  {
   "cell_type": "code",
   "execution_count": 7,
   "metadata": {
    "colab": {},
    "colab_type": "code",
    "id": "2LceFVXrkIM3"
   },
   "outputs": [],
   "source": [
    "test_image_paths = list(data_root_test.glob('*/*'))\n",
    "test_image_paths = [str(path) for path in test_image_paths]\n",
    "random.shuffle(test_image_paths)\n",
    "\n",
    "image_count = len(test_image_paths)"
   ]
  },
  {
   "cell_type": "code",
   "execution_count": 8,
   "metadata": {
    "colab": {},
    "colab_type": "code",
    "id": "VETGsQfgPJ1R",
    "pycharm": {
     "name": "#%%\n"
    }
   },
   "outputs": [],
   "source": [
    "train_image_paths = list(data_root_train.glob('*/*'))\n",
    "train_image_paths = [str(path) for path in train_image_paths]\n",
    "random.shuffle(train_image_paths)"
   ]
  },
  {
   "cell_type": "code",
   "execution_count": 9,
   "metadata": {
    "colab": {},
    "colab_type": "code",
    "id": "weW4XW0KvDR1"
   },
   "outputs": [],
   "source": [
    "test_image_paths = list(data_root_test.glob('*/*'))\n",
    "test_image_paths = [str(path) for path in test_image_paths]\n",
    "random.shuffle(test_image_paths)"
   ]
  },
  {
   "cell_type": "code",
   "execution_count": 10,
   "metadata": {
    "colab": {},
    "colab_type": "code",
    "id": "1jwYGLUBPJ1b",
    "pycharm": {
     "name": "#%%\n"
    }
   },
   "outputs": [],
   "source": [
    "train_label_names = sorted(item.name for item in data_root_train.glob('*/') if item.is_dir())\n",
    "test_label_names = sorted(item.name for item in data_root_test.glob('*/') if item.is_dir())\n",
    "train_label_to_index = dict((name, index) for index, name in enumerate(train_label_names))\n",
    "test_label_to_index = dict((name, index) for index, name in enumerate(test_label_names))\n"
   ]
  },
  {
   "cell_type": "code",
   "execution_count": 11,
   "metadata": {
    "colab": {},
    "colab_type": "code",
    "id": "T0Md5MqPPJ1g",
    "pycharm": {
     "name": "#%%\n"
    }
   },
   "outputs": [],
   "source": [
    "train_image_labels = [train_label_to_index[pathlib.Path(path).parent.name]\n",
    "                    for path in train_image_paths]\n"
   ]
  },
  {
   "cell_type": "code",
   "execution_count": 12,
   "metadata": {
    "colab": {},
    "colab_type": "code",
    "id": "xgpNP87zw2N1"
   },
   "outputs": [],
   "source": [
    "test_image_labels = [test_label_to_index[pathlib.Path(path).parent.name]\n",
    "                    for path in test_image_paths]\n"
   ]
  },
  {
   "cell_type": "code",
   "execution_count": 13,
   "metadata": {
    "colab": {},
    "colab_type": "code",
    "id": "R99Hp0nePJ1s",
    "pycharm": {
     "name": "#%%\n"
    }
   },
   "outputs": [],
   "source": [
    "def preprocess_image(image):\n",
    "    image = tf.io.decode_jpeg(image, channels=1)\n",
    "    image = tf.image.resize(image, [28, 28])\n",
    "    image /= 255.0\n",
    "\n",
    "    return image"
   ]
  },
  {
   "cell_type": "code",
   "execution_count": 14,
   "metadata": {
    "colab": {},
    "colab_type": "code",
    "id": "RxJcX0GPPJ1u",
    "pycharm": {
     "name": "#%%\n"
    }
   },
   "outputs": [],
   "source": [
    "def load_and_preprocess_image(path):\n",
    "    image = tf.io.read_file(path)\n",
    "    return preprocess_image(image)"
   ]
  },
  {
   "cell_type": "code",
   "execution_count": 15,
   "metadata": {
    "colab": {},
    "colab_type": "code",
    "id": "BF0fjZfTPJ1z",
    "pycharm": {
     "name": "#%%\n"
    }
   },
   "outputs": [],
   "source": [
    "train_path_ds = tf.data.Dataset.from_tensor_slices(train_image_paths)\n",
    "test_path_ds = tf.data.Dataset.from_tensor_slices(test_image_paths)\n",
    "\n",
    "train_image_ds = train_path_ds.map(load_and_preprocess_image, num_parallel_calls=AUTOTUNE)\n",
    "test_image_ds = test_path_ds.map(load_and_preprocess_image, num_parallel_calls=AUTOTUNE)\n",
    "\n",
    "train_label_ds = tf.data.Dataset.from_tensor_slices(tf.cast(train_image_labels, tf.int64))\n",
    "test_label_ds = tf.data.Dataset.from_tensor_slices(tf.cast(test_image_labels, tf.int64))\n",
    "\n",
    "train_image_label_ds = tf.data.Dataset.zip((train_image_ds, train_label_ds))\n",
    "test_image_label_ds = tf.data.Dataset.zip((test_image_ds, test_label_ds))"
   ]
  },
  {
   "cell_type": "code",
   "execution_count": 16,
   "metadata": {
    "colab": {},
    "colab_type": "code",
    "id": "fW1fDchVPJ2H",
    "pycharm": {
     "name": "#%%\n"
    }
   },
   "outputs": [
    {
     "name": "stdout",
     "output_type": "stream",
     "text": [
      "WARNING:tensorflow:From <ipython-input-16-89f0a946d592>:2: shuffle_and_repeat (from tensorflow.python.data.experimental.ops.shuffle_ops) is deprecated and will be removed in a future version.\n",
      "Instructions for updating:\n",
      "Use `tf.data.Dataset.shuffle(buffer_size, seed)` followed by `tf.data.Dataset.repeat(count)`. Static tf.data optimizations will take care of using the fused implementation.\n"
     ]
    }
   ],
   "source": [
    "train_ds = train_image_label_ds.apply(\n",
    "  tf.data.experimental.shuffle_and_repeat(buffer_size=image_count))\n",
    "train_ds = train_ds.batch(BATCH_SIZE)\n",
    "train_ds = train_ds.prefetch(buffer_size=AUTOTUNE)"
   ]
  },
  {
   "cell_type": "code",
   "execution_count": 17,
   "metadata": {
    "colab": {},
    "colab_type": "code",
    "id": "0vf964Lt36Ho"
   },
   "outputs": [],
   "source": [
    "test_ds = test_image_label_ds.apply(\n",
    "  tf.data.experimental.shuffle_and_repeat(buffer_size=image_count))\n",
    "test_ds = test_ds.batch(BATCH_SIZE)\n",
    "test_ds = test_ds.prefetch(buffer_size=AUTOTUNE)"
   ]
  },
  {
   "cell_type": "code",
   "execution_count": 18,
   "metadata": {
    "colab": {},
    "colab_type": "code",
    "id": "OxjT5uaBPJ2N",
    "pycharm": {
     "name": "#%%\n"
    }
   },
   "outputs": [],
   "source": [
    "model = tf.keras.models.Sequential()\n",
    "model.add(tf.keras.layers.Conv2D(filters=124, \n",
    "                                 kernel_size=(3, 3), \n",
    "                                 activation='relu', \n",
    "                                 padding='valid',\n",
    "                                 input_shape=(28, 28, 1)))\n",
    "model.add(tf.keras.layers.Conv2D(filters=124, \n",
    "                                 kernel_size=(3, 3), \n",
    "                                 activation='relu', \n",
    "                                 padding='valid'))\n",
    "model.add(tf.keras.layers.MaxPool2D((2, 2), strides=(2, 2)))\n",
    "model.add(tf.keras.layers.Conv2D(filters=596, \n",
    "                                 kernel_size=(3, 3), \n",
    "                                 activation='relu', \n",
    "                                 padding='valid'))\n",
    "model.add(tf.keras.layers.Conv2D(filters=596, \n",
    "                                 kernel_size=(3, 3), \n",
    "                                 activation='relu', \n",
    "                                 padding='valid'))\n",
    "model.add(tf.keras.layers.MaxPool2D((2, 2), strides=(2, 2)))\n",
    "model.add(tf.keras.layers.Conv2D(filters=1192, \n",
    "                                 kernel_size=(3, 3), \n",
    "                                 activation='relu', \n",
    "                                 padding='valid'))\n",
    "model.add(tf.keras.layers.MaxPool2D((2, 2), strides=(2, 2)))\n",
    "model.add(tf.keras.layers.Dropout(0.5))\n",
    "model.add(tf.keras.layers.Flatten())\n",
    "model.add(tf.keras.layers.Dense(1192, activation='relu'))\n",
    "model.add(tf.keras.layers.Dense(62, activation='softmax'))"
   ]
  },
  {
   "cell_type": "code",
   "execution_count": 19,
   "metadata": {
    "colab": {
     "base_uri": "https://localhost:8080/",
     "height": 34
    },
    "colab_type": "code",
    "id": "c5CmE4WEPJ2T",
    "outputId": "0c441158-c8ba-435e-e09a-5f7fdf41ccc6",
    "pycharm": {
     "name": "#%%\n"
    }
   },
   "outputs": [
    {
     "data": {
      "text/plain": [
       "14"
      ]
     },
     "execution_count": 19,
     "metadata": {},
     "output_type": "execute_result"
    }
   ],
   "source": [
    "len(model.trainable_variables)"
   ]
  },
  {
   "cell_type": "code",
   "execution_count": 20,
   "metadata": {
    "colab": {
     "base_uri": "https://localhost:8080/",
     "height": 561
    },
    "colab_type": "code",
    "id": "T-DPfQIaPJ2V",
    "outputId": "f7a72443-0065-44fb-e552-d1fd1212f189",
    "pycharm": {
     "name": "#%%\n"
    }
   },
   "outputs": [
    {
     "name": "stdout",
     "output_type": "stream",
     "text": [
      "Model: \"sequential\"\n",
      "_________________________________________________________________\n",
      "Layer (type)                 Output Shape              Param #   \n",
      "=================================================================\n",
      "conv2d (Conv2D)              (None, 26, 26, 124)       1240      \n",
      "_________________________________________________________________\n",
      "conv2d_1 (Conv2D)            (None, 24, 24, 124)       138508    \n",
      "_________________________________________________________________\n",
      "max_pooling2d (MaxPooling2D) (None, 12, 12, 124)       0         \n",
      "_________________________________________________________________\n",
      "conv2d_2 (Conv2D)            (None, 10, 10, 596)       665732    \n",
      "_________________________________________________________________\n",
      "conv2d_3 (Conv2D)            (None, 8, 8, 596)         3197540   \n",
      "_________________________________________________________________\n",
      "max_pooling2d_1 (MaxPooling2 (None, 4, 4, 596)         0         \n",
      "_________________________________________________________________\n",
      "conv2d_4 (Conv2D)            (None, 2, 2, 1192)        6395080   \n",
      "_________________________________________________________________\n",
      "max_pooling2d_2 (MaxPooling2 (None, 1, 1, 1192)        0         \n",
      "_________________________________________________________________\n",
      "dropout (Dropout)            (None, 1, 1, 1192)        0         \n",
      "_________________________________________________________________\n",
      "flatten (Flatten)            (None, 1192)              0         \n",
      "_________________________________________________________________\n",
      "dense (Dense)                (None, 1192)              1422056   \n",
      "_________________________________________________________________\n",
      "dense_1 (Dense)              (None, 62)                73966     \n",
      "=================================================================\n",
      "Total params: 11,894,122\n",
      "Trainable params: 11,894,122\n",
      "Non-trainable params: 0\n",
      "_________________________________________________________________\n"
     ]
    }
   ],
   "source": [
    "model.summary()"
   ]
  },
  {
   "cell_type": "code",
   "execution_count": 21,
   "metadata": {
    "colab": {},
    "colab_type": "code",
    "id": "pn1VgcR3gLnt"
   },
   "outputs": [],
   "source": [
    "model.compile(optimizer=tf.keras.optimizers.Adam(learning_rate=0.000001, \n",
    "                                                 beta_1=0.9, \n",
    "                                                 beta_2=0.999, \n",
    "                                                 epsilon=1e-07, \n",
    "                                                 amsgrad=False,\n",
    "                                                 name='Adam'),\n",
    "              loss=tf.keras.losses.SparseCategoricalCrossentropy(),\n",
    "              metrics=['accuracy'])"
   ]
  },
  {
   "cell_type": "code",
   "execution_count": 22,
   "metadata": {
    "colab": {
     "base_uri": "https://localhost:8080/",
     "height": 34
    },
    "colab_type": "code",
    "id": "E36SHexYPJ2X",
    "outputId": "5780a203-abf4-4e4a-d67d-c1d60fd69a81",
    "pycharm": {
     "name": "#%%\n"
    }
   },
   "outputs": [
    {
     "data": {
      "text/plain": [
       "2325.0"
      ]
     },
     "execution_count": 22,
     "metadata": {},
     "output_type": "execute_result"
    }
   ],
   "source": [
    "steps_per_epoch=tf.math.ceil(len(train_image_paths)/BATCH_SIZE).numpy()\n",
    "steps_per_epoch"
   ]
  },
  {
   "cell_type": "code",
   "execution_count": 36,
   "metadata": {
    "colab": {},
    "colab_type": "code",
    "id": "Uph-LZazPJ2Z",
    "pycharm": {
     "name": "#%%\n"
    },
    "scrolled": true
   },
   "outputs": [
    {
     "name": "stdout",
     "output_type": "stream",
     "text": [
      "Epoch 1/100\n",
      "2325/2325 [==============================] - 72s 31ms/step - loss: 0.1512 - accuracy: 0.9428 - val_loss: 0.4300 - val_accuracy: 0.8715\n",
      "Epoch 2/100\n",
      "2325/2325 [==============================] - 73s 31ms/step - loss: 0.1504 - accuracy: 0.9427 - val_loss: 0.4327 - val_accuracy: 0.8710\n",
      "Epoch 3/100\n",
      "2325/2325 [==============================] - 73s 31ms/step - loss: 0.1505 - accuracy: 0.9423 - val_loss: 0.4321 - val_accuracy: 0.8706\n",
      "Epoch 4/100\n",
      "2325/2325 [==============================] - 73s 31ms/step - loss: 0.1509 - accuracy: 0.9426 - val_loss: 0.4324 - val_accuracy: 0.8706\n",
      "Epoch 5/100\n",
      "2325/2325 [==============================] - 73s 32ms/step - loss: 0.1496 - accuracy: 0.9426 - val_loss: 0.4273 - val_accuracy: 0.8709\n",
      "Epoch 6/100\n",
      "2325/2325 [==============================] - 73s 32ms/step - loss: 0.1495 - accuracy: 0.9434 - val_loss: 0.4314 - val_accuracy: 0.8715\n",
      "Epoch 7/100\n",
      "2325/2325 [==============================] - 72s 31ms/step - loss: 0.1495 - accuracy: 0.9431 - val_loss: 0.4269 - val_accuracy: 0.8712\n",
      "Epoch 8/100\n",
      "2325/2325 [==============================] - 73s 32ms/step - loss: 0.1515 - accuracy: 0.9423 - val_loss: 0.4339 - val_accuracy: 0.8724\n",
      "Epoch 9/100\n",
      "2325/2325 [==============================] - 73s 32ms/step - loss: 0.1498 - accuracy: 0.9432 - val_loss: 0.4289 - val_accuracy: 0.8714\n",
      "Epoch 10/100\n",
      "2325/2325 [==============================] - 73s 32ms/step - loss: 0.1482 - accuracy: 0.9437 - val_loss: 0.4366 - val_accuracy: 0.8711\n",
      "Epoch 11/100\n",
      "2325/2325 [==============================] - 73s 32ms/step - loss: 0.1490 - accuracy: 0.9431 - val_loss: 0.4276 - val_accuracy: 0.8715\n",
      "Epoch 12/100\n",
      "2325/2325 [==============================] - 73s 31ms/step - loss: 0.1483 - accuracy: 0.9435 - val_loss: 0.4305 - val_accuracy: 0.8710\n",
      "Epoch 13/100\n",
      "2325/2325 [==============================] - 73s 32ms/step - loss: 0.1475 - accuracy: 0.9435 - val_loss: 0.4361 - val_accuracy: 0.8713\n",
      "Epoch 14/100\n",
      "2325/2325 [==============================] - 73s 32ms/step - loss: 0.1485 - accuracy: 0.9432 - val_loss: 0.4325 - val_accuracy: 0.8716\n",
      "Epoch 15/100\n",
      "2325/2325 [==============================] - 73s 32ms/step - loss: 0.1474 - accuracy: 0.9442 - val_loss: 0.4379 - val_accuracy: 0.8708\n",
      "Epoch 16/100\n",
      "2325/2325 [==============================] - 73s 32ms/step - loss: 0.1478 - accuracy: 0.9439 - val_loss: 0.4314 - val_accuracy: 0.8713\n",
      "Epoch 17/100\n",
      "2325/2325 [==============================] - 73s 32ms/step - loss: 0.1468 - accuracy: 0.9441 - val_loss: 0.4368 - val_accuracy: 0.8712\n",
      "Epoch 18/100\n",
      "2325/2325 [==============================] - 72s 31ms/step - loss: 0.1465 - accuracy: 0.9445 - val_loss: 0.4298 - val_accuracy: 0.8721\n",
      "Epoch 19/100\n",
      "2325/2325 [==============================] - 73s 32ms/step - loss: 0.1451 - accuracy: 0.9450 - val_loss: 0.4369 - val_accuracy: 0.8698\n",
      "Epoch 20/100\n",
      "2325/2325 [==============================] - 73s 32ms/step - loss: 0.1464 - accuracy: 0.9441 - val_loss: 0.4302 - val_accuracy: 0.8714\n",
      "Epoch 21/100\n",
      "2325/2325 [==============================] - 73s 32ms/step - loss: 0.1476 - accuracy: 0.9445 - val_loss: 0.4351 - val_accuracy: 0.8710\n",
      "Epoch 22/100\n",
      "2325/2325 [==============================] - 73s 32ms/step - loss: 0.1468 - accuracy: 0.9439 - val_loss: 0.4334 - val_accuracy: 0.8705\n",
      "Epoch 23/100\n",
      "2325/2325 [==============================] - 73s 32ms/step - loss: 0.1457 - accuracy: 0.9446 - val_loss: 0.4359 - val_accuracy: 0.8707\n",
      "Epoch 24/100\n",
      "2325/2325 [==============================] - 73s 32ms/step - loss: 0.1444 - accuracy: 0.9446 - val_loss: 0.4324 - val_accuracy: 0.8703\n",
      "Epoch 25/100\n",
      "2325/2325 [==============================] - 73s 31ms/step - loss: 0.1457 - accuracy: 0.9445 - val_loss: 0.4360 - val_accuracy: 0.8714\n",
      "Epoch 26/100\n",
      "2325/2325 [==============================] - 73s 31ms/step - loss: 0.1442 - accuracy: 0.9452 - val_loss: 0.4391 - val_accuracy: 0.8699\n",
      "Epoch 27/100\n",
      "2325/2325 [==============================] - 73s 32ms/step - loss: 0.1454 - accuracy: 0.9448 - val_loss: 0.4323 - val_accuracy: 0.8713\n",
      "Epoch 28/100\n",
      "2325/2325 [==============================] - 73s 32ms/step - loss: 0.1443 - accuracy: 0.9452 - val_loss: 0.4346 - val_accuracy: 0.8719\n",
      "Epoch 29/100\n",
      "2325/2325 [==============================] - 73s 32ms/step - loss: 0.1454 - accuracy: 0.9450 - val_loss: 0.4311 - val_accuracy: 0.8718\n",
      "Epoch 30/100\n",
      "2325/2325 [==============================] - 72s 31ms/step - loss: 0.1463 - accuracy: 0.9445 - val_loss: 0.4347 - val_accuracy: 0.8709\n",
      "Epoch 31/100\n",
      "2325/2325 [==============================] - 73s 32ms/step - loss: 0.1432 - accuracy: 0.9454 - val_loss: 0.4381 - val_accuracy: 0.8713\n",
      "Epoch 32/100\n",
      "2325/2325 [==============================] - 73s 32ms/step - loss: 0.1416 - accuracy: 0.9466 - val_loss: 0.4354 - val_accuracy: 0.8715\n",
      "Epoch 33/100\n",
      "2325/2325 [==============================] - 73s 32ms/step - loss: 0.1421 - accuracy: 0.9460 - val_loss: 0.4405 - val_accuracy: 0.8703\n",
      "Epoch 34/100\n",
      "2325/2325 [==============================] - 73s 31ms/step - loss: 0.1450 - accuracy: 0.9450 - val_loss: 0.4296 - val_accuracy: 0.8725\n",
      "Epoch 35/100\n",
      "2325/2325 [==============================] - 73s 32ms/step - loss: 0.1438 - accuracy: 0.9450 - val_loss: 0.4407 - val_accuracy: 0.8709\n",
      "Epoch 36/100\n",
      "2325/2325 [==============================] - 73s 32ms/step - loss: 0.1438 - accuracy: 0.9460 - val_loss: 0.4363 - val_accuracy: 0.8716\n",
      "Epoch 37/100\n",
      "2325/2325 [==============================] - 73s 32ms/step - loss: 0.1435 - accuracy: 0.9456 - val_loss: 0.4360 - val_accuracy: 0.8716\n",
      "Epoch 38/100\n",
      "2325/2325 [==============================] - 73s 32ms/step - loss: 0.1419 - accuracy: 0.9453 - val_loss: 0.4391 - val_accuracy: 0.8705\n",
      "Epoch 39/100\n",
      "2325/2325 [==============================] - 73s 32ms/step - loss: 0.1416 - accuracy: 0.9460 - val_loss: 0.4302 - val_accuracy: 0.8707\n",
      "Epoch 40/100\n",
      "2325/2325 [==============================] - 73s 32ms/step - loss: 0.1407 - accuracy: 0.9464 - val_loss: 0.4407 - val_accuracy: 0.8704\n",
      "Epoch 41/100\n",
      "2325/2325 [==============================] - 73s 32ms/step - loss: 0.1411 - accuracy: 0.9464 - val_loss: 0.4378 - val_accuracy: 0.8714\n",
      "Epoch 42/100\n",
      "2325/2325 [==============================] - 73s 32ms/step - loss: 0.1400 - accuracy: 0.9466 - val_loss: 0.4360 - val_accuracy: 0.8713\n",
      "Epoch 43/100\n",
      "2325/2325 [==============================] - 73s 31ms/step - loss: 0.1416 - accuracy: 0.9461 - val_loss: 0.4381 - val_accuracy: 0.8715\n",
      "Epoch 44/100\n",
      "2325/2325 [==============================] - 73s 32ms/step - loss: 0.1392 - accuracy: 0.9470 - val_loss: 0.4331 - val_accuracy: 0.8728\n",
      "Epoch 45/100\n",
      "2325/2325 [==============================] - 73s 32ms/step - loss: 0.1411 - accuracy: 0.9462 - val_loss: 0.4357 - val_accuracy: 0.8720\n",
      "Epoch 46/100\n",
      "2325/2325 [==============================] - 73s 32ms/step - loss: 0.1403 - accuracy: 0.9466 - val_loss: 0.4402 - val_accuracy: 0.8705\n",
      "Epoch 47/100\n",
      "2325/2325 [==============================] - 72s 31ms/step - loss: 0.1412 - accuracy: 0.9464 - val_loss: 0.4448 - val_accuracy: 0.8708\n",
      "Epoch 48/100\n",
      "2325/2325 [==============================] - 72s 31ms/step - loss: 0.1394 - accuracy: 0.9470 - val_loss: 0.4381 - val_accuracy: 0.8708\n",
      "Epoch 49/100\n",
      "2325/2325 [==============================] - 73s 31ms/step - loss: 0.1398 - accuracy: 0.9469 - val_loss: 0.4378 - val_accuracy: 0.8711\n",
      "Epoch 50/100\n",
      "2325/2325 [==============================] - 73s 31ms/step - loss: 0.1385 - accuracy: 0.9473 - val_loss: 0.4370 - val_accuracy: 0.8710\n",
      "Epoch 51/100\n",
      "2325/2325 [==============================] - 73s 32ms/step - loss: 0.1404 - accuracy: 0.9466 - val_loss: 0.4394 - val_accuracy: 0.8715\n",
      "Epoch 52/100\n",
      "2325/2325 [==============================] - 73s 32ms/step - loss: 0.1404 - accuracy: 0.9470 - val_loss: 0.4381 - val_accuracy: 0.8711\n",
      "Epoch 53/100\n",
      "2325/2325 [==============================] - 73s 31ms/step - loss: 0.1384 - accuracy: 0.9471 - val_loss: 0.4365 - val_accuracy: 0.8725\n",
      "Epoch 54/100\n",
      "2325/2325 [==============================] - 73s 31ms/step - loss: 0.1380 - accuracy: 0.9477 - val_loss: 0.4400 - val_accuracy: 0.8717\n",
      "Epoch 55/100\n",
      "2325/2325 [==============================] - 73s 32ms/step - loss: 0.1382 - accuracy: 0.9477 - val_loss: 0.4460 - val_accuracy: 0.8700\n",
      "Epoch 56/100\n",
      "2325/2325 [==============================] - 73s 31ms/step - loss: 0.1393 - accuracy: 0.9471 - val_loss: 0.4364 - val_accuracy: 0.8718\n",
      "Epoch 57/100\n",
      "2325/2325 [==============================] - 73s 32ms/step - loss: 0.1381 - accuracy: 0.9475 - val_loss: 0.4381 - val_accuracy: 0.8720\n",
      "Epoch 58/100\n",
      "2325/2325 [==============================] - 73s 32ms/step - loss: 0.1386 - accuracy: 0.9474 - val_loss: 0.4379 - val_accuracy: 0.8720\n",
      "Epoch 59/100\n",
      "2325/2325 [==============================] - 73s 31ms/step - loss: 0.1376 - accuracy: 0.9479 - val_loss: 0.4425 - val_accuracy: 0.8712\n",
      "Epoch 60/100\n",
      "2325/2325 [==============================] - 73s 32ms/step - loss: 0.1384 - accuracy: 0.9477 - val_loss: 0.4470 - val_accuracy: 0.8702\n",
      "Epoch 61/100\n",
      "2325/2325 [==============================] - 73s 32ms/step - loss: 0.1378 - accuracy: 0.9477 - val_loss: 0.4370 - val_accuracy: 0.8719\n",
      "Epoch 62/100\n",
      "2325/2325 [==============================] - 73s 32ms/step - loss: 0.1372 - accuracy: 0.9481 - val_loss: 0.4411 - val_accuracy: 0.8722\n",
      "Epoch 63/100\n",
      "2325/2325 [==============================] - 73s 31ms/step - loss: 0.1369 - accuracy: 0.9478 - val_loss: 0.4381 - val_accuracy: 0.8717\n",
      "Epoch 64/100\n",
      "2325/2325 [==============================] - 73s 32ms/step - loss: 0.1378 - accuracy: 0.9474 - val_loss: 0.4401 - val_accuracy: 0.8720\n",
      "Epoch 65/100\n",
      "2325/2325 [==============================] - 73s 31ms/step - loss: 0.1372 - accuracy: 0.9477 - val_loss: 0.4372 - val_accuracy: 0.8715\n",
      "Epoch 66/100\n",
      "2325/2325 [==============================] - 73s 31ms/step - loss: 0.1356 - accuracy: 0.9485 - val_loss: 0.4417 - val_accuracy: 0.8707\n",
      "Epoch 67/100\n",
      "2325/2325 [==============================] - 73s 32ms/step - loss: 0.1369 - accuracy: 0.9483 - val_loss: 0.4474 - val_accuracy: 0.8707\n",
      "Epoch 68/100\n",
      "2325/2325 [==============================] - 73s 31ms/step - loss: 0.1346 - accuracy: 0.9487 - val_loss: 0.4344 - val_accuracy: 0.8716\n",
      "Epoch 69/100\n",
      "2325/2325 [==============================] - 73s 32ms/step - loss: 0.1348 - accuracy: 0.9489 - val_loss: 0.4405 - val_accuracy: 0.8717\n",
      "Epoch 70/100\n",
      "2325/2325 [==============================] - 73s 32ms/step - loss: 0.1353 - accuracy: 0.9486 - val_loss: 0.4400 - val_accuracy: 0.8720\n",
      "Epoch 71/100\n",
      "2325/2325 [==============================] - 71s 31ms/step - loss: 0.1360 - accuracy: 0.9484 - val_loss: 0.4342 - val_accuracy: 0.8716\n",
      "Epoch 72/100\n",
      "2325/2325 [==============================] - 73s 32ms/step - loss: 0.1348 - accuracy: 0.9487 - val_loss: 0.4421 - val_accuracy: 0.8714\n",
      "Epoch 73/100\n",
      "2325/2325 [==============================] - 73s 32ms/step - loss: 0.1352 - accuracy: 0.9482 - val_loss: 0.4460 - val_accuracy: 0.8721\n",
      "Epoch 74/100\n",
      "2325/2325 [==============================] - 72s 31ms/step - loss: 0.1336 - accuracy: 0.9495 - val_loss: 0.4420 - val_accuracy: 0.8715\n",
      "Epoch 75/100\n",
      "2325/2325 [==============================] - 73s 32ms/step - loss: 0.1342 - accuracy: 0.9488 - val_loss: 0.4405 - val_accuracy: 0.8716\n",
      "Epoch 76/100\n",
      "2325/2325 [==============================] - 73s 32ms/step - loss: 0.1342 - accuracy: 0.9491 - val_loss: 0.4428 - val_accuracy: 0.8724\n",
      "Epoch 77/100\n",
      "2325/2325 [==============================] - 73s 32ms/step - loss: 0.1342 - accuracy: 0.9494 - val_loss: 0.4424 - val_accuracy: 0.8725\n",
      "Epoch 78/100\n",
      "2325/2325 [==============================] - 73s 31ms/step - loss: 0.1328 - accuracy: 0.9494 - val_loss: 0.4393 - val_accuracy: 0.8717\n",
      "Epoch 79/100\n",
      "2325/2325 [==============================] - 73s 32ms/step - loss: 0.1340 - accuracy: 0.9494 - val_loss: 0.4428 - val_accuracy: 0.8714\n",
      "Epoch 80/100\n",
      "2325/2325 [==============================] - 72s 31ms/step - loss: 0.1323 - accuracy: 0.9495 - val_loss: 0.4497 - val_accuracy: 0.8717\n",
      "Epoch 81/100\n",
      "2325/2325 [==============================] - 73s 32ms/step - loss: 0.1340 - accuracy: 0.9492 - val_loss: 0.4446 - val_accuracy: 0.8712\n",
      "Epoch 82/100\n",
      "2325/2325 [==============================] - 73s 32ms/step - loss: 0.1332 - accuracy: 0.9496 - val_loss: 0.4448 - val_accuracy: 0.8716\n",
      "Epoch 83/100\n",
      "2325/2325 [==============================] - 73s 32ms/step - loss: 0.1327 - accuracy: 0.9499 - val_loss: 0.4434 - val_accuracy: 0.8705\n",
      "Epoch 84/100\n",
      "2325/2325 [==============================] - 73s 32ms/step - loss: 0.1330 - accuracy: 0.9500 - val_loss: 0.4366 - val_accuracy: 0.8734\n",
      "Epoch 85/100\n",
      "2325/2325 [==============================] - 73s 32ms/step - loss: 0.1321 - accuracy: 0.9498 - val_loss: 0.4427 - val_accuracy: 0.8716\n",
      "Epoch 86/100\n",
      "2325/2325 [==============================] - 73s 31ms/step - loss: 0.1332 - accuracy: 0.9492 - val_loss: 0.4474 - val_accuracy: 0.8710\n",
      "Epoch 87/100\n",
      "2325/2325 [==============================] - 73s 32ms/step - loss: 0.1316 - accuracy: 0.9504 - val_loss: 0.4427 - val_accuracy: 0.8724\n",
      "Epoch 88/100\n",
      "2325/2325 [==============================] - 73s 32ms/step - loss: 0.1316 - accuracy: 0.9499 - val_loss: 0.4405 - val_accuracy: 0.8724\n",
      "Epoch 89/100\n",
      "2325/2325 [==============================] - 72s 31ms/step - loss: 0.1316 - accuracy: 0.9499 - val_loss: 0.4441 - val_accuracy: 0.8716\n",
      "Epoch 90/100\n",
      "2325/2325 [==============================] - 73s 32ms/step - loss: 0.1322 - accuracy: 0.9500 - val_loss: 0.4436 - val_accuracy: 0.8724\n",
      "Epoch 91/100\n",
      "2325/2325 [==============================] - 73s 32ms/step - loss: 0.1310 - accuracy: 0.9502 - val_loss: 0.4420 - val_accuracy: 0.8719\n",
      "Epoch 92/100\n",
      "2325/2325 [==============================] - 73s 32ms/step - loss: 0.1310 - accuracy: 0.9503 - val_loss: 0.4444 - val_accuracy: 0.8724\n",
      "Epoch 93/100\n",
      "2325/2325 [==============================] - 73s 32ms/step - loss: 0.1310 - accuracy: 0.9508 - val_loss: 0.4464 - val_accuracy: 0.8727\n",
      "Epoch 94/100\n",
      "2325/2325 [==============================] - 73s 32ms/step - loss: 0.1298 - accuracy: 0.9505 - val_loss: 0.4480 - val_accuracy: 0.8722\n",
      "Epoch 95/100\n",
      "2325/2325 [==============================] - 73s 32ms/step - loss: 0.1302 - accuracy: 0.9507 - val_loss: 0.4473 - val_accuracy: 0.8711\n",
      "Epoch 96/100\n",
      "2325/2325 [==============================] - 73s 32ms/step - loss: 0.1311 - accuracy: 0.9506 - val_loss: 0.4483 - val_accuracy: 0.8729\n",
      "Epoch 97/100\n",
      "2325/2325 [==============================] - 73s 31ms/step - loss: 0.1312 - accuracy: 0.9505 - val_loss: 0.4469 - val_accuracy: 0.8726\n",
      "Epoch 98/100\n",
      "2325/2325 [==============================] - 73s 32ms/step - loss: 0.1290 - accuracy: 0.9513 - val_loss: 0.4467 - val_accuracy: 0.8717\n",
      "Epoch 99/100\n",
      "2325/2325 [==============================] - 73s 32ms/step - loss: 0.1302 - accuracy: 0.9509 - val_loss: 0.4454 - val_accuracy: 0.8732\n",
      "Epoch 100/100\n",
      "2325/2325 [==============================] - 73s 31ms/step - loss: 0.1289 - accuracy: 0.9510 - val_loss: 0.4532 - val_accuracy: 0.8724\n"
     ]
    }
   ],
   "source": [
    "with tf.device('/GPU:0'):\n",
    "    history = model.fit(train_ds, epochs=100, steps_per_epoch=2325, validation_data=test_ds, validation_steps=930)"
   ]
  },
  {
   "cell_type": "code",
   "execution_count": 35,
   "metadata": {
    "colab": {},
    "colab_type": "code",
    "id": "CbxYnnKZ5_dl"
   },
   "outputs": [],
   "source": [
    "plt.figure(figsize=(20, 8))\n",
    "plt.subplot(1, 2, 1)\n",
    "plt.plot(history.history['accuracy'], label='accuracy')\n",
    "plt.plot(history.history['val_accuracy'], label = 'val_accuracy')\n",
    "plt.xlabel('Epoch')\n",
    "plt.ylabel('Accuracy')\n",
    "plt.legend(loc='lower right')\n",
    "plt.subplot(1, 2, 2)\n",
    "plt.plot(history.history['loss'], label='loss')\n",
    "plt.plot(history.history['val_loss'], label = 'val_loss')\n",
    "plt.xlabel('Epoch')\n",
    "plt.ylabel('Loss')\n",
    "plt.legend(loc='upper right')"
   ]
  },
  {
   "cell_type": "code",
   "execution_count": null,
   "metadata": {},
   "outputs": [],
   "source": []
  }
 ],
 "metadata": {
  "accelerator": "GPU",
  "colab": {
   "collapsed_sections": [],
   "name": "new_arch.ipynb",
   "provenance": []
  },
  "kernelspec": {
   "display_name": "Python 3",
   "language": "python",
   "name": "python3"
  },
  "language_info": {
   "codemirror_mode": {
    "name": "ipython",
    "version": 3
   },
   "file_extension": ".py",
   "mimetype": "text/x-python",
   "name": "python",
   "nbconvert_exporter": "python",
   "pygments_lexer": "ipython3",
   "version": "3.6.10"
  }
 },
 "nbformat": 4,
 "nbformat_minor": 1
}