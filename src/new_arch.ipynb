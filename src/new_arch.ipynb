{
  "nbformat": 4,
  "nbformat_minor": 0,
  "metadata": {
    "kernelspec": {
      "display_name": "Python 3",
      "language": "python",
      "name": "python3"
    },
    "language_info": {
      "codemirror_mode": {
        "name": "ipython",
        "version": 2
      },
      "file_extension": ".py",
      "mimetype": "text/x-python",
      "name": "python",
      "nbconvert_exporter": "python",
      "pygments_lexer": "ipython2",
      "version": "2.7.6"
    },
    "colab": {
      "name": "new_arch.ipynb",
      "provenance": [],
      "collapsed_sections": []
    },
    "accelerator": "GPU"
  },
  "cells": [
    {
      "cell_type": "code",
      "metadata": {
        "id": "LexRCkgEPJ1C",
        "colab_type": "code",
        "colab": {}
      },
      "source": [
        "from __future__ import absolute_import, division, print_function, unicode_literals\n",
        " \n",
        "import tensorflow as tf\n",
        "import pathlib\n",
        "import random\n",
        "import matplotlib.pyplot as plt"
      ],
      "execution_count": null,
      "outputs": []
    },
    {
      "cell_type": "code",
      "metadata": {
        "id": "VR85s8XpN7wn",
        "colab_type": "code",
        "colab": {
          "base_uri": "https://localhost:8080/",
          "height": 34
        },
        "outputId": "d9b51065-cad0-4f1a-95d8-ff5ed87c0055"
      },
      "source": [
        "!git clone https://github.com/DKuzn/Recognition_RusHandRilNet.git"
      ],
      "execution_count": null,
      "outputs": [
        {
          "output_type": "stream",
          "text": [
            "fatal: destination path 'Recognition_RusHandRilNet' already exists and is not an empty directory.\n"
          ],
          "name": "stdout"
        }
      ]
    },
    {
      "cell_type": "code",
      "metadata": {
        "pycharm": {
          "name": "#%%\n"
        },
        "id": "uhmnBuQkPJ1J",
        "colab_type": "code",
        "colab": {}
      },
      "source": [
        "AUTOTUNE = tf.data.experimental.AUTOTUNE\n",
        "BATCH_SIZE = 100"
      ],
      "execution_count": null,
      "outputs": []
    },
    {
      "cell_type": "code",
      "metadata": {
        "pycharm": {
          "name": "#%%\n"
        },
        "id": "zZ2ebexlPJ1M",
        "colab_type": "code",
        "colab": {}
      },
      "source": [
        "data_root_orig_train = '/content/Recognition_RusHandRilNet/Train'\n",
        "data_root_train = pathlib.Path(data_root_orig_train)\n",
        "data_root_orig_test = '/content/Recognition_RusHandRilNet/Test'\n",
        "data_root_test = pathlib.Path(data_root_orig_test)"
      ],
      "execution_count": null,
      "outputs": []
    },
    {
      "cell_type": "code",
      "metadata": {
        "pycharm": {
          "name": "#%%\n"
        },
        "colab_type": "code",
        "id": "4_qP3V8LkEuB",
        "colab": {}
      },
      "source": [
        "train_image_paths = list(data_root_train.glob('*/*'))\n",
        "train_image_paths = [str(path) for path in train_image_paths]\n",
        "random.shuffle(train_image_paths)\n",
        "\n",
        "image_count = len(train_image_paths)"
      ],
      "execution_count": null,
      "outputs": []
    },
    {
      "cell_type": "code",
      "metadata": {
        "colab_type": "code",
        "id": "2LceFVXrkIM3",
        "colab": {}
      },
      "source": [
        "test_image_paths = list(data_root_test.glob('*/*'))\n",
        "test_image_paths = [str(path) for path in test_image_paths]\n",
        "random.shuffle(test_image_paths)\n",
        "\n",
        "image_count = len(test_image_paths)"
      ],
      "execution_count": null,
      "outputs": []
    },
    {
      "cell_type": "code",
      "metadata": {
        "pycharm": {
          "name": "#%%\n"
        },
        "id": "VETGsQfgPJ1R",
        "colab_type": "code",
        "colab": {}
      },
      "source": [
        "train_image_paths = list(data_root_train.glob('*/*'))\n",
        "train_image_paths = [str(path) for path in train_image_paths]\n",
        "random.shuffle(train_image_paths)"
      ],
      "execution_count": null,
      "outputs": []
    },
    {
      "cell_type": "code",
      "metadata": {
        "id": "weW4XW0KvDR1",
        "colab_type": "code",
        "colab": {}
      },
      "source": [
        "test_image_paths = list(data_root_test.glob('*/*'))\n",
        "test_image_paths = [str(path) for path in test_image_paths]\n",
        "random.shuffle(test_image_paths)"
      ],
      "execution_count": null,
      "outputs": []
    },
    {
      "cell_type": "code",
      "metadata": {
        "pycharm": {
          "name": "#%%\n"
        },
        "id": "1jwYGLUBPJ1b",
        "colab_type": "code",
        "colab": {}
      },
      "source": [
        "train_label_names = sorted(item.name for item in data_root_train.glob('*/') if item.is_dir())\n",
        "test_label_names = sorted(item.name for item in data_root_test.glob('*/') if item.is_dir())\n",
        "train_label_to_index = dict((name, index) for index, name in enumerate(train_label_names))\n",
        "test_label_to_index = dict((name, index) for index, name in enumerate(test_label_names))\n"
      ],
      "execution_count": null,
      "outputs": []
    },
    {
      "cell_type": "code",
      "metadata": {
        "pycharm": {
          "name": "#%%\n"
        },
        "id": "T0Md5MqPPJ1g",
        "colab_type": "code",
        "colab": {}
      },
      "source": [
        "train_image_labels = [train_label_to_index[pathlib.Path(path).parent.name]\n",
        "                    for path in train_image_paths]\n"
      ],
      "execution_count": null,
      "outputs": []
    },
    {
      "cell_type": "code",
      "metadata": {
        "id": "xgpNP87zw2N1",
        "colab_type": "code",
        "colab": {}
      },
      "source": [
        "test_image_labels = [test_label_to_index[pathlib.Path(path).parent.name]\n",
        "                    for path in test_image_paths]\n"
      ],
      "execution_count": null,
      "outputs": []
    },
    {
      "cell_type": "code",
      "metadata": {
        "pycharm": {
          "name": "#%%\n"
        },
        "id": "R99Hp0nePJ1s",
        "colab_type": "code",
        "colab": {}
      },
      "source": [
        "def preprocess_image(image):\n",
        "    image = tf.io.decode_jpeg(image, channels=1)\n",
        "    image = tf.image.resize(image, [28, 28])\n",
        "    image /= 255.0\n",
        "\n",
        "    return image"
      ],
      "execution_count": null,
      "outputs": []
    },
    {
      "cell_type": "code",
      "metadata": {
        "pycharm": {
          "name": "#%%\n"
        },
        "id": "RxJcX0GPPJ1u",
        "colab_type": "code",
        "colab": {}
      },
      "source": [
        "def load_and_preprocess_image(path):\n",
        "    image = tf.io.read_file(path)\n",
        "    return preprocess_image(image)"
      ],
      "execution_count": null,
      "outputs": []
    },
    {
      "cell_type": "code",
      "metadata": {
        "pycharm": {
          "name": "#%%\n"
        },
        "id": "BF0fjZfTPJ1z",
        "colab_type": "code",
        "colab": {}
      },
      "source": [
        "train_path_ds = tf.data.Dataset.from_tensor_slices(train_image_paths)\n",
        "test_path_ds = tf.data.Dataset.from_tensor_slices(test_image_paths)\n",
        "\n",
        "train_image_ds = train_path_ds.map(load_and_preprocess_image, num_parallel_calls=AUTOTUNE)\n",
        "test_image_ds = test_path_ds.map(load_and_preprocess_image, num_parallel_calls=AUTOTUNE)\n",
        "\n",
        "train_label_ds = tf.data.Dataset.from_tensor_slices(tf.cast(train_image_labels, tf.int64))\n",
        "test_label_ds = tf.data.Dataset.from_tensor_slices(tf.cast(test_image_labels, tf.int64))\n",
        "\n",
        "train_image_label_ds = tf.data.Dataset.zip((train_image_ds, train_label_ds))\n",
        "test_image_label_ds = tf.data.Dataset.zip((test_image_ds, test_label_ds))"
      ],
      "execution_count": null,
      "outputs": []
    },
    {
      "cell_type": "code",
      "metadata": {
        "pycharm": {
          "name": "#%%\n"
        },
        "id": "fW1fDchVPJ2H",
        "colab_type": "code",
        "colab": {}
      },
      "source": [
        "train_ds = train_image_label_ds.apply(\n",
        "  tf.data.experimental.shuffle_and_repeat(buffer_size=image_count))\n",
        "train_ds = train_ds.batch(BATCH_SIZE)\n",
        "train_ds = train_ds.prefetch(buffer_size=AUTOTUNE)"
      ],
      "execution_count": null,
      "outputs": []
    },
    {
      "cell_type": "code",
      "metadata": {
        "id": "0vf964Lt36Ho",
        "colab_type": "code",
        "colab": {}
      },
      "source": [
        "test_ds = test_image_label_ds.apply(\n",
        "  tf.data.experimental.shuffle_and_repeat(buffer_size=image_count))\n",
        "test_ds = test_ds.batch(BATCH_SIZE)\n",
        "test_ds = test_ds.prefetch(buffer_size=AUTOTUNE)"
      ],
      "execution_count": null,
      "outputs": []
    },
    {
      "cell_type": "code",
      "metadata": {
        "pycharm": {
          "name": "#%%\n"
        },
        "id": "OxjT5uaBPJ2N",
        "colab_type": "code",
        "colab": {}
      },
      "source": [
        "model = tf.keras.models.Sequential()\n",
        "model.add(tf.keras.layers.Conv2D(filters=62, \n",
        "                                 kernel_size=(3, 3), \n",
        "                                 activation='relu', \n",
        "                                 padding='valid', \n",
        "                                 input_shape=(28, 28, 1)))\n",
        "model.add(tf.keras.layers.Conv2D(filters=62, \n",
        "                                 kernel_size=(3, 3), \n",
        "                                 activation='relu', \n",
        "                                 padding='valid'))\n",
        "model.add(tf.keras.layers.MaxPool2D((2, 2), strides=(2, 2)))\n",
        "model.add(tf.keras.layers.Conv2D(filters=124, \n",
        "                                 kernel_size=(3, 3), \n",
        "                                 activation='relu', \n",
        "                                 padding='valid'))\n",
        "model.add(tf.keras.layers.Conv2D(filters=124, \n",
        "                                 kernel_size=(3, 3), \n",
        "                                 activation='relu', \n",
        "                                 padding='valid'))\n",
        "model.add(tf.keras.layers.MaxPool2D((2, 2), strides=(2, 2)))\n",
        "model.add(tf.keras.layers.Conv2D(filters=248, \n",
        "                                 kernel_size=(3, 3), \n",
        "                                 activation='relu', \n",
        "                                 padding='valid'))\n",
        "model.add(tf.keras.layers.MaxPool2D((2, 2), strides=(2, 2)))\n",
        "model.add(tf.keras.layers.Dropout(0.5))\n",
        "model.add(tf.keras.layers.Flatten())\n",
        "model.add(tf.keras.layers.Dense(124, activation='relu'))\n",
        "model.add(tf.keras.layers.Dense(62))"
      ],
      "execution_count": null,
      "outputs": []
    },
    {
      "cell_type": "code",
      "metadata": {
        "pycharm": {
          "name": "#%%\n"
        },
        "id": "c5CmE4WEPJ2T",
        "colab_type": "code",
        "colab": {
          "base_uri": "https://localhost:8080/",
          "height": 34
        },
        "outputId": "0c441158-c8ba-435e-e09a-5f7fdf41ccc6"
      },
      "source": [
        "len(model.trainable_variables)"
      ],
      "execution_count": null,
      "outputs": [
        {
          "output_type": "execute_result",
          "data": {
            "text/plain": [
              "14"
            ]
          },
          "metadata": {
            "tags": []
          },
          "execution_count": 94
        }
      ]
    },
    {
      "cell_type": "code",
      "metadata": {
        "pycharm": {
          "name": "#%%\n"
        },
        "id": "T-DPfQIaPJ2V",
        "colab_type": "code",
        "colab": {
          "base_uri": "https://localhost:8080/",
          "height": 561
        },
        "outputId": "f7a72443-0065-44fb-e552-d1fd1212f189"
      },
      "source": [
        "model.summary()"
      ],
      "execution_count": null,
      "outputs": [
        {
          "output_type": "stream",
          "text": [
            "Model: \"sequential_8\"\n",
            "_________________________________________________________________\n",
            "Layer (type)                 Output Shape              Param #   \n",
            "=================================================================\n",
            "conv2d_41 (Conv2D)           (None, 26, 26, 62)        620       \n",
            "_________________________________________________________________\n",
            "conv2d_42 (Conv2D)           (None, 24, 24, 62)        34658     \n",
            "_________________________________________________________________\n",
            "max_pooling2d_22 (MaxPooling (None, 12, 12, 62)        0         \n",
            "_________________________________________________________________\n",
            "conv2d_43 (Conv2D)           (None, 10, 10, 124)       69316     \n",
            "_________________________________________________________________\n",
            "conv2d_44 (Conv2D)           (None, 8, 8, 124)         138508    \n",
            "_________________________________________________________________\n",
            "max_pooling2d_23 (MaxPooling (None, 4, 4, 124)         0         \n",
            "_________________________________________________________________\n",
            "conv2d_45 (Conv2D)           (None, 2, 2, 248)         277016    \n",
            "_________________________________________________________________\n",
            "max_pooling2d_24 (MaxPooling (None, 1, 1, 248)         0         \n",
            "_________________________________________________________________\n",
            "dropout_3 (Dropout)          (None, 1, 1, 248)         0         \n",
            "_________________________________________________________________\n",
            "flatten_7 (Flatten)          (None, 248)               0         \n",
            "_________________________________________________________________\n",
            "dense_17 (Dense)             (None, 124)               30876     \n",
            "_________________________________________________________________\n",
            "dense_18 (Dense)             (None, 62)                7750      \n",
            "=================================================================\n",
            "Total params: 558,744\n",
            "Trainable params: 558,744\n",
            "Non-trainable params: 0\n",
            "_________________________________________________________________\n"
          ],
          "name": "stdout"
        }
      ]
    },
    {
      "cell_type": "code",
      "metadata": {
        "id": "pn1VgcR3gLnt",
        "colab_type": "code",
        "colab": {}
      },
      "source": [
        "model.compile(optimizer=tf.keras.optimizers.Adam(),\n",
        "              loss=tf.keras.losses.SparseCategoricalCrossentropy(from_logits=True),\n",
        "              metrics=['accuracy'])"
      ],
      "execution_count": null,
      "outputs": []
    },
    {
      "cell_type": "code",
      "metadata": {
        "pycharm": {
          "name": "#%%\n"
        },
        "id": "E36SHexYPJ2X",
        "colab_type": "code",
        "colab": {
          "base_uri": "https://localhost:8080/",
          "height": 34
        },
        "outputId": "5780a203-abf4-4e4a-d67d-c1d60fd69a81"
      },
      "source": [
        "steps_per_epoch=tf.math.ceil(len(train_image_paths)/BATCH_SIZE).numpy()\n",
        "steps_per_epoch"
      ],
      "execution_count": null,
      "outputs": [
        {
          "output_type": "execute_result",
          "data": {
            "text/plain": [
              "2325.0"
            ]
          },
          "metadata": {
            "tags": []
          },
          "execution_count": 98
        }
      ]
    },
    {
      "cell_type": "code",
      "metadata": {
        "pycharm": {
          "name": "#%%\n"
        },
        "id": "Uph-LZazPJ2Z",
        "colab_type": "code",
        "colab": {}
      },
      "source": [
        "with tf.device('/GPU:0'):\n",
        "    history = model.fit(train_ds, epochs=100, steps_per_epoch=2325, validation_data=test_ds, validation_steps=930)"
      ],
      "execution_count": null,
      "outputs": []
    },
    {
      "cell_type": "code",
      "metadata": {
        "id": "lz5-brwCcE9M",
        "colab_type": "code",
        "colab": {}
      },
      "source": [
        "plt.figure(figsize=(20, 8))\n",
        "plt.subplot(1, 2, 1)\n",
        "plt.plot(history.history['accuracy'], label='accuracy')\n",
        "plt.plot(history.history['val_accuracy'], label = 'val_accuracy')\n",
        "plt.xlabel('Epoch')\n",
        "plt.ylabel('Accuracy')\n",
        "plt.legend(loc='lower right')\n",
        "plt.subplot(1, 2, 2)\n",
        "plt.plot(history.history['loss'], label='loss')\n",
        "plt.plot(history.history['val_loss'], label = 'val_loss')\n",
        "plt.xlabel('Epoch')\n",
        "plt.ylabel('Loss')\n",
        "plt.legend(loc='upper right')"
      ],
      "execution_count": null,
      "outputs": []
    },
    {
      "cell_type": "code",
      "metadata": {
        "id": "vQGLaPy-AUje",
        "colab_type": "code",
        "colab": {}
      },
      "source": [
        "# from google.colab import drive\n",
        "# drive.mount('/content/drive')"
      ],
      "execution_count": null,
      "outputs": []
    },
    {
      "cell_type": "code",
      "metadata": {
        "id": "CbxYnnKZ5_dl",
        "colab_type": "code",
        "colab": {}
      },
      "source": [
        "# model.save('Recognition_RusHandRilNet_new_arch_v3.h5')"
      ],
      "execution_count": null,
      "outputs": []
    }
  ]
}