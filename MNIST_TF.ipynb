{
  "nbformat": 4,
  "nbformat_minor": 0,
  "metadata": {
    "colab": {
      "name": "MNIST TF.ipynb",
      "provenance": [],
      "collapsed_sections": [],
      "include_colab_link": true
    },
    "kernelspec": {
      "display_name": "Python 3",
      "name": "python3"
    },
    "accelerator": "GPU"
  },
  "cells": [
    {
      "cell_type": "markdown",
      "metadata": {
        "id": "view-in-github",
        "colab_type": "text"
      },
      "source": [
        "<a href=\"https://colab.research.google.com/github/DKuzn/Recognition-RusHandRilNet/blob/master/MNIST_TF.ipynb\" target=\"_parent\"><img src=\"https://colab.research.google.com/assets/colab-badge.svg\" alt=\"Open In Colab\"/></a>"
      ]
    },
    {
      "cell_type": "code",
      "metadata": {
        "colab_type": "code",
        "id": "0trJmd6DjqBZ",
        "colab": {}
      },
      "source": [
        "import tensorflow as tf\n",
        "\n",
        "from tensorflow.keras.layers import Dense, Flatten, Conv2D\n",
        "from tensorflow.keras import Model\n",
        "import matplotlib.pyplot as plt"
      ],
      "execution_count": null,
      "outputs": []
    },
    {
      "cell_type": "code",
      "metadata": {
        "id": "vNDSa_FWdgxa",
        "colab_type": "code",
        "colab": {
          "base_uri": "https://localhost:8080/",
          "height": 34
        },
        "outputId": "2422ff96-7413-406a-8298-6f2b1d6225b5"
      },
      "source": [
        "print(\"Num GPUs Available: \", len(tf.config.experimental.list_physical_devices('GPU')))"
      ],
      "execution_count": null,
      "outputs": [
        {
          "output_type": "stream",
          "text": [
            "Num GPUs Available:  1\n"
          ],
          "name": "stdout"
        }
      ]
    },
    {
      "cell_type": "code",
      "metadata": {
        "colab_type": "code",
        "id": "JqFRS6K07jJs",
        "colab": {
          "base_uri": "https://localhost:8080/",
          "height": 51
        },
        "outputId": "48a5cdb2-654d-4c03-afab-21d114ada27c"
      },
      "source": [
        "mnist = tf.keras.datasets.mnist\n",
        "\n",
        "(x_train, y_train), (x_test, y_test) = mnist.load_data()\n",
        "x_train, x_test = x_train / 255.0, x_test / 255.0\n",
        "\n",
        "# Add a channels dimension\n",
        "x_train = x_train[..., tf.newaxis]\n",
        "x_test = x_test[..., tf.newaxis]"
      ],
      "execution_count": null,
      "outputs": [
        {
          "output_type": "stream",
          "text": [
            "Downloading data from https://storage.googleapis.com/tensorflow/tf-keras-datasets/mnist.npz\n",
            "11493376/11490434 [==============================] - 0s 0us/step\n"
          ],
          "name": "stdout"
        }
      ]
    },
    {
      "cell_type": "code",
      "metadata": {
        "colab_type": "code",
        "id": "8Iu_quO024c2",
        "colab": {}
      },
      "source": [
        "train_ds = tf.data.Dataset.from_tensor_slices(\n",
        "    (x_train, y_train)).shuffle(10000).batch(32)\n",
        "test_ds = tf.data.Dataset.from_tensor_slices((x_test, y_test)).batch(32)"
      ],
      "execution_count": null,
      "outputs": []
    },
    {
      "cell_type": "code",
      "metadata": {
        "colab_type": "code",
        "id": "h3IKyzTCDNGo",
        "colab": {}
      },
      "source": [
        "class MyModel(Model):\n",
        "    def __init__(self):\n",
        "        super(MyModel, self).__init__()\n",
        "        self.conv1 = Conv2D(32, 3, activation='relu')\n",
        "        self.flatten = Flatten()\n",
        "        self.d1 = Dense(128, activation='relu')\n",
        "        self.d2 = Dense(10, activation='softmax')\n",
        "\n",
        "    def call(self, x):\n",
        "        x = self.conv1(x)\n",
        "        x = self.flatten(x)\n",
        "        x = self.d1(x)\n",
        "        return self.d2(x)\n",
        "\n",
        "model = MyModel()"
      ],
      "execution_count": null,
      "outputs": []
    },
    {
      "cell_type": "code",
      "metadata": {
        "colab_type": "code",
        "id": "u48C9WQ774n4",
        "colab": {}
      },
      "source": [
        "loss_object = tf.keras.losses.SparseCategoricalCrossentropy()\n",
        "\n",
        "optimizer = tf.keras.optimizers.Adam()"
      ],
      "execution_count": null,
      "outputs": []
    },
    {
      "cell_type": "code",
      "metadata": {
        "colab_type": "code",
        "id": "N0MqHFb4F_qn",
        "colab": {}
      },
      "source": [
        "train_loss = tf.keras.metrics.Mean(name='train_loss')\n",
        "train_accuracy = tf.keras.metrics.SparseCategoricalAccuracy(name='train_accuracy')\n",
        "\n",
        "test_loss = tf.keras.metrics.Mean(name='test_loss')\n",
        "test_accuracy = tf.keras.metrics.SparseCategoricalAccuracy(name='test_accuracy')"
      ],
      "execution_count": null,
      "outputs": []
    },
    {
      "cell_type": "code",
      "metadata": {
        "colab_type": "code",
        "id": "OZACiVqA8KQV",
        "colab": {}
      },
      "source": [
        "@tf.function\n",
        "def train_step(images, labels):\n",
        "    with tf.GradientTape() as tape:\n",
        "        predictions = model(images)\n",
        "        loss = loss_object(labels, predictions)\n",
        "    gradients = tape.gradient(loss, model.trainable_variables)\n",
        "    optimizer.apply_gradients(zip(gradients, model.trainable_variables))\n",
        "\n",
        "    train_loss(loss)\n",
        "    train_accuracy(labels, predictions)"
      ],
      "execution_count": null,
      "outputs": []
    },
    {
      "cell_type": "code",
      "metadata": {
        "colab_type": "code",
        "id": "xIKdEzHAJGt7",
        "colab": {}
      },
      "source": [
        "@tf.function\n",
        "def test_step(images, labels):\n",
        "    predictions = model(images)\n",
        "    t_loss = loss_object(labels, predictions)\n",
        "\n",
        "    test_loss(t_loss)\n",
        "    test_accuracy(labels, predictions)"
      ],
      "execution_count": null,
      "outputs": []
    },
    {
      "cell_type": "code",
      "metadata": {
        "colab_type": "code",
        "id": "i-2pkctU_Ci7",
        "colab": {
          "base_uri": "https://localhost:8080/",
          "height": 357
        },
        "outputId": "7b8dc2cc-7f67-430f-8506-e3319e5dca9f"
      },
      "source": [
        "loss_train = []\n",
        "loss_test = []\n",
        "accuracy_train = []\n",
        "accuracy_test = []\n",
        "\n",
        "EPOCHS = 20\n",
        "\n",
        "with tf.device('/GPU:0'):\n",
        "    for epoch in range(EPOCHS):\n",
        "        for images, labels in train_ds:\n",
        "            train_step(images, labels)\n",
        "\n",
        "        for test_images, test_labels in test_ds:\n",
        "            test_step(test_images, test_labels)\n",
        "\n",
        "        template = 'Epoch {}, Loss: {}, Accuracy: {}, Test Loss: {}, Test Accuracy: {}'\n",
        "        print (template.format(epoch+1,\n",
        "                                train_loss.result(),\n",
        "                                train_accuracy.result()*100,\n",
        "                                test_loss.result(),\n",
        "                                test_accuracy.result()*100))\n",
        "        loss_train.append(train_loss.result())\n",
        "        loss_test.append(test_loss.result())\n",
        "        accuracy_train.append(train_accuracy.result())\n",
        "        accuracy_test.append(test_accuracy.result())"
      ],
      "execution_count": null,
      "outputs": [
        {
          "output_type": "stream",
          "text": [
            "Epoch 1, Loss: 0.013226071372628212, Accuracy: 99.58881378173828, Test Loss: 0.08376575261354446, Test Accuracy: 98.39380645751953\n",
            "Epoch 2, Loss: 0.012721343897283077, Accuracy: 99.60462188720703, Test Loss: 0.08512536436319351, Test Accuracy: 98.40045928955078\n",
            "Epoch 3, Loss: 0.012226644903421402, Accuracy: 99.61956787109375, Test Loss: 0.08624927699565887, Test Accuracy: 98.40739440917969\n",
            "Epoch 4, Loss: 0.011826388537883759, Accuracy: 99.632568359375, Test Loss: 0.08803848177194595, Test Accuracy: 98.40625\n",
            "Epoch 5, Loss: 0.011430232785642147, Accuracy: 99.64500427246094, Test Loss: 0.08929728716611862, Test Accuracy: 98.40999603271484\n",
            "Epoch 6, Loss: 0.011043770238757133, Accuracy: 99.65699005126953, Test Loss: 0.09038880467414856, Test Accuracy: 98.40846252441406\n",
            "Epoch 7, Loss: 0.010724732652306557, Accuracy: 99.66747283935547, Test Loss: 0.09170770645141602, Test Accuracy: 98.40184783935547\n",
            "Epoch 8, Loss: 0.010354136116802692, Accuracy: 99.67898559570312, Test Loss: 0.09223153442144394, Test Accuracy: 98.40928649902344\n",
            "Epoch 9, Loss: 0.01006050780415535, Accuracy: 99.68827056884766, Test Loss: 0.09360168874263763, Test Accuracy: 98.40965270996094\n",
            "Epoch 10, Loss: 0.00976149644702673, Accuracy: 99.69789123535156, Test Loss: 0.09515135735273361, Test Accuracy: 98.40766906738281\n",
            "Epoch 11, Loss: 0.009469451382756233, Accuracy: 99.70709991455078, Test Loss: 0.09668043255805969, Test Accuracy: 98.40515899658203\n",
            "Epoch 12, Loss: 0.009227048605680466, Accuracy: 99.71495056152344, Test Loss: 0.09749216586351395, Test Accuracy: 98.41124725341797\n",
            "Epoch 13, Loss: 0.009006699547171593, Accuracy: 99.72176361083984, Test Loss: 0.0991378054022789, Test Accuracy: 98.4103012084961\n",
            "Epoch 14, Loss: 0.008771752007305622, Accuracy: 99.72901916503906, Test Loss: 0.10029910504817963, Test Accuracy: 98.41206359863281\n",
            "Epoch 15, Loss: 0.008543374016880989, Accuracy: 99.73623657226562, Test Loss: 0.1015840396285057, Test Accuracy: 98.41400146484375\n",
            "Epoch 16, Loss: 0.008380203507840633, Accuracy: 99.74185180664062, Test Loss: 0.10261701792478561, Test Accuracy: 98.4155502319336\n",
            "Epoch 17, Loss: 0.00816285703331232, Accuracy: 99.74846649169922, Test Loss: 0.10326477140188217, Test Accuracy: 98.42080688476562\n",
            "Epoch 18, Loss: 0.00794836413115263, Accuracy: 99.75508880615234, Test Loss: 0.1039658784866333, Test Accuracy: 98.42842102050781\n",
            "Epoch 19, Loss: 0.007744563743472099, Accuracy: 99.76136779785156, Test Loss: 0.10459602624177933, Test Accuracy: 98.43563842773438\n",
            "Epoch 20, Loss: 0.0075509496964514256, Accuracy: 99.767333984375, Test Loss: 0.1051970049738884, Test Accuracy: 98.44249725341797\n"
          ],
          "name": "stdout"
        }
      ]
    },
    {
      "cell_type": "code",
      "metadata": {
        "id": "bJPZsIhlV8eP",
        "colab_type": "code",
        "colab": {
          "base_uri": "https://localhost:8080/",
          "height": 296
        },
        "outputId": "52d21831-a8ac-4d33-c7a6-4c10e72b8a38"
      },
      "source": [
        "plt.plot(accuracy_train, label='accuracy')\n",
        "plt.plot(accuracy_test, label = 'val_accuracy')\n",
        "plt.xlabel('Epoch')\n",
        "plt.ylabel('Accuracy')\n",
        "plt.legend(loc='right')"
      ],
      "execution_count": null,
      "outputs": [
        {
          "output_type": "execute_result",
          "data": {
            "text/plain": [
              "<matplotlib.legend.Legend at 0x7fae7096a6d8>"
            ]
          },
          "metadata": {
            "tags": []
          },
          "execution_count": 17
        },
        {
          "output_type": "display_data",
          "data": {
            "image/png": "[encoded data removed]",
            "text/plain": [
              "<Figure size 432x288 with 1 Axes>"
            ]
          },
          "metadata": {
            "tags": [],
            "needs_background": "light"
          }
        }
      ]
    },
    {
      "cell_type": "code",
      "metadata": {
        "id": "kxRc81IZiXey",
        "colab_type": "code",
        "colab": {}
      },
      "source": [
        "#loss_train.clear()\n",
        "#loss_test.clear()\n",
        "#accuracy_train.clear()\n",
        "#accuracy_test.clear()"
      ],
      "execution_count": null,
      "outputs": []
    },
    {
      "cell_type": "code",
      "metadata": {
        "id": "9yhthech7dEg",
        "colab_type": "code",
        "colab": {
          "base_uri": "https://localhost:8080/",
          "height": 34
        },
        "outputId": "8b0de303-81fd-4cca-e1dd-1fb31b6fa234"
      },
      "source": [
        "print(loss_train[0])"
      ],
      "execution_count": null,
      "outputs": [
        {
          "output_type": "stream",
          "text": [
            "tf.Tensor(0.013226071, shape=(), dtype=float32)\n"
          ],
          "name": "stdout"
        }
      ]
    }
  ]
}